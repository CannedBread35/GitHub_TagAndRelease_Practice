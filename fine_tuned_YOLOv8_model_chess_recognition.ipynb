{
  "nbformat": 4,
  "nbformat_minor": 0,
  "metadata": {
    "colab": {
      "provenance": [],
      "collapsed_sections": [
        "hFaSjAl0zdTs"
      ],
      "authorship_tag": "ABX9TyNXCYARkw/KhAiDpnJqrE+6",
      "include_colab_link": true
    },
    "kernelspec": {
      "name": "python3",
      "display_name": "Python 3"
    },
    "language_info": {
      "name": "python"
    }
  },
  "cells": [
    {
      "cell_type": "markdown",
      "metadata": {
        "id": "view-in-github",
        "colab_type": "text"
      },
      "source": [
        "<a href=\"https://colab.research.google.com/github/CannedBread35/GitHub_TagAndRelease_Practice/blob/main/fine_tuned_YOLOv8_model_chess_recognition.ipynb\" target=\"_parent\"><img src=\"https://colab.research.google.com/assets/colab-badge.svg\" alt=\"Open In Colab\"/></a>"
      ]
    },
    {
      "cell_type": "markdown",
      "source": [
        "The below cell's output: determination if a GPU is available for training."
      ],
      "metadata": {
        "id": "GZAaQ-L4r3OJ"
      }
    },
    {
      "cell_type": "code",
      "source": [
        "gpu_info = !nvidia-smi\n",
        "gpu_info = '\\n'.join(gpu_info)\n",
        "if gpu_info.find('failed') >= 0:\n",
        "  print('Not connected to a GPU')\n",
        "else:\n",
        "  print(gpu_info)"
      ],
      "metadata": {
        "colab": {
          "base_uri": "https://localhost:8080/"
        },
        "id": "vJV_jcbXMxjQ",
        "outputId": "04beda04-ae8b-4f96-dac5-108c7a1550c5"
      },
      "execution_count": null,
      "outputs": [
        {
          "output_type": "stream",
          "name": "stdout",
          "text": [
            "Tue Mar  5 01:25:24 2024       \n",
            "+---------------------------------------------------------------------------------------+\n",
            "| NVIDIA-SMI 535.104.05             Driver Version: 535.104.05   CUDA Version: 12.2     |\n",
            "|-----------------------------------------+----------------------+----------------------+\n",
            "| GPU  Name                 Persistence-M | Bus-Id        Disp.A | Volatile Uncorr. ECC |\n",
            "| Fan  Temp   Perf          Pwr:Usage/Cap |         Memory-Usage | GPU-Util  Compute M. |\n",
            "|                                         |                      |               MIG M. |\n",
            "|=========================================+======================+======================|\n",
            "|   0  Tesla T4                       Off | 00000000:00:04.0 Off |                    0 |\n",
            "| N/A   39C    P8               9W /  70W |      0MiB / 15360MiB |      0%      Default |\n",
            "|                                         |                      |                  N/A |\n",
            "+-----------------------------------------+----------------------+----------------------+\n",
            "                                                                                         \n",
            "+---------------------------------------------------------------------------------------+\n",
            "| Processes:                                                                            |\n",
            "|  GPU   GI   CI        PID   Type   Process name                            GPU Memory |\n",
            "|        ID   ID                                                             Usage      |\n",
            "|=======================================================================================|\n",
            "|  No running processes found                                                           |\n",
            "+---------------------------------------------------------------------------------------+\n"
          ]
        }
      ]
    },
    {
      "cell_type": "code",
      "source": [
        "!nvidia-smi"
      ],
      "metadata": {
        "colab": {
          "base_uri": "https://localhost:8080/"
        },
        "id": "eiywkhp7nXUD",
        "outputId": "ab28ca39-274c-4e22-8f5d-20551e459efc"
      },
      "execution_count": null,
      "outputs": [
        {
          "output_type": "stream",
          "name": "stdout",
          "text": [
            "Sun Mar  3 22:16:43 2024       \n",
            "+---------------------------------------------------------------------------------------+\n",
            "| NVIDIA-SMI 535.104.05             Driver Version: 535.104.05   CUDA Version: 12.2     |\n",
            "|-----------------------------------------+----------------------+----------------------+\n",
            "| GPU  Name                 Persistence-M | Bus-Id        Disp.A | Volatile Uncorr. ECC |\n",
            "| Fan  Temp   Perf          Pwr:Usage/Cap |         Memory-Usage | GPU-Util  Compute M. |\n",
            "|                                         |                      |               MIG M. |\n",
            "|=========================================+======================+======================|\n",
            "|   0  Tesla T4                       Off | 00000000:00:04.0 Off |                    0 |\n",
            "| N/A   43C    P8               9W /  70W |      0MiB / 15360MiB |      0%      Default |\n",
            "|                                         |                      |                  N/A |\n",
            "+-----------------------------------------+----------------------+----------------------+\n",
            "                                                                                         \n",
            "+---------------------------------------------------------------------------------------+\n",
            "| Processes:                                                                            |\n",
            "|  GPU   GI   CI        PID   Type   Process name                            GPU Memory |\n",
            "|        ID   ID                                                             Usage      |\n",
            "|=======================================================================================|\n",
            "|  No running processes found                                                           |\n",
            "+---------------------------------------------------------------------------------------+\n"
          ]
        }
      ]
    },
    {
      "cell_type": "markdown",
      "source": [
        "The below cell shows the amount of free space left on a file system. Space can have the following values: Space Used. Total amount of space allocated to existing files in the file system."
      ],
      "metadata": {
        "id": "-0775JyLr0b8"
      }
    },
    {
      "cell_type": "code",
      "source": [
        "!df -h"
      ],
      "metadata": {
        "colab": {
          "base_uri": "https://localhost:8080/"
        },
        "id": "vbbkZZGHAVlC",
        "outputId": "625ef906-1d59-490e-b5aa-2f585af35cef"
      },
      "execution_count": null,
      "outputs": [
        {
          "output_type": "stream",
          "name": "stdout",
          "text": [
            "Filesystem      Size  Used Avail Use% Mounted on\n",
            "overlay         108G   28G   81G  26% /\n",
            "tmpfs            64M     0   64M   0% /dev\n",
            "shm             5.8G  4.0K  5.8G   1% /dev/shm\n",
            "/dev/root       2.0G  1.1G  849M  57% /usr/sbin/docker-init\n",
            "tmpfs           6.4G  1.2M  6.4G   1% /var/colab\n",
            "/dev/sda1        44G   29G   15G  66% /kaggle/input\n",
            "tmpfs           6.4G     0  6.4G   0% /proc/acpi\n",
            "tmpfs           6.4G     0  6.4G   0% /proc/scsi\n",
            "tmpfs           6.4G     0  6.4G   0% /sys/firmware\n",
            "drive            15G  4.3G   11G  29% /content/drive\n"
          ]
        }
      ]
    },
    {
      "cell_type": "markdown",
      "source": [
        "Mount Google Drive in Colab IDE for seamless I/O operations.\n",
        "\n",
        "Purpose:\n",
        "This code mounts your Google Drive into the Colab environment, enabling easy\n",
        "and efficient Input/Output (I/O) operations between your Google Drive and the\n",
        "Colab notebook.\n",
        "\n",
        "How it works:\n",
        "1. The code imports the necessary module \"drive\" from the \"google.colab\"\n",
        "   library.\n",
        "2. It then uses the \"mount\" function to establish a connection between your\n",
        "   Google Drive and the \"/content/drive\" directory within the Colab\n",
        "   environment.\n",
        "3. The parameter \"force_remount=True\" ensures that the drive is remounted,\n",
        "   allowing for any changes in your Google Drive to be reflected in the Colab\n",
        "   notebook.\n",
        "\n",
        "Instructions:\n",
        "- After running this code cell, you will be prompted to authorize access to\n",
        "  your Google Drive.\n",
        "- Follow the provided link, grant the necessary permissions, and copy the\n",
        "  authorization code.\n",
        "- Paste the code into the designated input area in the notebook.\n",
        "- Once mounted, you can navigate to \"/content/drive\" to access your Google\n",
        "  Drive files.\n",
        "\n",
        "Note:\n",
        "- This is a one-time setup unless you restart the Colab runtime.\n",
        "- Mounting Google Drive is useful for loading datasets, saving model\n",
        "  checkpoints, and performing I/O operations with files stored in your Google\n",
        "  Drive."
      ],
      "metadata": {
        "id": "RpSkxsE5sO09"
      }
    },
    {
      "cell_type": "markdown",
      "source": [
        "<!-- ################################################################################\n",
        "# Mount Google Drive in Colab IDE for seamless I/O operations.\n",
        "\n",
        "# Purpose:\n",
        "# This code mounts your Google Drive into the Colab environment, enabling easy\n",
        "# and efficient Input/Output (I/O) operations between your Google Drive and the\n",
        "# Colab notebook.\n",
        "\n",
        "# How it works:\n",
        "# 1. The code imports the necessary module \"drive\" from the \"google.colab\"\n",
        "#    library.\n",
        "# 2. It then uses the \"mount\" function to establish a connection between your\n",
        "#    Google Drive and the \"/content/drive\" directory within the Colab\n",
        "#    environment.\n",
        "# 3. The parameter \"force_remount=True\" ensures that the drive is remounted,\n",
        "#    allowing for any changes in your Google Drive to be reflected in the Colab\n",
        "#    notebook.\n",
        "\n",
        "# Instructions:\n",
        "# - After running this code cell, you will be prompted to authorize access to\n",
        "#   your Google Drive.\n",
        "# - Follow the provided link, grant the necessary permissions, and copy the\n",
        "#   authorization code.\n",
        "# - Paste the code into the designated input area in the notebook.\n",
        "# - Once mounted, you can navigate to \"/content/drive\" to access your Google\n",
        "#   Drive files.\n",
        "\n",
        "# Note:\n",
        "# - This is a one-time setup unless you restart the Colab runtime.\n",
        "# - Mounting Google Drive is useful for loading datasets, saving model\n",
        "#   checkpoints, and performing I/O operations with files stored in your Google\n",
        "#   Drive.\n",
        "################################################################################ -->"
      ],
      "metadata": {
        "id": "_v7Xnq-qsA8N"
      }
    },
    {
      "cell_type": "code",
      "execution_count": null,
      "metadata": {
        "colab": {
          "base_uri": "https://localhost:8080/"
        },
        "id": "ZFX16i_MMl2N",
        "outputId": "160afcb7-4101-4e5c-c934-615e71d6aa8d"
      },
      "outputs": [
        {
          "output_type": "stream",
          "name": "stdout",
          "text": [
            "Mounted at /content/drive\n"
          ]
        }
      ],
      "source": [
        "from google.colab import drive\n",
        "drive.mount(\"/content/drive\", force_remount=True)\n"
      ]
    },
    {
      "cell_type": "markdown",
      "source": [
        "Install deep learning library named Ultralytics and import a specific class to\n",
        "assist with computer vision tasks.\n",
        "\n",
        "Purpose:\n",
        "This code installs a deep learning library specifically for provision of tools\n",
        "and utilities for computer vision tasks. A class, \"YOLO\", is imported tailored\n",
        "specifically for the purpose of object detection. We are to customize and\n",
        "adapt an object detection model to suit out project's specific requirements\n",
        "and scenarios\n",
        "\n",
        "Import YOLO class specifically tailored for object recognition tasks. In this\n",
        "project, we will specifically use YOLO for object detection.\n",
        "\n",
        "Note:\n",
        "- While this project's unique requirements require YOLO for *object detection,\n",
        "  YOLO class may also be used for other computer vision tasks such as the\n",
        "  following: object segmentation"
      ],
      "metadata": {
        "id": "ArH-Kk_Ksc0Q"
      }
    },
    {
      "cell_type": "code",
      "source": [
        "!pip install ultralytics\n",
        "\n",
        "from ultralytics import YOLO\n",
        "from IPython.display import display, Image"
      ],
      "metadata": {
        "colab": {
          "base_uri": "https://localhost:8080/"
        },
        "id": "S662yFq0NmkG",
        "outputId": "6f28f666-2dfb-441f-aefa-243adf4355ce"
      },
      "execution_count": null,
      "outputs": [
        {
          "output_type": "stream",
          "name": "stdout",
          "text": [
            "Requirement already satisfied: ultralytics in /usr/local/lib/python3.10/dist-packages (8.1.23)\n",
            "Requirement already satisfied: matplotlib>=3.3.0 in /usr/local/lib/python3.10/dist-packages (from ultralytics) (3.7.1)\n",
            "Requirement already satisfied: opencv-python>=4.6.0 in /usr/local/lib/python3.10/dist-packages (from ultralytics) (4.8.0.76)\n",
            "Requirement already satisfied: pillow>=7.1.2 in /usr/local/lib/python3.10/dist-packages (from ultralytics) (9.4.0)\n",
            "Requirement already satisfied: pyyaml>=5.3.1 in /usr/local/lib/python3.10/dist-packages (from ultralytics) (6.0.1)\n",
            "Requirement already satisfied: requests>=2.23.0 in /usr/local/lib/python3.10/dist-packages (from ultralytics) (2.31.0)\n",
            "Requirement already satisfied: scipy>=1.4.1 in /usr/local/lib/python3.10/dist-packages (from ultralytics) (1.11.4)\n",
            "Requirement already satisfied: torch>=1.8.0 in /usr/local/lib/python3.10/dist-packages (from ultralytics) (2.1.0+cu121)\n",
            "Requirement already satisfied: torchvision>=0.9.0 in /usr/local/lib/python3.10/dist-packages (from ultralytics) (0.16.0+cu121)\n",
            "Requirement already satisfied: tqdm>=4.64.0 in /usr/local/lib/python3.10/dist-packages (from ultralytics) (4.66.2)\n",
            "Requirement already satisfied: psutil in /usr/local/lib/python3.10/dist-packages (from ultralytics) (5.9.5)\n",
            "Requirement already satisfied: py-cpuinfo in /usr/local/lib/python3.10/dist-packages (from ultralytics) (9.0.0)\n",
            "Requirement already satisfied: thop>=0.1.1 in /usr/local/lib/python3.10/dist-packages (from ultralytics) (0.1.1.post2209072238)\n",
            "Requirement already satisfied: pandas>=1.1.4 in /usr/local/lib/python3.10/dist-packages (from ultralytics) (1.5.3)\n",
            "Requirement already satisfied: seaborn>=0.11.0 in /usr/local/lib/python3.10/dist-packages (from ultralytics) (0.13.1)\n",
            "Requirement already satisfied: contourpy>=1.0.1 in /usr/local/lib/python3.10/dist-packages (from matplotlib>=3.3.0->ultralytics) (1.2.0)\n",
            "Requirement already satisfied: cycler>=0.10 in /usr/local/lib/python3.10/dist-packages (from matplotlib>=3.3.0->ultralytics) (0.10.0)\n",
            "Requirement already satisfied: fonttools>=4.22.0 in /usr/local/lib/python3.10/dist-packages (from matplotlib>=3.3.0->ultralytics) (4.49.0)\n",
            "Requirement already satisfied: kiwisolver>=1.0.1 in /usr/local/lib/python3.10/dist-packages (from matplotlib>=3.3.0->ultralytics) (1.4.5)\n",
            "Requirement already satisfied: numpy>=1.20 in /usr/local/lib/python3.10/dist-packages (from matplotlib>=3.3.0->ultralytics) (1.25.2)\n",
            "Requirement already satisfied: packaging>=20.0 in /usr/local/lib/python3.10/dist-packages (from matplotlib>=3.3.0->ultralytics) (23.2)\n",
            "Requirement already satisfied: pyparsing>=2.3.1 in /usr/local/lib/python3.10/dist-packages (from matplotlib>=3.3.0->ultralytics) (3.1.1)\n",
            "Requirement already satisfied: python-dateutil>=2.7 in /usr/local/lib/python3.10/dist-packages (from matplotlib>=3.3.0->ultralytics) (2.8.2)\n",
            "Requirement already satisfied: pytz>=2020.1 in /usr/local/lib/python3.10/dist-packages (from pandas>=1.1.4->ultralytics) (2023.4)\n",
            "Requirement already satisfied: charset-normalizer<4,>=2 in /usr/local/lib/python3.10/dist-packages (from requests>=2.23.0->ultralytics) (3.3.2)\n",
            "Requirement already satisfied: idna<4,>=2.5 in /usr/local/lib/python3.10/dist-packages (from requests>=2.23.0->ultralytics) (2.10)\n",
            "Requirement already satisfied: urllib3<3,>=1.21.1 in /usr/local/lib/python3.10/dist-packages (from requests>=2.23.0->ultralytics) (2.0.7)\n",
            "Requirement already satisfied: certifi>=2017.4.17 in /usr/local/lib/python3.10/dist-packages (from requests>=2.23.0->ultralytics) (2023.7.22)\n",
            "Requirement already satisfied: filelock in /usr/local/lib/python3.10/dist-packages (from torch>=1.8.0->ultralytics) (3.13.1)\n",
            "Requirement already satisfied: typing-extensions in /usr/local/lib/python3.10/dist-packages (from torch>=1.8.0->ultralytics) (4.10.0)\n",
            "Requirement already satisfied: sympy in /usr/local/lib/python3.10/dist-packages (from torch>=1.8.0->ultralytics) (1.12)\n",
            "Requirement already satisfied: networkx in /usr/local/lib/python3.10/dist-packages (from torch>=1.8.0->ultralytics) (3.2.1)\n",
            "Requirement already satisfied: jinja2 in /usr/local/lib/python3.10/dist-packages (from torch>=1.8.0->ultralytics) (3.1.3)\n",
            "Requirement already satisfied: fsspec in /usr/local/lib/python3.10/dist-packages (from torch>=1.8.0->ultralytics) (2023.6.0)\n",
            "Requirement already satisfied: triton==2.1.0 in /usr/local/lib/python3.10/dist-packages (from torch>=1.8.0->ultralytics) (2.1.0)\n",
            "Requirement already satisfied: six in /usr/local/lib/python3.10/dist-packages (from cycler>=0.10->matplotlib>=3.3.0->ultralytics) (1.16.0)\n",
            "Requirement already satisfied: MarkupSafe>=2.0 in /usr/local/lib/python3.10/dist-packages (from jinja2->torch>=1.8.0->ultralytics) (2.1.5)\n",
            "Requirement already satisfied: mpmath>=0.19 in /usr/local/lib/python3.10/dist-packages (from sympy->torch>=1.8.0->ultralytics) (1.3.0)\n"
          ]
        }
      ]
    },
    {
      "cell_type": "markdown",
      "source": [
        "# Pre-stratified sampling\n",
        "\n",
        "OUTPUT OF THIS CELL: a numpy array that is a binary matrix that gets fed into\n",
        "the stratification algorithm I am choosing to implement to optimize data\n",
        "splitting.\n",
        "I am extracting the labels from the folder of raw .xml files (where .xml files\n",
        "are literally the annotation files for each image).\n",
        "Cell output: a numpy array (binary matrix) where each index (of the numpy\n",
        "array) is a type of chess piece of the board itself.\n",
        "The value of the index is either a 0 or a 1, indicating if the type of chess\n",
        "piece is there.\n",
        "\n",
        "The following cell is practice, and correctly parses only one .xml file. Need\n",
        "to parse an entire folder of thousands of .xml files."
      ],
      "metadata": {
        "id": "hvOazK90m76p"
      }
    },
    {
      "cell_type": "code",
      "source": [
        "import xml.etree.ElementTree as ET\n",
        "import numpy as np\n",
        "\n",
        "# Assuming the XML content is stored in `annotation_path`\n",
        "annotation_path = '/content/drive/MyDrive/images_gray_white_strain/annotations/Annotations/WIN_20240226_19_21_20_Pro.xml'\n",
        "\n",
        "# Updated class mappings\n",
        "# class_mappings = {\n",
        "#     'board': 0,\n",
        "#     'b-bishop': 1,\n",
        "#     'b-king': 2,\n",
        "#     'b-knight': 3,\n",
        "#     'b-pawn': 4,\n",
        "#     'b-queen': 5,\n",
        "#     'b-rook': 6\n",
        "# }\n",
        "# Define the class_mapping dictionary\n",
        "class_mappings = {\n",
        "    'b-bishop': 0,\n",
        "    'b-king': 1,\n",
        "    'b-knight': 2,\n",
        "    'b-pawn': 3,\n",
        "    'b-queen': 4,\n",
        "    'b-rook': 5,\n",
        "    'board': 6,\n",
        "    'w-bishop': 7,\n",
        "    'w-king': 8,\n",
        "    'w-knight': 9,\n",
        "    'w-pawn': 10,\n",
        "    'w-queen': 11,\n",
        "    'w-rook': 12\n",
        "}\n",
        "\n",
        "def extract_labels_from_xml(xml_file, class_mappings):\n",
        "    # Parse the XML file\n",
        "    tree = ET.parse(xml_file)\n",
        "    root = tree.getroot()\n",
        "\n",
        "    # Initialize an array to represent the labels for the image\n",
        "    image_labels = [0] * len(class_mappings)  # Initialize based on number of classes\n",
        "\n",
        "    # Iterate through each object in the XML\n",
        "    for obj in root.findall('.//object'):\n",
        "        label = obj.find('name').text\n",
        "        # Update the label array if the label is in class_mappings\n",
        "        if label in class_mappings:\n",
        "            image_labels[class_mappings[label]] = 1\n",
        "\n",
        "    return image_labels\n",
        "\n",
        "# Extract labels for the single image using the updated class mappings\n",
        "labels_for_image = extract_labels_from_xml(annotation_path, class_mappings)\n",
        "\n",
        "# Convert the labels into a numpy array\n",
        "labels = np.array([labels_for_image])  # Making it 2D to match expected shape\n",
        "\n",
        "print(labels)\n",
        "\n",
        "\n"
      ],
      "metadata": {
        "colab": {
          "base_uri": "https://localhost:8080/"
        },
        "id": "V_lMk9SC43bD",
        "outputId": "09511e3f-c8a4-4394-c3fa-77801bef04c2"
      },
      "execution_count": null,
      "outputs": [
        {
          "output_type": "stream",
          "name": "stdout",
          "text": [
            "[[1 1 1 1 1 1 1 1 1 1 1 1 1]]\n"
          ]
        }
      ]
    },
    {
      "cell_type": "markdown",
      "source": [
        "Run this code before executing cell code blocks of performing stratified sampling\n",
        "\n",
        "An example output of a binary matrix representing a single .xml annotation files:\n",
        "\n",
        "[[1 0 0 1 0 0 0]]\n",
        "\n",
        "Where the respective index mappings are as follows:\n",
        "\n",
        "class_mappings = {\n",
        "    'board': 0,\n",
        "    'b-bishop': 1,\n",
        "    'b-king': 2,\n",
        "    'b-knight': 3,\n",
        "    'b-pawn': 4,\n",
        "    'b-queen': 5,\n",
        "    'b-rook': 6\n",
        "}\n",
        "\n",
        "As you can see, the value of '1' in the binary matrix array at index 0 is indicative that the class 'board' is present in the .xml annotation file.\n",
        "Furthermore, the value of '0' at index 1 in the binary matrix array is indicative that the class 'b-bishop' is present in the .xml annotation file as well. And so on.\n",
        "\n",
        "The purpose of this cell is to have a large binary matrix representing the folder of .xml annotation files so that we can feed this binary matrix as an argument to a stratification algorithm.\n",
        "\n",
        "The below cell, immediately down, is modified to handle creating the binary matrix representing ALL of the .xml files. Had to take baby steps to work up to processing an entire folder of thousands of .xml annotation files.\n"
      ],
      "metadata": {
        "id": "5SakkfUwSbsb"
      }
    },
    {
      "cell_type": "markdown",
      "source": [
        "The below code moves the contents of one folder to another folder--order is preserved."
      ],
      "metadata": {
        "id": "mdRGMwkis0Je"
      }
    },
    {
      "cell_type": "code",
      "source": [
        "import os\n",
        "import shutil\n",
        "\n",
        "# Path to the original annotations folder\n",
        "original_folder = \"/content/drive/MyDrive/Stratified/Stratified_White_Dataset/Validation/annotations\"\n",
        "\n",
        "# Path to the annotations_pt2 folder\n",
        "pt2_folder = \"/content/drive/MyDrive/Stratified/Stratified_White_Dataset/Validation\"\n",
        "\n",
        "# Get the list of files in annotations_pt2 folder\n",
        "files_to_move = os.listdir(pt2_folder)\n",
        "\n",
        "# Iterate through each file and move it to the original folder if it has a .xml extension\n",
        "for file_name in files_to_move:\n",
        "    if file_name.endswith(\".xml\"):\n",
        "        src = os.path.join(pt2_folder, file_name)\n",
        "        dst = os.path.join(original_folder, file_name)\n",
        "        shutil.move(src, dst)"
      ],
      "metadata": {
        "id": "Ks6hgX0PrJj5"
      },
      "execution_count": null,
      "outputs": []
    },
    {
      "cell_type": "code",
      "source": [
        "# The following cell with code produces the output of a numpy array where each\n",
        "# index (of the numpy array) is a type of chess piece of the board itself.\n",
        "# The value of the index is either a 0 or a 1, indicating if the type of chess\n",
        "# piece is there. For example, the map is as follows:\n",
        "# \"\"class_mappings = {\n",
        "#     'board': 0,\n",
        "#     'b-bishop': 1,\n",
        "#     'b-king': 2,\n",
        "#     'b-knight': 3,\n",
        "#     'b-pawn': 4,\n",
        "#     'b-queen': 5,\n",
        "#     'b-rook': 6\n",
        "# }\n",
        "# \"\"\n",
        "# The following cell is parses an entire folder of .xml files (the annotations).\n",
        "# The output is a numpy array of labels. This will be passed into the parameter\n",
        "# for stratified k fold technique to ensure even distribution of representation\n",
        "# of classes are within the training and validation batches.\n",
        "\n",
        "import os\n",
        "import xml.etree.ElementTree as ET\n",
        "import numpy as np\n",
        "\n",
        "# Path to the folder containing all the XML annotation files\n",
        "annotations_folder = '/content/drive/MyDrive/images_white_pieces_strain/annotations'\n",
        "\n",
        "# # Updated class mappings\n",
        "class_mappings = {\n",
        "    'board': 0,\n",
        "    'w-bishop': 1,\n",
        "    'w-king': 2,\n",
        "    'w-knight': 3,\n",
        "    'w-pawn': 4,\n",
        "    'w-queen': 5,\n",
        "    'w-rook': 6\n",
        "}\n",
        "# class_mappings = {\n",
        "#     'b-bishop': 0,\n",
        "#     'b-king': 1,\n",
        "#     'b-knight': 2,\n",
        "#     'b-pawn': 3,\n",
        "#     'b-queen': 4,\n",
        "#     'b-rook': 5,\n",
        "#     'board': 6,\n",
        "#     'w-bishop': 7,\n",
        "#     'w-king': 8,\n",
        "#     'w-knight': 9,\n",
        "#     'w-pawn': 10,\n",
        "#     'w-queen': 11,\n",
        "#     'w-rook': 12\n",
        "# }\n",
        "\n",
        "# def extract_labels_from_xml(xml_file, class_mappings):\n",
        "#     # Parse the XML file\n",
        "#     tree = ET.parse(xml_file)\n",
        "#     root = tree.getroot()\n",
        "\n",
        "#     # Initialize an array to represent the labels for the image\n",
        "#     image_labels = [0] * len(class_mappings)  # Initialize based on number of classes\n",
        "\n",
        "#     # Iterate through each object in the XML\n",
        "#     for obj in root.findall('.//object'):\n",
        "#         label = obj.find('name').text\n",
        "#         # Update the label array if the label is in class_mappings\n",
        "#         if label in class_mappings:\n",
        "#             image_labels[class_mappings[label]] = 1\n",
        "\n",
        "#     return image_labels\n",
        "\n",
        "# # Initialize an empty list to store the labels for all images\n",
        "# all_labels = []\n",
        "\n",
        "# # Iterate over all XML files in the annotations folder\n",
        "# for filename in os.listdir(annotations_folder):\n",
        "#     if filename.endswith('.xml'):  # Check if the file is an XML file\n",
        "#         xml_file = os.path.join(annotations_folder, filename)\n",
        "\n",
        "#         # Extract labels for the current XML file\n",
        "#         labels_for_image = extract_labels_from_xml(xml_file, class_mappings)\n",
        "\n",
        "#         # Append the labels to the list of all labels\n",
        "#         all_labels.append(labels_for_image)\n",
        "\n",
        "# # Convert the list of all labels into a numpy array\n",
        "# labels = np.array(all_labels)  # This will be a 2D array\n",
        "\n",
        "# # New Requirement: Create a numpy array with the sequence [0, 1, 2, 3, 4, 5, 6] for each row\n",
        "# # The number of rows should match the number of rows in the `labels` array\n",
        "# sequence_array = np.tile(np.arange(len(class_mappings)), (labels.shape[0], 1))\n",
        "\n",
        "\n",
        "import os\n",
        "import numpy as np\n",
        "import xml.etree.ElementTree as ET\n",
        "\n",
        "# Assuming your class_mappings is defined\n",
        "# class_mappings = {\n",
        "#     'b-bishop': 0,\n",
        "#     'b-king': 1,\n",
        "#     'b-knight': 2,\n",
        "#     'b-pawn': 3,\n",
        "#     'b-queen': 4,\n",
        "#     'b-rook': 5,\n",
        "#     'board': 6,\n",
        "#     'w-bishop': 7,\n",
        "#     'w-king': 8,\n",
        "#     'w-knight': 9,\n",
        "#     'w-pawn': 10,\n",
        "#     'w-queen': 11,\n",
        "#     'w-rook': 12\n",
        "# }\n",
        "\n",
        "def extract_labels_from_xml(xml_file, class_mappings):\n",
        "    # Parse the XML file\n",
        "    tree = ET.parse(xml_file)\n",
        "    root = tree.getroot()\n",
        "\n",
        "    # Initialize an array to represent the labels for the image\n",
        "    image_labels = [0] * len(class_mappings)  # Initialize based on the number of classes\n",
        "\n",
        "    # Iterate through each object in the XML\n",
        "    for obj in root.findall('.//object'):\n",
        "        label = obj.find('name').text\n",
        "        # Update the label array if the label is in class_mappings\n",
        "        if label in class_mappings:\n",
        "            image_labels[class_mappings[label]] = 1\n",
        "\n",
        "    return image_labels\n",
        "\n",
        "# Initialize an empty list to store the labels for all images\n",
        "all_labels = []\n",
        "\n",
        "# Iterate over all XML files in the annotations folder\n",
        "for filename in os.listdir(annotations_folder):\n",
        "    if filename.endswith('.xml'):  # Check if the file is an XML file\n",
        "        xml_file = os.path.join(annotations_folder, filename)\n",
        "\n",
        "        # Extract labels for the current XML file\n",
        "        labels_for_image = extract_labels_from_xml(xml_file, class_mappings)\n",
        "\n",
        "        # Append the labels to the list of all labels\n",
        "        all_labels.append(labels_for_image)\n",
        "\n",
        "# Convert the list of all labels into a numpy array\n",
        "labels = np.array(all_labels)  # This will be a 2D array\n",
        "\n",
        "# Create a numpy array with the sequence [0, 1, 2, 3, 4, 5, 6] for each row\n",
        "# The number of rows should match the number of rows in the `labels` array\n",
        "sequence_array = np.tile(np.arange(len(class_mappings)), (labels.shape[0], 1))\n",
        "\n",
        "print(labels.shape)\n",
        "print(sequence_array.shape)\n",
        "\n",
        "\n",
        "print(labels)\n",
        "\n",
        "print(sequence_array)\n"
      ],
      "metadata": {
        "id": "iL-bdWyo-sKN",
        "colab": {
          "base_uri": "https://localhost:8080/"
        },
        "outputId": "7b7f9b21-6b6b-4b2b-d607-38ee2c33d973"
      },
      "execution_count": null,
      "outputs": [
        {
          "output_type": "stream",
          "name": "stdout",
          "text": [
            "(1301, 7)\n",
            "(1301, 7)\n",
            "[[1 1 0 ... 0 0 0]\n",
            " [1 1 0 ... 0 0 0]\n",
            " [1 0 1 ... 0 1 0]\n",
            " ...\n",
            " [1 0 1 ... 0 0 0]\n",
            " [1 0 1 ... 0 0 0]\n",
            " [1 1 0 ... 0 0 0]]\n",
            "[[0 1 2 ... 4 5 6]\n",
            " [0 1 2 ... 4 5 6]\n",
            " [0 1 2 ... 4 5 6]\n",
            " ...\n",
            " [0 1 2 ... 4 5 6]\n",
            " [0 1 2 ... 4 5 6]\n",
            " [0 1 2 ... 4 5 6]]\n"
          ]
        }
      ]
    },
    {
      "cell_type": "markdown",
      "source": [
        "The following code below outputs if there are any objects with naming inconsistencies for objects within an .xml file."
      ],
      "metadata": {
        "id": "qxWTOtWDh-c_"
      }
    },
    {
      "cell_type": "code",
      "source": [
        "import os\n",
        "import xml.etree.ElementTree as ET\n",
        "\n",
        "def check_xml_files(folder_path):\n",
        "    xml_files = [f for f in os.listdir(folder_path) if f.endswith('.xml')]\n",
        "\n",
        "    for xml_file in xml_files:\n",
        "        xml_path = os.path.join(folder_path, xml_file)\n",
        "\n",
        "        # Parse the XML file\n",
        "        tree = ET.parse(xml_path)\n",
        "        root = tree.getroot()\n",
        "\n",
        "        # Check for objects named \"w-knight\", \"w-pawn\", or \"rotation\"\n",
        "        object_names = [obj.find('name').text for obj in root.findall('.//object')]\n",
        "        if 'white-knight' in object_names:\n",
        "          # if 'w-knight' in object_names or 'w-pawn' in object_names or 'rotation' in object_names:\n",
        "            print(f\"File {xml_file} contains 'white-knight', 'white-pawn', or 'rotation' objects.\")\n",
        "\n",
        "# Example usage\n",
        "folder_path = '/content/drive/MyDrive/Stratified/Stratified_White_Dataset/Validation/annotations'\n",
        "check_xml_files(folder_path)\n"
      ],
      "metadata": {
        "id": "o7GpLGbWhwOn"
      },
      "execution_count": null,
      "outputs": []
    },
    {
      "cell_type": "markdown",
      "source": [
        "The following below code checks if \"board\" objects is not contained in any of the .xml files."
      ],
      "metadata": {
        "id": "EIr88qsWTGL2"
      }
    },
    {
      "cell_type": "code",
      "source": [
        "import os\n",
        "import xml.etree.ElementTree as ET\n",
        "\n",
        "def check_xml_files(folder_path):\n",
        "    xml_files = [f for f in os.listdir(folder_path) if f.endswith('.xml')]\n",
        "\n",
        "    for xml_file in xml_files:\n",
        "        xml_path = os.path.join(folder_path, xml_file)\n",
        "\n",
        "        # Parse the XML file\n",
        "        tree = ET.parse(xml_path)\n",
        "        root = tree.getroot()\n",
        "\n",
        "        # Check if \"board\" object is not present\n",
        "        object_names = [obj.find('name').text for obj in root.findall('.//object')]\n",
        "        if 'board' not in object_names:\n",
        "            print(f\"File {xml_file} does not contain 'board' object.\")\n",
        "\n",
        "# Example usage\n",
        "folder_path = '/content/non-stratified_chess-set-2/valid/labels'\n",
        "check_xml_files(folder_path)\n"
      ],
      "metadata": {
        "id": "1BjeXZhETFWn"
      },
      "execution_count": null,
      "outputs": []
    },
    {
      "cell_type": "code",
      "source": [
        "print(labels)"
      ],
      "metadata": {
        "colab": {
          "base_uri": "https://localhost:8080/"
        },
        "id": "tor4Wlmffutf",
        "outputId": "ec496b6a-8226-49f7-ab4e-6ea6f98d8623"
      },
      "execution_count": null,
      "outputs": [
        {
          "output_type": "stream",
          "name": "stdout",
          "text": [
            "[[1 1 1 ... 1 1 1]\n",
            " [1 1 1 ... 1 1 1]\n",
            " [1 1 1 ... 1 1 1]\n",
            " ...\n",
            " [0 1 0 ... 1 1 1]\n",
            " [1 1 1 ... 1 1 1]\n",
            " [0 1 1 ... 1 1 1]]\n"
          ]
        }
      ]
    },
    {
      "cell_type": "markdown",
      "source": [
        "The below code is basically a modified, forked GitHub repo. Here is the GitHub repo for the implementation of an algorithm which optimizes data splitting to further improve our object detection model:\n",
        "\n",
        "https://github.com/trent-b/iterative-stratification\n",
        "\n",
        "This algorithm is known as Multilabel Stratified K-Fold.\n",
        "\n",
        "This was an intentional design choice to include this to ensure that there is an even distribution of representation among classes for processing data that could contain multi-class and multi-label images.\n",
        "\n",
        "Run the below cell code block when you are preparing to data split.\n",
        "\n"
      ],
      "metadata": {
        "id": "K34dulu_TxRP"
      }
    },
    {
      "cell_type": "code",
      "source": [
        "import numpy as np\n",
        "\n",
        "from sklearn.utils import check_random_state\n",
        "from sklearn.utils.validation import _num_samples, check_array\n",
        "from sklearn.utils.multiclass import type_of_target\n",
        "\n",
        "from sklearn.model_selection._split import _BaseKFold, _RepeatedSplits, \\\n",
        "BaseShuffleSplit, _validate_shuffle_split\n",
        "\n",
        "# IterativeStratification() is key for achieving stratification for multilabel\n",
        "# data.\n",
        "\n",
        "def IterativeStratification(labels, r, random_state):\n",
        "    \"\"\"This function implements the Iterative Stratification algorithm described\n",
        "    in the following paper:\n",
        "    Sechidis K., Tsoumakas G., Vlahavas I. (2011) On the Stratification of\n",
        "    Multi-Label Data. In: Gunopulos D., Hofmann T., Malerba D., Vazirgiannis M.\n",
        "    (eds) Machine Learning and Knowledge Discovery in Databases. ECML PKDD\n",
        "    2011. Lecture Notes in Computer Science, vol 6913. Springer, Berlin,\n",
        "    Heidelberg.\n",
        "    \"\"\"\n",
        "\n",
        "    n_samples = labels.shape[0]\n",
        "    test_folds = np.zeros(n_samples, dtype=int)\n",
        "\n",
        "    # Calculate the desired number of examples at each subset\n",
        "    c_folds = r * n_samples\n",
        "\n",
        "    # Calculate the desired number of examples of each label at each subset\n",
        "    c_folds_labels = np.outer(r, labels.sum(axis=0))\n",
        "\n",
        "    labels_not_processed_mask = np.ones(n_samples, dtype=bool)\n",
        "\n",
        "    while np.any(labels_not_processed_mask):\n",
        "        # Find the label with the fewest (but at least one) remaining examples,\n",
        "        # breaking ties randomly\n",
        "        num_labels = labels[labels_not_processed_mask].sum(axis=0)\n",
        "\n",
        "        # Handle case where only all-zero labels are left by distributing\n",
        "        # across all folds as evenly as possible (not in original algorithm but\n",
        "        # mentioned in the text). (By handling this case separately, some\n",
        "        # code redundancy is introduced; however, this approach allows for\n",
        "        # decreased execution time when there are a relatively large number\n",
        "        # of all-zero labels.)\n",
        "        if num_labels.sum() == 0:\n",
        "            sample_idxs = np.where(labels_not_processed_mask)[0]\n",
        "\n",
        "            for sample_idx in sample_idxs:\n",
        "                fold_idx = np.where(c_folds == c_folds.max())[0]\n",
        "\n",
        "                if fold_idx.shape[0] > 1:\n",
        "                    fold_idx = fold_idx[random_state.choice(fold_idx.shape[0])]\n",
        "\n",
        "                test_folds[sample_idx] = fold_idx\n",
        "                c_folds[fold_idx] -= 1\n",
        "\n",
        "            break\n",
        "\n",
        "        label_idx = np.where(num_labels == num_labels[np.nonzero(num_labels)].min())[0]\n",
        "        if label_idx.shape[0] > 1:\n",
        "            label_idx = label_idx[random_state.choice(label_idx.shape[0])]\n",
        "\n",
        "        sample_idxs = np.where(np.logical_and(labels[:, label_idx].flatten(), labels_not_processed_mask))[0]\n",
        "        for sample_idx in sample_idxs:\n",
        "    # Find the subset(s) with the largest number of desired examples\n",
        "    # for this label, breaking ties by considering the largest number\n",
        "    # of desired examples, breaking further ties randomly\n",
        "\n",
        "          label_folds = c_folds_labels[:, label_idx]\n",
        "          fold_idx = np.where(label_folds == label_folds.max())[0]\n",
        "\n",
        "          if fold_idx.shape[0] > 1:\n",
        "              temp_fold_idx = np.where(c_folds[fold_idx] == c_folds[fold_idx].max())[0]\n",
        "              if temp_fold_idx.shape[0] > 1:\n",
        "                  # Choose one randomly if there are multiple max values\n",
        "                  fold_idx = random_state.choice(fold_idx[temp_fold_idx])\n",
        "              else:\n",
        "                  # If temp_fold_idx has only one element, directly use this value\n",
        "                  fold_idx = fold_idx[temp_fold_idx[0]]\n",
        "          else:\n",
        "              # If fold_idx has only one element, directly use this value\n",
        "              fold_idx = fold_idx[0]\n",
        "\n",
        "          test_folds[sample_idx] = fold_idx\n",
        "          labels_not_processed_mask[sample_idx] = False\n",
        "\n",
        "          # Update desired number of examples\n",
        "          c_folds_labels[fold_idx, :] -= labels[sample_idx, :]\n",
        "          c_folds[fold_idx] -= 1\n",
        "\n",
        "\n",
        "        return test_folds"
      ],
      "metadata": {
        "id": "PuIBXfeE1CwG"
      },
      "execution_count": null,
      "outputs": []
    },
    {
      "cell_type": "markdown",
      "source": [
        "The below code is a specific type of implementation of stratification algorithm. This code calls its base class function. And gives explanations of how to implement this for a unique project.\n",
        "\n",
        "Run the below cell code block when you are preparing to data split."
      ],
      "metadata": {
        "id": "IiWltUDvtKH9"
      }
    },
    {
      "cell_type": "code",
      "source": [
        "class MultilabelStratifiedKFold(_BaseKFold):\n",
        "    \"\"\"Multilabel stratified K-Folds cross-validator\n",
        "    Provides train/test indices to split multilabel data into train/test sets.\n",
        "    This cross-validation object is a variation of KFold that returns\n",
        "    stratified folds for multilabel data. The folds are made by preserving\n",
        "    the percentage of samples for each label.\n",
        "    Parameters\n",
        "    ----------\n",
        "    n_splits : int, default=3\n",
        "        Number of folds. Must be at least 2.\n",
        "    shuffle : boolean, optional\n",
        "        Whether to shuffle each stratification of the data before splitting\n",
        "        into batches.\n",
        "    random_state : int, RandomState instance or None, optional, default=None\n",
        "        If int, random_state is the seed used by the random number generator;\n",
        "        If RandomState instance, random_state is the random number generator;\n",
        "        If None, the random number generator is the RandomState instance used\n",
        "        by `np.random`. Unlike StratifiedKFold that only uses random_state\n",
        "        when ``shuffle`` == True, this multilabel implementation\n",
        "        always uses the random_state since the iterative stratification\n",
        "        algorithm breaks ties randomly.\n",
        "    Examples\n",
        "    --------\n",
        "    >>> from iterstrat.ml_stratifiers import MultilabelStratifiedKFold\n",
        "    >>> import numpy as np\n",
        "    >>> X = np.array([[1,2], [3,4], [1,2], [3,4], [1,2], [3,4], [1,2], [3,4]])\n",
        "    >>> y = np.array([[0,0], [0,0], [0,1], [0,1], [1,1], [1,1], [1,0], [1,0]])\n",
        "    >>> mskf = MultilabelStratifiedKFold(n_splits=2, random_state=0)\n",
        "    >>> mskf.get_n_splits(X, y)\n",
        "    2\n",
        "    >>> print(mskf)  # doctest: +NORMALIZE_WHITESPACE\n",
        "    MultilabelStratifiedKFold(n_splits=2, random_state=0, shuffle=False)\n",
        "    >>> for train_index, test_index in mskf.split(X, y):\n",
        "    ...    print(\"TRAIN:\", train_index, \"TEST:\", test_index)\n",
        "    ...    X_train, X_test = X[train_index], X[test_index]\n",
        "    ...    y_train, y_test = y[train_index], y[test_index]\n",
        "    TRAIN: [0 3 4 6] TEST: [1 2 5 7]\n",
        "    TRAIN: [1 2 5 7] TEST: [0 3 4 6]\n",
        "    Notes\n",
        "    -----\n",
        "    Train and test sizes may be slightly different in each fold.\n",
        "    See also\n",
        "    --------\n",
        "    RepeatedMultilabelStratifiedKFold: Repeats Multilabel Stratified K-Fold\n",
        "    n times.\n",
        "    \"\"\"\n",
        "\n",
        "    def __init__(self, n_splits=3, *, shuffle=False, random_state=None):\n",
        "        super(MultilabelStratifiedKFold, self).__init__(n_splits=n_splits, shuffle=shuffle, random_state=random_state)\n",
        "\n",
        "    def _make_test_folds(self, X, y):\n",
        "      y = np.asarray(y, dtype=bool)\n",
        "      type_of_target_y = type_of_target(y)\n",
        "\n",
        "      if type_of_target_y != 'multilabel-indicator':\n",
        "          raise ValueError('Supported target type is: multilabel-indicator. Got {!r} instead.'.format(type_of_target_y))\n",
        "\n",
        "      num_samples = y.shape[0]\n",
        "      rng = check_random_state(self.random_state)\n",
        "      indices = np.arange(num_samples)\n",
        "\n",
        "      if self.shuffle:\n",
        "          rng.shuffle(indices)\n",
        "          y = y[indices]\n",
        "\n",
        "      r = np.asarray([1 / self.n_splits] * self.n_splits)\n",
        "\n",
        "      test_folds = IterativeStratification(labels=y, r=r, random_state=rng)\n",
        "\n",
        "      # Ensure fold_idx is a scalar\n",
        "      # This line or similar logic needs modification\n",
        "      # For example, when selecting fold_idx, ensure it's a single value:\n",
        "      # fold_idx = fold_idx[0] if isinstance(fold_idx, np.ndarray) and fold_idx.size > 0 else fold_idx\n",
        "\n",
        "      return test_folds[np.argsort(indices)]\n",
        "\n",
        "\n",
        "    def _iter_test_masks(self, X=None, y=None, groups=None):\n",
        "        test_folds = self._make_test_folds(X, y)\n",
        "        for i in range(self.n_splits):\n",
        "            yield test_folds == i\n",
        "\n",
        "    def split(self, X, y, groups=None):\n",
        "        \"\"\"Generate indices to split data into training and test set.\n",
        "        Parameters\n",
        "        ----------\n",
        "        X : array-like, shape (n_samples, n_features)\n",
        "            Training data, where n_samples is the number of samples\n",
        "            and n_features is the number of features.\n",
        "            Note that providing ``y`` is sufficient to generate the splits and\n",
        "            hence ``np.zeros(n_samples)`` may be used as a placeholder for\n",
        "            ``X`` instead of actual training data.\n",
        "        y : array-like, shape (n_samples, n_labels)\n",
        "            The target variable for supervised learning problems.\n",
        "            Multilabel stratification is done based on the y labels.\n",
        "        groups : object\n",
        "            Always ignored, exists for compatibility.\n",
        "        Returns\n",
        "        -------\n",
        "        train : ndarray\n",
        "            The training set indices for that split.\n",
        "        test : ndarray\n",
        "            The testing set indices for that split.\n",
        "        Notes\n",
        "        -----\n",
        "        Randomized CV splitters may return different results for each call of\n",
        "        split. You can make the results identical by setting ``random_state``\n",
        "        to an integer.\n",
        "        \"\"\"\n",
        "        y = check_array(y, ensure_2d=False, dtype=None)\n",
        "        return super(MultilabelStratifiedKFold, self).split(X, y, groups)\n"
      ],
      "metadata": {
        "id": "Zhk5ZLz7_rbc"
      },
      "execution_count": null,
      "outputs": []
    },
    {
      "cell_type": "markdown",
      "source": [
        "Run the below code after the two previous code blocks have been run. You can specify the number of splits, whether or  not you are in a random state, or if you want to specify shuffling."
      ],
      "metadata": {
        "id": "6F9ySjITt3d4"
      }
    },
    {
      "cell_type": "code",
      "source": [
        "mskf = MultilabelStratifiedKFold(n_splits=2, random_state=0, shuffle=True)\n"
      ],
      "metadata": {
        "id": "7I21DbIPAfYE"
      },
      "execution_count": null,
      "outputs": []
    },
    {
      "cell_type": "code",
      "source": [
        "print(\"sequence_array shape:\", sequence_array.shape)\n",
        "print(\"labels shape:\", labels.shape)\n",
        "\n"
      ],
      "metadata": {
        "colab": {
          "base_uri": "https://localhost:8080/"
        },
        "id": "TXfmz4LF7567",
        "outputId": "52e7cdb6-69f6-40a2-9130-3b510b21ec3d"
      },
      "execution_count": null,
      "outputs": [
        {
          "output_type": "stream",
          "name": "stdout",
          "text": [
            "sequence_array shape: (1301, 7)\n",
            "labels shape: (1301, 7)\n"
          ]
        }
      ]
    },
    {
      "cell_type": "markdown",
      "source": [
        "The below code's output: returns a list of indices of the original  dataset to now put into training and validation batches.\n",
        "\n",
        "What we are now capable with running this code: we know which images to put into the training and validation batches--based on the indices of the original dataset.\n"
      ],
      "metadata": {
        "id": "EEfyDXHCuZ9M"
      }
    },
    {
      "cell_type": "code",
      "source": [
        "for train_index, val_index in mskf.split(sequence_array, labels):\n",
        "    # Converting numpy arrays to lists for string joining\n",
        "    train_index_list = list(train_index)\n",
        "    val_index_list = list(val_index)\n",
        "\n",
        "    # Joining the list elements with a comma and space for readability\n",
        "    train_indices_str = \", \".join(map(str, train_index_list))\n",
        "    test_indices_str = \", \".join(map(str, val_index_list))\n",
        "\n",
        "    print(\"TRAIN:\", train_indices_str, \"VALIDATION:\", test_indices_str)\n",
        "    X_train, X_test = sequence_array[train_index], sequence_array[val_index]\n",
        "    y_train, y_test = labels[train_index], labels[val_index]\n",
        "\n"
      ],
      "metadata": {
        "colab": {
          "base_uri": "https://localhost:8080/"
        },
        "id": "8bwoo6VgCOXI",
        "outputId": "2f9e180a-2b6b-4170-aa3a-c353fc0ab461"
      },
      "execution_count": null,
      "outputs": [
        {
          "output_type": "stream",
          "name": "stdout",
          "text": [
            "TRAIN: 658, 665, 677, 683, 684, 688, 691, 692, 695, 697, 701, 705, 708, 710, 715, 725, 727, 731, 735, 737, 743, 744, 748, 751, 752, 759, 760, 761, 762, 763, 768, 771, 773, 775, 777, 779, 780, 781, 782, 783, 784, 788, 791, 792, 795, 800, 802, 807, 808, 811, 815, 816, 823, 824, 825, 826, 830, 833, 834, 836, 839, 843, 844, 851, 852, 858, 859, 862, 865, 872, 875, 876, 881, 886, 887, 888, 892, 893, 894, 895, 897, 898, 900, 902, 910, 911, 912, 914, 924, 926, 927, 929, 931, 932, 933, 935, 938, 941, 944, 945, 946, 947, 948, 956, 959, 964, 965, 966, 967, 971, 972, 976, 979, 982, 988, 990, 991, 993, 994, 996 VALIDATION: 0, 1, 2, 3, 4, 5, 6, 7, 8, 9, 10, 11, 12, 13, 14, 15, 16, 17, 18, 19, 20, 21, 22, 23, 24, 25, 26, 27, 28, 29, 30, 31, 32, 33, 34, 35, 36, 37, 38, 39, 40, 41, 42, 43, 44, 45, 46, 47, 48, 49, 50, 51, 52, 53, 54, 55, 56, 57, 58, 59, 60, 61, 62, 63, 64, 65, 66, 67, 68, 69, 70, 71, 72, 73, 74, 75, 76, 77, 78, 79, 80, 81, 82, 83, 84, 85, 86, 87, 88, 89, 90, 91, 92, 93, 94, 95, 96, 97, 98, 99, 100, 101, 102, 103, 104, 105, 106, 107, 108, 109, 110, 111, 112, 113, 114, 115, 116, 117, 118, 119, 120, 121, 122, 123, 124, 125, 126, 127, 128, 129, 130, 131, 132, 133, 134, 135, 136, 137, 138, 139, 140, 141, 142, 143, 144, 145, 146, 147, 148, 149, 150, 151, 152, 153, 154, 155, 156, 157, 158, 159, 160, 161, 162, 163, 164, 165, 166, 167, 168, 169, 170, 171, 172, 173, 174, 175, 176, 177, 178, 179, 180, 181, 182, 183, 184, 185, 186, 187, 188, 189, 190, 191, 192, 193, 194, 195, 196, 197, 198, 199, 200, 201, 202, 203, 204, 205, 206, 207, 208, 209, 210, 211, 212, 213, 214, 215, 216, 217, 218, 219, 220, 221, 222, 223, 224, 225, 226, 227, 228, 229, 230, 231, 232, 233, 234, 235, 236, 237, 238, 239, 240, 241, 242, 243, 244, 245, 246, 247, 248, 249, 250, 251, 252, 253, 254, 255, 256, 257, 258, 259, 260, 261, 262, 263, 264, 265, 266, 267, 268, 269, 270, 271, 272, 273, 274, 275, 276, 277, 278, 279, 280, 281, 282, 283, 284, 285, 286, 287, 288, 289, 290, 291, 292, 293, 294, 295, 296, 297, 298, 299, 300, 301, 302, 303, 304, 305, 306, 307, 308, 309, 310, 311, 312, 313, 314, 315, 316, 317, 318, 319, 320, 321, 322, 323, 324, 325, 326, 327, 328, 329, 330, 331, 332, 333, 334, 335, 336, 337, 338, 339, 340, 341, 342, 343, 344, 345, 346, 347, 348, 349, 350, 351, 352, 353, 354, 355, 356, 357, 358, 359, 360, 361, 362, 363, 364, 365, 366, 367, 368, 369, 370, 371, 372, 373, 374, 375, 376, 377, 378, 379, 380, 381, 382, 383, 384, 385, 386, 387, 388, 389, 390, 391, 392, 393, 394, 395, 396, 397, 398, 399, 400, 401, 402, 403, 404, 405, 406, 407, 408, 409, 410, 411, 412, 413, 414, 415, 416, 417, 418, 419, 420, 421, 422, 423, 424, 425, 426, 427, 428, 429, 430, 431, 432, 433, 434, 435, 436, 437, 438, 439, 440, 441, 442, 443, 444, 445, 446, 447, 448, 449, 450, 451, 452, 453, 454, 455, 456, 457, 458, 459, 460, 461, 462, 463, 464, 465, 466, 467, 468, 469, 470, 471, 472, 473, 474, 475, 476, 477, 478, 479, 480, 481, 482, 483, 484, 485, 486, 487, 488, 489, 490, 491, 492, 493, 494, 495, 496, 497, 498, 499, 500, 501, 502, 503, 504, 505, 506, 507, 508, 509, 510, 511, 512, 513, 514, 515, 516, 517, 518, 519, 520, 521, 522, 523, 524, 525, 526, 527, 528, 529, 530, 531, 532, 533, 534, 535, 536, 537, 538, 539, 540, 541, 542, 543, 544, 545, 546, 547, 548, 549, 550, 551, 552, 553, 554, 555, 556, 557, 558, 559, 560, 561, 562, 563, 564, 565, 566, 567, 568, 569, 570, 571, 572, 573, 574, 575, 576, 577, 578, 579, 580, 581, 582, 583, 584, 585, 586, 587, 588, 589, 590, 591, 592, 593, 594, 595, 596, 597, 598, 599, 600, 601, 602, 603, 604, 605, 606, 607, 608, 609, 610, 611, 612, 613, 614, 615, 616, 617, 618, 619, 620, 621, 622, 623, 624, 625, 626, 627, 628, 629, 630, 631, 632, 633, 634, 635, 636, 637, 638, 639, 640, 641, 642, 643, 644, 645, 646, 647, 648, 649, 650, 651, 652, 653, 654, 655, 656, 657, 659, 660, 661, 662, 663, 664, 666, 667, 668, 669, 670, 671, 672, 673, 674, 675, 676, 678, 679, 680, 681, 682, 685, 686, 687, 689, 690, 693, 694, 696, 698, 699, 700, 702, 703, 704, 706, 707, 709, 711, 712, 713, 714, 716, 717, 718, 719, 720, 721, 722, 723, 724, 726, 728, 729, 730, 732, 733, 734, 736, 738, 739, 740, 741, 742, 745, 746, 747, 749, 750, 753, 754, 755, 756, 757, 758, 764, 765, 766, 767, 769, 770, 772, 774, 776, 778, 785, 786, 787, 789, 790, 793, 794, 796, 797, 798, 799, 801, 803, 804, 805, 806, 809, 810, 812, 813, 814, 817, 818, 819, 820, 821, 822, 827, 828, 829, 831, 832, 835, 837, 838, 840, 841, 842, 845, 846, 847, 848, 849, 850, 853, 854, 855, 856, 857, 860, 861, 863, 864, 866, 867, 868, 869, 870, 871, 873, 874, 877, 878, 879, 880, 882, 883, 884, 885, 889, 890, 891, 896, 899, 901, 903, 904, 905, 906, 907, 908, 909, 913, 915, 916, 917, 918, 919, 920, 921, 922, 923, 925, 928, 930, 934, 936, 937, 939, 940, 942, 943, 949, 950, 951, 952, 953, 954, 955, 957, 958, 960, 961, 962, 963, 968, 969, 970, 973, 974, 975, 977, 978, 980, 981, 983, 984, 985, 986, 987, 989, 992, 995, 997, 998, 999, 1000, 1001, 1002, 1003, 1004, 1005, 1006, 1007, 1008, 1009, 1010, 1011, 1012, 1013, 1014, 1015, 1016, 1017, 1018, 1019, 1020, 1021, 1022, 1023, 1024, 1025, 1026, 1027, 1028, 1029, 1030, 1031, 1032, 1033, 1034, 1035, 1036, 1037, 1038, 1039, 1040, 1041, 1042, 1043, 1044, 1045, 1046, 1047, 1048, 1049, 1050, 1051, 1052, 1053, 1054, 1055, 1056, 1057, 1058, 1059, 1060, 1061, 1062, 1063, 1064, 1065, 1066, 1067, 1068, 1069, 1070, 1071, 1072, 1073, 1074, 1075, 1076, 1077, 1078, 1079, 1080, 1081, 1082, 1083, 1084, 1085, 1086, 1087, 1088, 1089, 1090, 1091, 1092, 1093, 1094, 1095, 1096, 1097, 1098, 1099, 1100, 1101, 1102, 1103, 1104, 1105, 1106, 1107, 1108, 1109, 1110, 1111, 1112, 1113, 1114, 1115, 1116, 1117, 1118, 1119, 1120, 1121, 1122, 1123, 1124, 1125, 1126, 1127, 1128, 1129, 1130, 1131, 1132, 1133, 1134, 1135, 1136, 1137, 1138, 1139, 1140, 1141, 1142, 1143, 1144, 1145, 1146, 1147, 1148, 1149, 1150, 1151, 1152, 1153, 1154, 1155, 1156, 1157, 1158, 1159, 1160, 1161, 1162, 1163, 1164, 1165, 1166, 1167, 1168, 1169, 1170, 1171, 1172, 1173, 1174, 1175, 1176, 1177, 1178, 1179, 1180, 1181, 1182, 1183, 1184, 1185, 1186, 1187, 1188, 1189, 1190, 1191, 1192, 1193, 1194, 1195, 1196, 1197, 1198, 1199, 1200, 1201, 1202, 1203, 1204, 1205, 1206, 1207, 1208, 1209, 1210, 1211, 1212, 1213, 1214, 1215, 1216, 1217, 1218, 1219, 1220, 1221, 1222, 1223, 1224, 1225, 1226, 1227, 1228, 1229, 1230, 1231, 1232, 1233, 1234, 1235, 1236, 1237, 1238, 1239, 1240, 1241, 1242, 1243, 1244, 1245, 1246, 1247, 1248, 1249, 1250, 1251, 1252, 1253, 1254, 1255, 1256, 1257, 1258, 1259, 1260, 1261, 1262, 1263, 1264, 1265, 1266, 1267, 1268, 1269, 1270, 1271, 1272, 1273, 1274, 1275, 1276, 1277, 1278, 1279, 1280, 1281, 1282, 1283, 1284, 1285, 1286, 1287, 1288, 1289, 1290, 1291, 1292, 1293, 1294, 1295, 1296, 1297, 1298, 1299, 1300\n",
            "TRAIN: 0, 1, 2, 3, 4, 5, 6, 7, 8, 9, 10, 11, 12, 13, 14, 15, 16, 17, 18, 19, 20, 21, 22, 23, 24, 25, 26, 27, 28, 29, 30, 31, 32, 33, 34, 35, 36, 37, 38, 39, 40, 41, 42, 43, 44, 45, 46, 47, 48, 49, 50, 51, 52, 53, 54, 55, 56, 57, 58, 59, 60, 61, 62, 63, 64, 65, 66, 67, 68, 69, 70, 71, 72, 73, 74, 75, 76, 77, 78, 79, 80, 81, 82, 83, 84, 85, 86, 87, 88, 89, 90, 91, 92, 93, 94, 95, 96, 97, 98, 99, 100, 101, 102, 103, 104, 105, 106, 107, 108, 109, 110, 111, 112, 113, 114, 115, 116, 117, 118, 119, 120, 121, 122, 123, 124, 125, 126, 127, 128, 129, 130, 131, 132, 133, 134, 135, 136, 137, 138, 139, 140, 141, 142, 143, 144, 145, 146, 147, 148, 149, 150, 151, 152, 153, 154, 155, 156, 157, 158, 159, 160, 161, 162, 163, 164, 165, 166, 167, 168, 169, 170, 171, 172, 173, 174, 175, 176, 177, 178, 179, 180, 181, 182, 183, 184, 185, 186, 187, 188, 189, 190, 191, 192, 193, 194, 195, 196, 197, 198, 199, 200, 201, 202, 203, 204, 205, 206, 207, 208, 209, 210, 211, 212, 213, 214, 215, 216, 217, 218, 219, 220, 221, 222, 223, 224, 225, 226, 227, 228, 229, 230, 231, 232, 233, 234, 235, 236, 237, 238, 239, 240, 241, 242, 243, 244, 245, 246, 247, 248, 249, 250, 251, 252, 253, 254, 255, 256, 257, 258, 259, 260, 261, 262, 263, 264, 265, 266, 267, 268, 269, 270, 271, 272, 273, 274, 275, 276, 277, 278, 279, 280, 281, 282, 283, 284, 285, 286, 287, 288, 289, 290, 291, 292, 293, 294, 295, 296, 297, 298, 299, 300, 301, 302, 303, 304, 305, 306, 307, 308, 309, 310, 311, 312, 313, 314, 315, 316, 317, 318, 319, 320, 321, 322, 323, 324, 325, 326, 327, 328, 329, 330, 331, 332, 333, 334, 335, 336, 337, 338, 339, 340, 341, 342, 343, 344, 345, 346, 347, 348, 349, 350, 351, 352, 353, 354, 355, 356, 357, 358, 359, 360, 361, 362, 363, 364, 365, 366, 367, 368, 369, 370, 371, 372, 373, 374, 375, 376, 377, 378, 379, 380, 381, 382, 383, 384, 385, 386, 387, 388, 389, 390, 391, 392, 393, 394, 395, 396, 397, 398, 399, 400, 401, 402, 403, 404, 405, 406, 407, 408, 409, 410, 411, 412, 413, 414, 415, 416, 417, 418, 419, 420, 421, 422, 423, 424, 425, 426, 427, 428, 429, 430, 431, 432, 433, 434, 435, 436, 437, 438, 439, 440, 441, 442, 443, 444, 445, 446, 447, 448, 449, 450, 451, 452, 453, 454, 455, 456, 457, 458, 459, 460, 461, 462, 463, 464, 465, 466, 467, 468, 469, 470, 471, 472, 473, 474, 475, 476, 477, 478, 479, 480, 481, 482, 483, 484, 485, 486, 487, 488, 489, 490, 491, 492, 493, 494, 495, 496, 497, 498, 499, 500, 501, 502, 503, 504, 505, 506, 507, 508, 509, 510, 511, 512, 513, 514, 515, 516, 517, 518, 519, 520, 521, 522, 523, 524, 525, 526, 527, 528, 529, 530, 531, 532, 533, 534, 535, 536, 537, 538, 539, 540, 541, 542, 543, 544, 545, 546, 547, 548, 549, 550, 551, 552, 553, 554, 555, 556, 557, 558, 559, 560, 561, 562, 563, 564, 565, 566, 567, 568, 569, 570, 571, 572, 573, 574, 575, 576, 577, 578, 579, 580, 581, 582, 583, 584, 585, 586, 587, 588, 589, 590, 591, 592, 593, 594, 595, 596, 597, 598, 599, 600, 601, 602, 603, 604, 605, 606, 607, 608, 609, 610, 611, 612, 613, 614, 615, 616, 617, 618, 619, 620, 621, 622, 623, 624, 625, 626, 627, 628, 629, 630, 631, 632, 633, 634, 635, 636, 637, 638, 639, 640, 641, 642, 643, 644, 645, 646, 647, 648, 649, 650, 651, 652, 653, 654, 655, 656, 657, 659, 660, 661, 662, 663, 664, 666, 667, 668, 669, 670, 671, 672, 673, 674, 675, 676, 678, 679, 680, 681, 682, 685, 686, 687, 689, 690, 693, 694, 696, 698, 699, 700, 702, 703, 704, 706, 707, 709, 711, 712, 713, 714, 716, 717, 718, 719, 720, 721, 722, 723, 724, 726, 728, 729, 730, 732, 733, 734, 736, 738, 739, 740, 741, 742, 745, 746, 747, 749, 750, 753, 754, 755, 756, 757, 758, 764, 765, 766, 767, 769, 770, 772, 774, 776, 778, 785, 786, 787, 789, 790, 793, 794, 796, 797, 798, 799, 801, 803, 804, 805, 806, 809, 810, 812, 813, 814, 817, 818, 819, 820, 821, 822, 827, 828, 829, 831, 832, 835, 837, 838, 840, 841, 842, 845, 846, 847, 848, 849, 850, 853, 854, 855, 856, 857, 860, 861, 863, 864, 866, 867, 868, 869, 870, 871, 873, 874, 877, 878, 879, 880, 882, 883, 884, 885, 889, 890, 891, 896, 899, 901, 903, 904, 905, 906, 907, 908, 909, 913, 915, 916, 917, 918, 919, 920, 921, 922, 923, 925, 928, 930, 934, 936, 937, 939, 940, 942, 943, 949, 950, 951, 952, 953, 954, 955, 957, 958, 960, 961, 962, 963, 968, 969, 970, 973, 974, 975, 977, 978, 980, 981, 983, 984, 985, 986, 987, 989, 992, 995, 997, 998, 999, 1000, 1001, 1002, 1003, 1004, 1005, 1006, 1007, 1008, 1009, 1010, 1011, 1012, 1013, 1014, 1015, 1016, 1017, 1018, 1019, 1020, 1021, 1022, 1023, 1024, 1025, 1026, 1027, 1028, 1029, 1030, 1031, 1032, 1033, 1034, 1035, 1036, 1037, 1038, 1039, 1040, 1041, 1042, 1043, 1044, 1045, 1046, 1047, 1048, 1049, 1050, 1051, 1052, 1053, 1054, 1055, 1056, 1057, 1058, 1059, 1060, 1061, 1062, 1063, 1064, 1065, 1066, 1067, 1068, 1069, 1070, 1071, 1072, 1073, 1074, 1075, 1076, 1077, 1078, 1079, 1080, 1081, 1082, 1083, 1084, 1085, 1086, 1087, 1088, 1089, 1090, 1091, 1092, 1093, 1094, 1095, 1096, 1097, 1098, 1099, 1100, 1101, 1102, 1103, 1104, 1105, 1106, 1107, 1108, 1109, 1110, 1111, 1112, 1113, 1114, 1115, 1116, 1117, 1118, 1119, 1120, 1121, 1122, 1123, 1124, 1125, 1126, 1127, 1128, 1129, 1130, 1131, 1132, 1133, 1134, 1135, 1136, 1137, 1138, 1139, 1140, 1141, 1142, 1143, 1144, 1145, 1146, 1147, 1148, 1149, 1150, 1151, 1152, 1153, 1154, 1155, 1156, 1157, 1158, 1159, 1160, 1161, 1162, 1163, 1164, 1165, 1166, 1167, 1168, 1169, 1170, 1171, 1172, 1173, 1174, 1175, 1176, 1177, 1178, 1179, 1180, 1181, 1182, 1183, 1184, 1185, 1186, 1187, 1188, 1189, 1190, 1191, 1192, 1193, 1194, 1195, 1196, 1197, 1198, 1199, 1200, 1201, 1202, 1203, 1204, 1205, 1206, 1207, 1208, 1209, 1210, 1211, 1212, 1213, 1214, 1215, 1216, 1217, 1218, 1219, 1220, 1221, 1222, 1223, 1224, 1225, 1226, 1227, 1228, 1229, 1230, 1231, 1232, 1233, 1234, 1235, 1236, 1237, 1238, 1239, 1240, 1241, 1242, 1243, 1244, 1245, 1246, 1247, 1248, 1249, 1250, 1251, 1252, 1253, 1254, 1255, 1256, 1257, 1258, 1259, 1260, 1261, 1262, 1263, 1264, 1265, 1266, 1267, 1268, 1269, 1270, 1271, 1272, 1273, 1274, 1275, 1276, 1277, 1278, 1279, 1280, 1281, 1282, 1283, 1284, 1285, 1286, 1287, 1288, 1289, 1290, 1291, 1292, 1293, 1294, 1295, 1296, 1297, 1298, 1299, 1300 VALIDATION: 658, 665, 677, 683, 684, 688, 691, 692, 695, 697, 701, 705, 708, 710, 715, 725, 727, 731, 735, 737, 743, 744, 748, 751, 752, 759, 760, 761, 762, 763, 768, 771, 773, 775, 777, 779, 780, 781, 782, 783, 784, 788, 791, 792, 795, 800, 802, 807, 808, 811, 815, 816, 823, 824, 825, 826, 830, 833, 834, 836, 839, 843, 844, 851, 852, 858, 859, 862, 865, 872, 875, 876, 881, 886, 887, 888, 892, 893, 894, 895, 897, 898, 900, 902, 910, 911, 912, 914, 924, 926, 927, 929, 931, 932, 933, 935, 938, 941, 944, 945, 946, 947, 948, 956, 959, 964, 965, 966, 967, 971, 972, 976, 979, 982, 988, 990, 991, 993, 994, 996\n"
          ]
        }
      ]
    },
    {
      "cell_type": "markdown",
      "source": [
        "The below code's output: if train and val folders do not exist in our base directory, base_dir, we specify, we create these folders to now copy over our images into the training and val batches based off the previous indices we get from previous code block's execution."
      ],
      "metadata": {
        "id": "NGEKh39zvXmo"
      }
    },
    {
      "cell_type": "code",
      "source": [
        "# attempting to save training and testing (val) batches post-stratification\n",
        "import os\n",
        "\n",
        "# Define your base directory where you want to save the images\n",
        "base_dir = '/content/drive/MyDrive/Stratified/Stratified_White_Gray_Dataset'\n",
        "\n",
        "# Create training and testing directories\n",
        "train_dir = os.path.join(base_dir, 'Train')\n",
        "val_dir = os.path.join(base_dir, 'Validation')\n",
        "\n",
        "# Making directories if they don't exist\n",
        "if not os.path.exists(train_dir):\n",
        "    os.makedirs(train_dir)\n",
        "if not os.path.exists(val_dir):\n",
        "    os.makedirs(val_dir)\n"
      ],
      "metadata": {
        "id": "1j6B6qUEWxOB"
      },
      "execution_count": null,
      "outputs": []
    },
    {
      "cell_type": "markdown",
      "source": [
        "The below code's output: based off of the indices specified we got from performing stratification, we can iterate through"
      ],
      "metadata": {
        "id": "hm6QbK8avqy8"
      }
    },
    {
      "cell_type": "markdown",
      "source": [
        "The below code's output: making sure there are no joint images, repeat images, in folders to ensure that stratification algorithm implementation worked mechanically."
      ],
      "metadata": {
        "id": "GmfIONMjwMt0"
      }
    },
    {
      "cell_type": "markdown",
      "source": [
        "MAKING SURE THE ANNOTATIONS CORRESPOND TO THE IMAGES WHEN I UPLOAD TO ROBOFLOW\n",
        "DO NOT RUN THIS MORE THAN ONCE. ONLY RUN IF YOU  HAVE ZERO IMAGES IN\n",
        "\n",
        "The below code's output: images are put into target folder, val folder or train folder. This is actually how the training and validation images appear in the folders.\n",
        "\n",
        "Because we iterate through the annotation folder, checking the name of each file within the annotation folder, and we put the corresponding .jpg image in with the annotation name to ENSURE that annotations are matching up with their images in each of the val and training folders."
      ],
      "metadata": {
        "id": "Okyt0l0mw8EF"
      }
    },
    {
      "cell_type": "code",
      "source": [
        "# # List to hold the paths of all the image ANNOTATIONS\n",
        "# annotation_paths = []\n",
        "# source_annotation_dir = '/content/drive/MyDrive/images_gray_pieces_strain/annotations/Annotations'\n",
        "\n",
        "# # Walk through the source directory and append each image path to the list\n",
        "# for root, dirs, files in os.walk(source_annotation_dir):\n",
        "#     for file in files:\n",
        "#         if file.endswith('.xml'):  # Add or modify the condition based on your image file types\n",
        "#             annotation_paths.append(os.path.join(root, file))\n",
        "\n",
        "# print(annotation_paths)\n",
        "\n",
        "import os\n",
        "\n",
        "# List to hold the paths of all the image ANNOTATIONS\n",
        "annotation_paths = []\n",
        "source_annotation_dir = '/content/drive/MyDrive/images_white_pieces_strain/annotations'\n",
        "\n",
        "# Walk through the source directory and append each image path to the list\n",
        "for root, dirs, files in os.walk(source_annotation_dir):\n",
        "    for file in files:\n",
        "        if file.endswith('.xml'):  # Add or modify the condition based on your image file types\n",
        "            annotation_paths.append(os.path.join(root, file))\n",
        "\n",
        "# Sort the annotation paths list\n",
        "annotation_paths.sort()\n",
        "\n",
        "print(annotation_paths)\n"
      ],
      "metadata": {
        "id": "JgYFyE1ft5VW",
        "colab": {
          "base_uri": "https://localhost:8080/"
        },
        "outputId": "acd86148-dee9-4b42-ab29-cc5107637d73"
      },
      "execution_count": null,
      "outputs": [
        {
          "output_type": "stream",
          "name": "stdout",
          "text": [
            "['/content/drive/MyDrive/images_white_pieces_strain/annotations/WIN_20240207_12_07_19_Pro.xml', '/content/drive/MyDrive/images_white_pieces_strain/annotations/WIN_20240207_12_07_27_Pro.xml', '/content/drive/MyDrive/images_white_pieces_strain/annotations/WIN_20240207_12_07_31_Pro.xml', '/content/drive/MyDrive/images_white_pieces_strain/annotations/WIN_20240207_12_07_35_Pro.xml', '/content/drive/MyDrive/images_white_pieces_strain/annotations/WIN_20240207_12_07_42_Pro.xml', '/content/drive/MyDrive/images_white_pieces_strain/annotations/WIN_20240207_12_07_47_Pro.xml', '/content/drive/MyDrive/images_white_pieces_strain/annotations/WIN_20240207_12_07_51_Pro.xml', '/content/drive/MyDrive/images_white_pieces_strain/annotations/WIN_20240207_12_07_55_Pro.xml', '/content/drive/MyDrive/images_white_pieces_strain/annotations/WIN_20240207_12_07_59_Pro.xml', '/content/drive/MyDrive/images_white_pieces_strain/annotations/WIN_20240207_12_08_03_Pro.xml', '/content/drive/MyDrive/images_white_pieces_strain/annotations/WIN_20240207_12_08_07_Pro.xml', '/content/drive/MyDrive/images_white_pieces_strain/annotations/WIN_20240207_12_08_10_Pro.xml', '/content/drive/MyDrive/images_white_pieces_strain/annotations/WIN_20240207_12_08_14_Pro.xml', '/content/drive/MyDrive/images_white_pieces_strain/annotations/WIN_20240207_12_08_18_Pro.xml', '/content/drive/MyDrive/images_white_pieces_strain/annotations/WIN_20240207_12_08_22_Pro.xml', '/content/drive/MyDrive/images_white_pieces_strain/annotations/WIN_20240207_12_08_26_Pro.xml', '/content/drive/MyDrive/images_white_pieces_strain/annotations/WIN_20240207_12_08_40_Pro.xml', '/content/drive/MyDrive/images_white_pieces_strain/annotations/WIN_20240207_12_08_43_Pro.xml', '/content/drive/MyDrive/images_white_pieces_strain/annotations/WIN_20240207_12_08_46_Pro.xml', '/content/drive/MyDrive/images_white_pieces_strain/annotations/WIN_20240207_12_08_49_Pro.xml', '/content/drive/MyDrive/images_white_pieces_strain/annotations/WIN_20240207_12_08_53_Pro.xml', '/content/drive/MyDrive/images_white_pieces_strain/annotations/WIN_20240207_12_08_56_Pro.xml', '/content/drive/MyDrive/images_white_pieces_strain/annotations/WIN_20240207_12_08_59_Pro.xml', '/content/drive/MyDrive/images_white_pieces_strain/annotations/WIN_20240207_12_09_03_Pro.xml', '/content/drive/MyDrive/images_white_pieces_strain/annotations/WIN_20240207_12_09_07_Pro.xml', '/content/drive/MyDrive/images_white_pieces_strain/annotations/WIN_20240207_12_09_11_Pro.xml', '/content/drive/MyDrive/images_white_pieces_strain/annotations/WIN_20240207_12_09_15_Pro.xml', '/content/drive/MyDrive/images_white_pieces_strain/annotations/WIN_20240207_12_09_19_Pro.xml', '/content/drive/MyDrive/images_white_pieces_strain/annotations/WIN_20240207_12_09_26_Pro.xml', '/content/drive/MyDrive/images_white_pieces_strain/annotations/WIN_20240207_12_09_30_Pro.xml', '/content/drive/MyDrive/images_white_pieces_strain/annotations/WIN_20240207_12_09_33_Pro.xml', '/content/drive/MyDrive/images_white_pieces_strain/annotations/WIN_20240207_12_09_38_Pro.xml', '/content/drive/MyDrive/images_white_pieces_strain/annotations/WIN_20240207_20_33_21_Pro.xml', '/content/drive/MyDrive/images_white_pieces_strain/annotations/WIN_20240207_20_33_31_Pro.xml', '/content/drive/MyDrive/images_white_pieces_strain/annotations/WIN_20240207_20_33_34_Pro.xml', '/content/drive/MyDrive/images_white_pieces_strain/annotations/WIN_20240207_20_33_36_Pro.xml', '/content/drive/MyDrive/images_white_pieces_strain/annotations/WIN_20240207_20_33_39_Pro.xml', '/content/drive/MyDrive/images_white_pieces_strain/annotations/WIN_20240207_20_33_41_Pro.xml', '/content/drive/MyDrive/images_white_pieces_strain/annotations/WIN_20240207_20_33_43_Pro.xml', '/content/drive/MyDrive/images_white_pieces_strain/annotations/WIN_20240207_20_33_45_Pro.xml', '/content/drive/MyDrive/images_white_pieces_strain/annotations/WIN_20240207_20_33_48_Pro.xml', '/content/drive/MyDrive/images_white_pieces_strain/annotations/WIN_20240207_20_33_51_Pro.xml', '/content/drive/MyDrive/images_white_pieces_strain/annotations/WIN_20240207_20_33_55_Pro.xml', '/content/drive/MyDrive/images_white_pieces_strain/annotations/WIN_20240207_20_33_57_Pro.xml', '/content/drive/MyDrive/images_white_pieces_strain/annotations/WIN_20240207_20_34_00_Pro.xml', '/content/drive/MyDrive/images_white_pieces_strain/annotations/WIN_20240207_20_34_03_Pro.xml', '/content/drive/MyDrive/images_white_pieces_strain/annotations/WIN_20240207_20_34_06_Pro.xml', '/content/drive/MyDrive/images_white_pieces_strain/annotations/WIN_20240207_20_34_09_Pro.xml', '/content/drive/MyDrive/images_white_pieces_strain/annotations/WIN_20240207_20_34_12_Pro.xml', '/content/drive/MyDrive/images_white_pieces_strain/annotations/WIN_20240207_20_34_15_Pro.xml', '/content/drive/MyDrive/images_white_pieces_strain/annotations/WIN_20240207_20_34_17_Pro.xml', '/content/drive/MyDrive/images_white_pieces_strain/annotations/WIN_20240207_20_34_20_Pro.xml', '/content/drive/MyDrive/images_white_pieces_strain/annotations/WIN_20240207_20_34_22_Pro.xml', '/content/drive/MyDrive/images_white_pieces_strain/annotations/WIN_20240207_20_34_24_Pro.xml', '/content/drive/MyDrive/images_white_pieces_strain/annotations/WIN_20240207_20_34_26_Pro.xml', '/content/drive/MyDrive/images_white_pieces_strain/annotations/WIN_20240207_20_34_28_Pro.xml', '/content/drive/MyDrive/images_white_pieces_strain/annotations/WIN_20240207_20_34_30_Pro.xml', '/content/drive/MyDrive/images_white_pieces_strain/annotations/WIN_20240207_20_34_33_Pro.xml', '/content/drive/MyDrive/images_white_pieces_strain/annotations/WIN_20240207_20_34_36_Pro.xml', '/content/drive/MyDrive/images_white_pieces_strain/annotations/WIN_20240207_20_34_38_Pro.xml', '/content/drive/MyDrive/images_white_pieces_strain/annotations/WIN_20240207_20_34_41_Pro.xml', '/content/drive/MyDrive/images_white_pieces_strain/annotations/WIN_20240207_20_34_44_Pro.xml', '/content/drive/MyDrive/images_white_pieces_strain/annotations/WIN_20240207_20_34_47_Pro.xml', '/content/drive/MyDrive/images_white_pieces_strain/annotations/WIN_20240207_20_34_50_Pro.xml', '/content/drive/MyDrive/images_white_pieces_strain/annotations/WIN_20240207_20_34_52_Pro.xml', '/content/drive/MyDrive/images_white_pieces_strain/annotations/WIN_20240207_20_34_55_Pro.xml', '/content/drive/MyDrive/images_white_pieces_strain/annotations/WIN_20240207_20_34_58_Pro.xml', '/content/drive/MyDrive/images_white_pieces_strain/annotations/WIN_20240207_20_35_02_Pro.xml', '/content/drive/MyDrive/images_white_pieces_strain/annotations/WIN_20240207_20_35_05_Pro.xml', '/content/drive/MyDrive/images_white_pieces_strain/annotations/WIN_20240207_20_35_08_Pro.xml', '/content/drive/MyDrive/images_white_pieces_strain/annotations/WIN_20240207_20_35_10_Pro.xml', '/content/drive/MyDrive/images_white_pieces_strain/annotations/WIN_20240207_20_35_13_Pro.xml', '/content/drive/MyDrive/images_white_pieces_strain/annotations/WIN_20240207_20_35_16_Pro.xml', '/content/drive/MyDrive/images_white_pieces_strain/annotations/WIN_20240207_20_35_19_Pro.xml', '/content/drive/MyDrive/images_white_pieces_strain/annotations/WIN_20240207_20_35_22_Pro.xml', '/content/drive/MyDrive/images_white_pieces_strain/annotations/WIN_20240207_20_35_25_Pro.xml', '/content/drive/MyDrive/images_white_pieces_strain/annotations/WIN_20240207_20_35_27_Pro.xml', '/content/drive/MyDrive/images_white_pieces_strain/annotations/WIN_20240207_20_35_31_Pro.xml', '/content/drive/MyDrive/images_white_pieces_strain/annotations/WIN_20240207_20_35_33_Pro.xml', '/content/drive/MyDrive/images_white_pieces_strain/annotations/WIN_20240207_20_35_36_Pro.xml', '/content/drive/MyDrive/images_white_pieces_strain/annotations/WIN_20240207_20_35_39_Pro.xml', '/content/drive/MyDrive/images_white_pieces_strain/annotations/WIN_20240207_20_35_42_Pro.xml', '/content/drive/MyDrive/images_white_pieces_strain/annotations/WIN_20240207_20_35_45_Pro.xml', '/content/drive/MyDrive/images_white_pieces_strain/annotations/WIN_20240207_20_35_48_Pro.xml', '/content/drive/MyDrive/images_white_pieces_strain/annotations/WIN_20240207_20_35_51_Pro.xml', '/content/drive/MyDrive/images_white_pieces_strain/annotations/WIN_20240207_20_35_52_Pro.xml', '/content/drive/MyDrive/images_white_pieces_strain/annotations/WIN_20240207_20_35_55_Pro.xml', '/content/drive/MyDrive/images_white_pieces_strain/annotations/WIN_20240207_20_35_57_Pro.xml', '/content/drive/MyDrive/images_white_pieces_strain/annotations/WIN_20240207_20_36_01_Pro.xml', '/content/drive/MyDrive/images_white_pieces_strain/annotations/WIN_20240207_20_36_04_Pro.xml', '/content/drive/MyDrive/images_white_pieces_strain/annotations/WIN_20240207_20_36_07_Pro.xml', '/content/drive/MyDrive/images_white_pieces_strain/annotations/WIN_20240207_20_36_10_Pro.xml', '/content/drive/MyDrive/images_white_pieces_strain/annotations/WIN_20240207_20_36_14_Pro.xml', '/content/drive/MyDrive/images_white_pieces_strain/annotations/WIN_20240207_20_36_15_Pro.xml', '/content/drive/MyDrive/images_white_pieces_strain/annotations/WIN_20240207_20_36_19_Pro.xml', '/content/drive/MyDrive/images_white_pieces_strain/annotations/WIN_20240207_20_36_23_Pro.xml', '/content/drive/MyDrive/images_white_pieces_strain/annotations/WIN_20240207_20_36_27_Pro.xml', '/content/drive/MyDrive/images_white_pieces_strain/annotations/WIN_20240207_20_36_31_Pro.xml', '/content/drive/MyDrive/images_white_pieces_strain/annotations/WIN_20240207_20_36_41_Pro.xml', '/content/drive/MyDrive/images_white_pieces_strain/annotations/WIN_20240207_20_36_44_Pro.xml', '/content/drive/MyDrive/images_white_pieces_strain/annotations/WIN_20240207_20_36_47_Pro.xml', '/content/drive/MyDrive/images_white_pieces_strain/annotations/WIN_20240207_20_36_49_Pro.xml', '/content/drive/MyDrive/images_white_pieces_strain/annotations/WIN_20240207_20_36_51_Pro.xml', '/content/drive/MyDrive/images_white_pieces_strain/annotations/WIN_20240207_20_36_54_Pro.xml', '/content/drive/MyDrive/images_white_pieces_strain/annotations/WIN_20240207_20_36_56_Pro.xml', '/content/drive/MyDrive/images_white_pieces_strain/annotations/WIN_20240207_20_36_58_Pro.xml', '/content/drive/MyDrive/images_white_pieces_strain/annotations/WIN_20240207_20_37_01_Pro.xml', '/content/drive/MyDrive/images_white_pieces_strain/annotations/WIN_20240207_20_37_04_Pro.xml', '/content/drive/MyDrive/images_white_pieces_strain/annotations/WIN_20240207_20_37_06_Pro.xml', '/content/drive/MyDrive/images_white_pieces_strain/annotations/WIN_20240207_20_37_09_Pro.xml', '/content/drive/MyDrive/images_white_pieces_strain/annotations/WIN_20240207_20_37_13_Pro.xml', '/content/drive/MyDrive/images_white_pieces_strain/annotations/WIN_20240207_20_37_16_Pro.xml', '/content/drive/MyDrive/images_white_pieces_strain/annotations/WIN_20240207_20_37_18_Pro.xml', '/content/drive/MyDrive/images_white_pieces_strain/annotations/WIN_20240207_20_37_21_Pro.xml', '/content/drive/MyDrive/images_white_pieces_strain/annotations/WIN_20240207_20_37_24_Pro.xml', '/content/drive/MyDrive/images_white_pieces_strain/annotations/WIN_20240207_20_37_26_Pro.xml', '/content/drive/MyDrive/images_white_pieces_strain/annotations/WIN_20240207_20_37_29_Pro.xml', '/content/drive/MyDrive/images_white_pieces_strain/annotations/WIN_20240207_20_37_31_Pro.xml', '/content/drive/MyDrive/images_white_pieces_strain/annotations/WIN_20240207_20_37_34_Pro.xml', '/content/drive/MyDrive/images_white_pieces_strain/annotations/WIN_20240207_20_37_37_Pro.xml', '/content/drive/MyDrive/images_white_pieces_strain/annotations/WIN_20240207_20_37_39_Pro.xml', '/content/drive/MyDrive/images_white_pieces_strain/annotations/WIN_20240207_20_37_42_Pro.xml', '/content/drive/MyDrive/images_white_pieces_strain/annotations/WIN_20240207_20_37_45_Pro.xml', '/content/drive/MyDrive/images_white_pieces_strain/annotations/WIN_20240207_20_37_47_Pro.xml', '/content/drive/MyDrive/images_white_pieces_strain/annotations/WIN_20240207_20_37_50_Pro.xml', '/content/drive/MyDrive/images_white_pieces_strain/annotations/WIN_20240207_20_37_53_Pro.xml', '/content/drive/MyDrive/images_white_pieces_strain/annotations/WIN_20240207_20_37_57_Pro.xml', '/content/drive/MyDrive/images_white_pieces_strain/annotations/WIN_20240207_20_37_59_Pro.xml', '/content/drive/MyDrive/images_white_pieces_strain/annotations/WIN_20240207_20_38_02_Pro.xml', '/content/drive/MyDrive/images_white_pieces_strain/annotations/WIN_20240207_20_38_05_Pro.xml', '/content/drive/MyDrive/images_white_pieces_strain/annotations/WIN_20240207_20_38_08_Pro.xml', '/content/drive/MyDrive/images_white_pieces_strain/annotations/WIN_20240207_20_38_10_Pro.xml', '/content/drive/MyDrive/images_white_pieces_strain/annotations/WIN_20240207_20_38_13_Pro.xml', '/content/drive/MyDrive/images_white_pieces_strain/annotations/WIN_20240207_20_38_16_Pro.xml', '/content/drive/MyDrive/images_white_pieces_strain/annotations/WIN_20240207_20_38_19_Pro.xml', '/content/drive/MyDrive/images_white_pieces_strain/annotations/WIN_20240207_20_38_22_Pro.xml', '/content/drive/MyDrive/images_white_pieces_strain/annotations/WIN_20240207_20_38_26_Pro.xml', '/content/drive/MyDrive/images_white_pieces_strain/annotations/WIN_20240207_20_38_29_Pro.xml', '/content/drive/MyDrive/images_white_pieces_strain/annotations/WIN_20240207_20_38_37_Pro.xml', '/content/drive/MyDrive/images_white_pieces_strain/annotations/WIN_20240207_20_38_41_Pro.xml', '/content/drive/MyDrive/images_white_pieces_strain/annotations/WIN_20240207_20_38_45_Pro.xml', '/content/drive/MyDrive/images_white_pieces_strain/annotations/WIN_20240207_20_38_49_Pro.xml', '/content/drive/MyDrive/images_white_pieces_strain/annotations/WIN_20240207_20_38_52_Pro.xml', '/content/drive/MyDrive/images_white_pieces_strain/annotations/WIN_20240207_20_38_55_Pro.xml', '/content/drive/MyDrive/images_white_pieces_strain/annotations/WIN_20240207_20_38_58_Pro.xml', '/content/drive/MyDrive/images_white_pieces_strain/annotations/WIN_20240207_20_39_00_Pro.xml', '/content/drive/MyDrive/images_white_pieces_strain/annotations/WIN_20240207_20_39_03_Pro.xml', '/content/drive/MyDrive/images_white_pieces_strain/annotations/WIN_20240207_20_39_04_Pro.xml', '/content/drive/MyDrive/images_white_pieces_strain/annotations/WIN_20240207_20_39_07_Pro.xml', '/content/drive/MyDrive/images_white_pieces_strain/annotations/WIN_20240207_20_39_10_Pro.xml', '/content/drive/MyDrive/images_white_pieces_strain/annotations/WIN_20240207_20_39_12_Pro.xml', '/content/drive/MyDrive/images_white_pieces_strain/annotations/WIN_20240207_20_39_15_Pro.xml', '/content/drive/MyDrive/images_white_pieces_strain/annotations/WIN_20240207_20_39_18_Pro.xml', '/content/drive/MyDrive/images_white_pieces_strain/annotations/WIN_20240207_20_39_20_Pro.xml', '/content/drive/MyDrive/images_white_pieces_strain/annotations/WIN_20240207_20_39_23_Pro.xml', '/content/drive/MyDrive/images_white_pieces_strain/annotations/WIN_20240207_20_39_26_Pro.xml', '/content/drive/MyDrive/images_white_pieces_strain/annotations/WIN_20240207_20_39_28_Pro.xml', '/content/drive/MyDrive/images_white_pieces_strain/annotations/WIN_20240207_20_39_33_Pro.xml', '/content/drive/MyDrive/images_white_pieces_strain/annotations/WIN_20240207_20_39_37_Pro.xml', '/content/drive/MyDrive/images_white_pieces_strain/annotations/WIN_20240207_20_39_40_Pro.xml', '/content/drive/MyDrive/images_white_pieces_strain/annotations/WIN_20240207_20_39_43_Pro.xml', '/content/drive/MyDrive/images_white_pieces_strain/annotations/WIN_20240207_20_39_46_Pro.xml', '/content/drive/MyDrive/images_white_pieces_strain/annotations/WIN_20240207_20_39_49_Pro.xml', '/content/drive/MyDrive/images_white_pieces_strain/annotations/WIN_20240207_20_39_51_Pro.xml', '/content/drive/MyDrive/images_white_pieces_strain/annotations/WIN_20240207_20_39_54_Pro.xml', '/content/drive/MyDrive/images_white_pieces_strain/annotations/WIN_20240207_20_39_58_Pro.xml', '/content/drive/MyDrive/images_white_pieces_strain/annotations/WIN_20240207_20_40_00_Pro.xml', '/content/drive/MyDrive/images_white_pieces_strain/annotations/WIN_20240207_20_40_02_Pro.xml', '/content/drive/MyDrive/images_white_pieces_strain/annotations/WIN_20240207_20_40_04_Pro.xml', '/content/drive/MyDrive/images_white_pieces_strain/annotations/WIN_20240207_20_40_06_Pro.xml', '/content/drive/MyDrive/images_white_pieces_strain/annotations/WIN_20240207_20_40_09_Pro.xml', '/content/drive/MyDrive/images_white_pieces_strain/annotations/WIN_20240207_20_40_12_Pro.xml', '/content/drive/MyDrive/images_white_pieces_strain/annotations/WIN_20240207_20_40_16_Pro.xml', '/content/drive/MyDrive/images_white_pieces_strain/annotations/WIN_20240207_20_40_18_Pro.xml', '/content/drive/MyDrive/images_white_pieces_strain/annotations/WIN_20240207_20_40_21_Pro.xml', '/content/drive/MyDrive/images_white_pieces_strain/annotations/WIN_20240207_20_40_23_Pro.xml', '/content/drive/MyDrive/images_white_pieces_strain/annotations/WIN_20240207_20_40_25_Pro.xml', '/content/drive/MyDrive/images_white_pieces_strain/annotations/WIN_20240207_20_40_27_Pro.xml', '/content/drive/MyDrive/images_white_pieces_strain/annotations/WIN_20240207_20_40_29_Pro.xml', '/content/drive/MyDrive/images_white_pieces_strain/annotations/WIN_20240207_20_40_31_Pro.xml', '/content/drive/MyDrive/images_white_pieces_strain/annotations/WIN_20240207_20_40_33_Pro.xml', '/content/drive/MyDrive/images_white_pieces_strain/annotations/WIN_20240207_20_40_36_Pro.xml', '/content/drive/MyDrive/images_white_pieces_strain/annotations/WIN_20240207_20_40_38_Pro.xml', '/content/drive/MyDrive/images_white_pieces_strain/annotations/WIN_20240207_20_40_40_Pro.xml', '/content/drive/MyDrive/images_white_pieces_strain/annotations/WIN_20240207_20_40_42_Pro.xml', '/content/drive/MyDrive/images_white_pieces_strain/annotations/WIN_20240207_20_40_44_Pro.xml', '/content/drive/MyDrive/images_white_pieces_strain/annotations/WIN_20240207_20_40_46_Pro.xml', '/content/drive/MyDrive/images_white_pieces_strain/annotations/WIN_20240207_20_40_47_Pro.xml', '/content/drive/MyDrive/images_white_pieces_strain/annotations/WIN_20240207_20_40_49_Pro.xml', '/content/drive/MyDrive/images_white_pieces_strain/annotations/WIN_20240207_20_40_51_Pro.xml', '/content/drive/MyDrive/images_white_pieces_strain/annotations/WIN_20240207_20_40_53_Pro.xml', '/content/drive/MyDrive/images_white_pieces_strain/annotations/WIN_20240207_20_40_55_Pro.xml', '/content/drive/MyDrive/images_white_pieces_strain/annotations/WIN_20240207_20_40_57_Pro.xml', '/content/drive/MyDrive/images_white_pieces_strain/annotations/WIN_20240207_20_40_59_Pro.xml', '/content/drive/MyDrive/images_white_pieces_strain/annotations/WIN_20240207_20_41_01_Pro.xml', '/content/drive/MyDrive/images_white_pieces_strain/annotations/WIN_20240207_20_41_03_Pro.xml', '/content/drive/MyDrive/images_white_pieces_strain/annotations/WIN_20240207_20_41_05_Pro.xml', '/content/drive/MyDrive/images_white_pieces_strain/annotations/WIN_20240207_20_41_08_Pro.xml', '/content/drive/MyDrive/images_white_pieces_strain/annotations/WIN_20240207_20_41_10_Pro.xml', '/content/drive/MyDrive/images_white_pieces_strain/annotations/WIN_20240207_20_41_13_Pro.xml', '/content/drive/MyDrive/images_white_pieces_strain/annotations/WIN_20240207_20_41_15_Pro.xml', '/content/drive/MyDrive/images_white_pieces_strain/annotations/WIN_20240207_20_41_17_Pro.xml', '/content/drive/MyDrive/images_white_pieces_strain/annotations/WIN_20240207_20_41_20_Pro.xml', '/content/drive/MyDrive/images_white_pieces_strain/annotations/WIN_20240207_20_41_22_Pro.xml', '/content/drive/MyDrive/images_white_pieces_strain/annotations/WIN_20240207_20_41_24_Pro.xml', '/content/drive/MyDrive/images_white_pieces_strain/annotations/WIN_20240207_20_41_27_Pro.xml', '/content/drive/MyDrive/images_white_pieces_strain/annotations/WIN_20240207_20_41_30_Pro.xml', '/content/drive/MyDrive/images_white_pieces_strain/annotations/WIN_20240207_20_41_33_Pro.xml', '/content/drive/MyDrive/images_white_pieces_strain/annotations/WIN_20240207_20_41_35_Pro.xml', '/content/drive/MyDrive/images_white_pieces_strain/annotations/WIN_20240207_20_41_38_Pro.xml', '/content/drive/MyDrive/images_white_pieces_strain/annotations/WIN_20240207_20_41_41_Pro.xml', '/content/drive/MyDrive/images_white_pieces_strain/annotations/WIN_20240207_20_41_43_Pro.xml', '/content/drive/MyDrive/images_white_pieces_strain/annotations/WIN_20240207_20_41_46_Pro.xml', '/content/drive/MyDrive/images_white_pieces_strain/annotations/WIN_20240207_20_41_49_Pro.xml', '/content/drive/MyDrive/images_white_pieces_strain/annotations/WIN_20240207_20_41_52_Pro.xml', '/content/drive/MyDrive/images_white_pieces_strain/annotations/WIN_20240207_20_41_56_Pro.xml', '/content/drive/MyDrive/images_white_pieces_strain/annotations/WIN_20240207_20_42_00_Pro.xml', '/content/drive/MyDrive/images_white_pieces_strain/annotations/WIN_20240207_20_42_29_Pro.xml', '/content/drive/MyDrive/images_white_pieces_strain/annotations/WIN_20240207_20_42_34_Pro.xml', '/content/drive/MyDrive/images_white_pieces_strain/annotations/WIN_20240207_20_42_37_Pro.xml', '/content/drive/MyDrive/images_white_pieces_strain/annotations/WIN_20240207_20_42_40_Pro.xml', '/content/drive/MyDrive/images_white_pieces_strain/annotations/WIN_20240207_20_42_44_Pro.xml', '/content/drive/MyDrive/images_white_pieces_strain/annotations/WIN_20240207_20_42_47_Pro.xml', '/content/drive/MyDrive/images_white_pieces_strain/annotations/WIN_20240207_20_42_50_Pro.xml', '/content/drive/MyDrive/images_white_pieces_strain/annotations/WIN_20240207_20_42_53_Pro.xml', '/content/drive/MyDrive/images_white_pieces_strain/annotations/WIN_20240207_20_42_56_Pro.xml', '/content/drive/MyDrive/images_white_pieces_strain/annotations/WIN_20240207_20_43_00_Pro.xml', '/content/drive/MyDrive/images_white_pieces_strain/annotations/WIN_20240207_20_43_04_Pro.xml', '/content/drive/MyDrive/images_white_pieces_strain/annotations/WIN_20240207_20_43_07_Pro.xml', '/content/drive/MyDrive/images_white_pieces_strain/annotations/WIN_20240207_20_43_10_Pro.xml', '/content/drive/MyDrive/images_white_pieces_strain/annotations/WIN_20240207_20_43_15_Pro.xml', '/content/drive/MyDrive/images_white_pieces_strain/annotations/WIN_20240207_20_43_18_Pro.xml', '/content/drive/MyDrive/images_white_pieces_strain/annotations/WIN_20240207_20_43_22_Pro.xml', '/content/drive/MyDrive/images_white_pieces_strain/annotations/WIN_20240207_20_43_31_Pro.xml', '/content/drive/MyDrive/images_white_pieces_strain/annotations/WIN_20240207_20_43_34_Pro.xml', '/content/drive/MyDrive/images_white_pieces_strain/annotations/WIN_20240207_20_43_37_Pro.xml', '/content/drive/MyDrive/images_white_pieces_strain/annotations/WIN_20240207_20_43_40_Pro.xml', '/content/drive/MyDrive/images_white_pieces_strain/annotations/WIN_20240207_20_43_44_Pro.xml', '/content/drive/MyDrive/images_white_pieces_strain/annotations/WIN_20240207_20_43_46_Pro.xml', '/content/drive/MyDrive/images_white_pieces_strain/annotations/WIN_20240207_20_43_52_Pro.xml', '/content/drive/MyDrive/images_white_pieces_strain/annotations/WIN_20240207_20_43_55_Pro.xml', '/content/drive/MyDrive/images_white_pieces_strain/annotations/WIN_20240207_20_43_59_Pro.xml', '/content/drive/MyDrive/images_white_pieces_strain/annotations/WIN_20240207_20_44_02_Pro.xml', '/content/drive/MyDrive/images_white_pieces_strain/annotations/WIN_20240207_20_44_05_Pro.xml', '/content/drive/MyDrive/images_white_pieces_strain/annotations/WIN_20240207_20_44_09_Pro.xml', '/content/drive/MyDrive/images_white_pieces_strain/annotations/WIN_20240207_20_44_12_Pro.xml', '/content/drive/MyDrive/images_white_pieces_strain/annotations/WIN_20240207_20_44_16_Pro.xml', '/content/drive/MyDrive/images_white_pieces_strain/annotations/WIN_20240207_20_44_19_Pro.xml', '/content/drive/MyDrive/images_white_pieces_strain/annotations/WIN_20240207_20_45_01_Pro.xml', '/content/drive/MyDrive/images_white_pieces_strain/annotations/WIN_20240207_20_45_05_Pro.xml', '/content/drive/MyDrive/images_white_pieces_strain/annotations/WIN_20240207_20_45_08_Pro.xml', '/content/drive/MyDrive/images_white_pieces_strain/annotations/WIN_20240207_20_45_10_Pro.xml', '/content/drive/MyDrive/images_white_pieces_strain/annotations/WIN_20240207_20_45_13_Pro.xml', '/content/drive/MyDrive/images_white_pieces_strain/annotations/WIN_20240207_20_45_16_Pro.xml', '/content/drive/MyDrive/images_white_pieces_strain/annotations/WIN_20240207_20_45_20_Pro.xml', '/content/drive/MyDrive/images_white_pieces_strain/annotations/WIN_20240207_20_45_23_Pro.xml', '/content/drive/MyDrive/images_white_pieces_strain/annotations/WIN_20240207_20_45_27_Pro.xml', '/content/drive/MyDrive/images_white_pieces_strain/annotations/WIN_20240207_20_45_31_Pro.xml', '/content/drive/MyDrive/images_white_pieces_strain/annotations/WIN_20240207_20_45_35_Pro.xml', '/content/drive/MyDrive/images_white_pieces_strain/annotations/WIN_20240207_20_45_38_Pro.xml', '/content/drive/MyDrive/images_white_pieces_strain/annotations/WIN_20240207_20_45_42_Pro.xml', '/content/drive/MyDrive/images_white_pieces_strain/annotations/WIN_20240207_20_45_45_Pro.xml', '/content/drive/MyDrive/images_white_pieces_strain/annotations/WIN_20240207_20_45_49_Pro.xml', '/content/drive/MyDrive/images_white_pieces_strain/annotations/WIN_20240207_20_45_52_Pro.xml', '/content/drive/MyDrive/images_white_pieces_strain/annotations/WIN_20240207_20_45_55_Pro.xml', '/content/drive/MyDrive/images_white_pieces_strain/annotations/WIN_20240207_20_45_58_Pro.xml', '/content/drive/MyDrive/images_white_pieces_strain/annotations/WIN_20240207_20_46_01_Pro.xml', '/content/drive/MyDrive/images_white_pieces_strain/annotations/WIN_20240207_20_46_05_Pro.xml', '/content/drive/MyDrive/images_white_pieces_strain/annotations/WIN_20240207_20_46_07_Pro.xml', '/content/drive/MyDrive/images_white_pieces_strain/annotations/WIN_20240207_20_46_10_Pro.xml', '/content/drive/MyDrive/images_white_pieces_strain/annotations/WIN_20240207_20_46_12_Pro.xml', '/content/drive/MyDrive/images_white_pieces_strain/annotations/WIN_20240207_20_46_15_Pro.xml', '/content/drive/MyDrive/images_white_pieces_strain/annotations/WIN_20240207_20_46_18_Pro.xml', '/content/drive/MyDrive/images_white_pieces_strain/annotations/WIN_20240207_20_46_21_Pro.xml', '/content/drive/MyDrive/images_white_pieces_strain/annotations/WIN_20240207_20_46_25_Pro.xml', '/content/drive/MyDrive/images_white_pieces_strain/annotations/WIN_20240207_20_46_29_Pro.xml', '/content/drive/MyDrive/images_white_pieces_strain/annotations/WIN_20240207_20_46_32_Pro.xml', '/content/drive/MyDrive/images_white_pieces_strain/annotations/WIN_20240207_20_46_36_Pro.xml', '/content/drive/MyDrive/images_white_pieces_strain/annotations/WIN_20240207_20_46_39_Pro.xml', '/content/drive/MyDrive/images_white_pieces_strain/annotations/WIN_20240207_20_46_42_Pro.xml', '/content/drive/MyDrive/images_white_pieces_strain/annotations/WIN_20240207_20_46_45_Pro.xml', '/content/drive/MyDrive/images_white_pieces_strain/annotations/WIN_20240207_20_46_48_Pro.xml', '/content/drive/MyDrive/images_white_pieces_strain/annotations/WIN_20240207_20_46_51_Pro.xml', '/content/drive/MyDrive/images_white_pieces_strain/annotations/WIN_20240207_20_46_54_Pro.xml', '/content/drive/MyDrive/images_white_pieces_strain/annotations/WIN_20240207_20_46_58_Pro.xml', '/content/drive/MyDrive/images_white_pieces_strain/annotations/WIN_20240207_20_47_02_Pro.xml', '/content/drive/MyDrive/images_white_pieces_strain/annotations/WIN_20240207_20_47_06_Pro.xml', '/content/drive/MyDrive/images_white_pieces_strain/annotations/WIN_20240207_20_47_10_Pro.xml', '/content/drive/MyDrive/images_white_pieces_strain/annotations/WIN_20240207_20_47_15_Pro.xml', '/content/drive/MyDrive/images_white_pieces_strain/annotations/WIN_20240207_20_47_19_Pro.xml', '/content/drive/MyDrive/images_white_pieces_strain/annotations/WIN_20240207_20_47_23_Pro.xml', '/content/drive/MyDrive/images_white_pieces_strain/annotations/WIN_20240207_20_47_26_Pro.xml', '/content/drive/MyDrive/images_white_pieces_strain/annotations/WIN_20240207_20_47_29_Pro.xml', '/content/drive/MyDrive/images_white_pieces_strain/annotations/WIN_20240207_20_47_30_Pro.xml', '/content/drive/MyDrive/images_white_pieces_strain/annotations/WIN_20240207_20_47_33_Pro.xml', '/content/drive/MyDrive/images_white_pieces_strain/annotations/WIN_20240207_20_47_36_Pro.xml', '/content/drive/MyDrive/images_white_pieces_strain/annotations/WIN_20240207_20_47_40_Pro.xml', '/content/drive/MyDrive/images_white_pieces_strain/annotations/WIN_20240207_20_47_43_Pro.xml', '/content/drive/MyDrive/images_white_pieces_strain/annotations/WIN_20240207_20_47_46_Pro.xml', '/content/drive/MyDrive/images_white_pieces_strain/annotations/WIN_20240207_20_47_50_Pro.xml', '/content/drive/MyDrive/images_white_pieces_strain/annotations/WIN_20240207_20_47_53_Pro.xml', '/content/drive/MyDrive/images_white_pieces_strain/annotations/WIN_20240207_20_47_57_Pro.xml', '/content/drive/MyDrive/images_white_pieces_strain/annotations/WIN_20240207_20_48_00_Pro.xml', '/content/drive/MyDrive/images_white_pieces_strain/annotations/WIN_20240207_20_48_04_Pro.xml', '/content/drive/MyDrive/images_white_pieces_strain/annotations/WIN_20240207_20_48_08_Pro.xml', '/content/drive/MyDrive/images_white_pieces_strain/annotations/WIN_20240207_20_48_15_Pro.xml', '/content/drive/MyDrive/images_white_pieces_strain/annotations/WIN_20240207_20_48_19_Pro.xml', '/content/drive/MyDrive/images_white_pieces_strain/annotations/WIN_20240207_20_48_22_Pro.xml', '/content/drive/MyDrive/images_white_pieces_strain/annotations/WIN_20240207_20_48_25_Pro.xml', '/content/drive/MyDrive/images_white_pieces_strain/annotations/WIN_20240207_20_48_28_Pro.xml', '/content/drive/MyDrive/images_white_pieces_strain/annotations/WIN_20240207_20_48_32_Pro.xml', '/content/drive/MyDrive/images_white_pieces_strain/annotations/WIN_20240207_20_48_36_Pro.xml', '/content/drive/MyDrive/images_white_pieces_strain/annotations/WIN_20240207_20_48_39_Pro.xml', '/content/drive/MyDrive/images_white_pieces_strain/annotations/WIN_20240207_20_48_42_Pro.xml', '/content/drive/MyDrive/images_white_pieces_strain/annotations/WIN_20240207_20_48_45_Pro.xml', '/content/drive/MyDrive/images_white_pieces_strain/annotations/WIN_20240207_20_48_48_Pro.xml', '/content/drive/MyDrive/images_white_pieces_strain/annotations/WIN_20240207_20_48_51_Pro.xml', '/content/drive/MyDrive/images_white_pieces_strain/annotations/WIN_20240207_20_48_54_Pro.xml', '/content/drive/MyDrive/images_white_pieces_strain/annotations/WIN_20240207_20_48_58_Pro.xml', '/content/drive/MyDrive/images_white_pieces_strain/annotations/WIN_20240207_20_49_02_Pro.xml', '/content/drive/MyDrive/images_white_pieces_strain/annotations/WIN_20240207_20_49_06_Pro.xml', '/content/drive/MyDrive/images_white_pieces_strain/annotations/WIN_20240207_20_49_10_Pro.xml', '/content/drive/MyDrive/images_white_pieces_strain/annotations/WIN_20240207_20_49_14_Pro.xml', '/content/drive/MyDrive/images_white_pieces_strain/annotations/WIN_20240207_20_49_17_Pro.xml', '/content/drive/MyDrive/images_white_pieces_strain/annotations/WIN_20240207_20_49_21_Pro.xml', '/content/drive/MyDrive/images_white_pieces_strain/annotations/WIN_20240207_20_49_25_Pro.xml', '/content/drive/MyDrive/images_white_pieces_strain/annotations/WIN_20240207_20_49_29_Pro.xml', '/content/drive/MyDrive/images_white_pieces_strain/annotations/WIN_20240207_20_49_32_Pro.xml', '/content/drive/MyDrive/images_white_pieces_strain/annotations/WIN_20240207_20_49_36_Pro.xml', '/content/drive/MyDrive/images_white_pieces_strain/annotations/WIN_20240207_20_49_40_Pro.xml', '/content/drive/MyDrive/images_white_pieces_strain/annotations/WIN_20240207_20_49_43_Pro.xml', '/content/drive/MyDrive/images_white_pieces_strain/annotations/WIN_20240207_20_49_47_Pro.xml', '/content/drive/MyDrive/images_white_pieces_strain/annotations/WIN_20240207_20_49_50_Pro.xml', '/content/drive/MyDrive/images_white_pieces_strain/annotations/WIN_20240207_20_49_53_Pro.xml', '/content/drive/MyDrive/images_white_pieces_strain/annotations/WIN_20240207_20_49_57_Pro.xml', '/content/drive/MyDrive/images_white_pieces_strain/annotations/WIN_20240207_20_50_01_Pro.xml', '/content/drive/MyDrive/images_white_pieces_strain/annotations/WIN_20240207_20_50_15_Pro.xml', '/content/drive/MyDrive/images_white_pieces_strain/annotations/WIN_20240207_20_50_19_Pro.xml', '/content/drive/MyDrive/images_white_pieces_strain/annotations/WIN_20240207_20_50_22_Pro.xml', '/content/drive/MyDrive/images_white_pieces_strain/annotations/WIN_20240207_20_50_25_Pro.xml', '/content/drive/MyDrive/images_white_pieces_strain/annotations/WIN_20240207_20_50_29_Pro.xml', '/content/drive/MyDrive/images_white_pieces_strain/annotations/WIN_20240207_20_50_32_Pro.xml', '/content/drive/MyDrive/images_white_pieces_strain/annotations/WIN_20240207_20_50_36_Pro.xml', '/content/drive/MyDrive/images_white_pieces_strain/annotations/WIN_20240207_20_50_42_Pro.xml', '/content/drive/MyDrive/images_white_pieces_strain/annotations/WIN_20240207_20_50_45_Pro.xml', '/content/drive/MyDrive/images_white_pieces_strain/annotations/WIN_20240207_20_50_49_Pro.xml', '/content/drive/MyDrive/images_white_pieces_strain/annotations/WIN_20240207_20_50_52_Pro.xml', '/content/drive/MyDrive/images_white_pieces_strain/annotations/WIN_20240207_20_50_56_Pro.xml', '/content/drive/MyDrive/images_white_pieces_strain/annotations/WIN_20240207_20_51_00_Pro.xml', '/content/drive/MyDrive/images_white_pieces_strain/annotations/WIN_20240207_20_51_02_Pro.xml', '/content/drive/MyDrive/images_white_pieces_strain/annotations/WIN_20240207_20_51_04_Pro.xml', '/content/drive/MyDrive/images_white_pieces_strain/annotations/WIN_20240207_20_51_07_Pro.xml', '/content/drive/MyDrive/images_white_pieces_strain/annotations/WIN_20240207_20_51_12_Pro.xml', '/content/drive/MyDrive/images_white_pieces_strain/annotations/WIN_20240207_20_51_15_Pro.xml', '/content/drive/MyDrive/images_white_pieces_strain/annotations/WIN_20240207_20_51_18_Pro.xml', '/content/drive/MyDrive/images_white_pieces_strain/annotations/WIN_20240207_20_51_21_Pro.xml', '/content/drive/MyDrive/images_white_pieces_strain/annotations/WIN_20240207_20_51_24_Pro.xml', '/content/drive/MyDrive/images_white_pieces_strain/annotations/WIN_20240207_20_51_28_Pro.xml', '/content/drive/MyDrive/images_white_pieces_strain/annotations/WIN_20240207_20_51_32_Pro.xml', '/content/drive/MyDrive/images_white_pieces_strain/annotations/WIN_20240207_20_51_36_Pro.xml', '/content/drive/MyDrive/images_white_pieces_strain/annotations/WIN_20240207_20_51_40_Pro.xml', '/content/drive/MyDrive/images_white_pieces_strain/annotations/WIN_20240207_20_51_44_Pro.xml', '/content/drive/MyDrive/images_white_pieces_strain/annotations/WIN_20240207_20_51_48_Pro.xml', '/content/drive/MyDrive/images_white_pieces_strain/annotations/WIN_20240207_20_51_53_Pro.xml', '/content/drive/MyDrive/images_white_pieces_strain/annotations/WIN_20240207_20_51_57_Pro.xml', '/content/drive/MyDrive/images_white_pieces_strain/annotations/WIN_20240207_20_52_01_Pro.xml', '/content/drive/MyDrive/images_white_pieces_strain/annotations/WIN_20240207_20_52_05_Pro.xml', '/content/drive/MyDrive/images_white_pieces_strain/annotations/WIN_20240207_20_52_08_Pro.xml', '/content/drive/MyDrive/images_white_pieces_strain/annotations/WIN_20240207_20_52_11_Pro.xml', '/content/drive/MyDrive/images_white_pieces_strain/annotations/WIN_20240207_20_52_15_Pro.xml', '/content/drive/MyDrive/images_white_pieces_strain/annotations/WIN_20240207_20_52_19_Pro.xml', '/content/drive/MyDrive/images_white_pieces_strain/annotations/WIN_20240207_20_52_22_Pro.xml', '/content/drive/MyDrive/images_white_pieces_strain/annotations/WIN_20240207_20_52_25_Pro.xml', '/content/drive/MyDrive/images_white_pieces_strain/annotations/WIN_20240207_20_52_29_Pro.xml', '/content/drive/MyDrive/images_white_pieces_strain/annotations/WIN_20240207_20_52_32_Pro.xml', '/content/drive/MyDrive/images_white_pieces_strain/annotations/WIN_20240207_20_52_36_Pro.xml', '/content/drive/MyDrive/images_white_pieces_strain/annotations/WIN_20240207_20_52_44_Pro.xml', '/content/drive/MyDrive/images_white_pieces_strain/annotations/WIN_20240207_20_52_52_Pro.xml', '/content/drive/MyDrive/images_white_pieces_strain/annotations/WIN_20240207_20_52_57_Pro.xml', '/content/drive/MyDrive/images_white_pieces_strain/annotations/WIN_20240207_20_53_01_Pro.xml', '/content/drive/MyDrive/images_white_pieces_strain/annotations/WIN_20240207_20_53_05_Pro.xml', '/content/drive/MyDrive/images_white_pieces_strain/annotations/WIN_20240207_20_53_10_Pro.xml', '/content/drive/MyDrive/images_white_pieces_strain/annotations/WIN_20240207_20_53_14_Pro.xml', '/content/drive/MyDrive/images_white_pieces_strain/annotations/WIN_20240207_20_53_17_Pro.xml', '/content/drive/MyDrive/images_white_pieces_strain/annotations/WIN_20240207_20_53_23_Pro.xml', '/content/drive/MyDrive/images_white_pieces_strain/annotations/WIN_20240207_20_53_29_Pro.xml', '/content/drive/MyDrive/images_white_pieces_strain/annotations/WIN_20240207_20_53_34_Pro.xml', '/content/drive/MyDrive/images_white_pieces_strain/annotations/WIN_20240207_20_53_40_Pro.xml', '/content/drive/MyDrive/images_white_pieces_strain/annotations/WIN_20240207_20_53_44_Pro.xml', '/content/drive/MyDrive/images_white_pieces_strain/annotations/WIN_20240207_20_53_50_Pro.xml', '/content/drive/MyDrive/images_white_pieces_strain/annotations/WIN_20240207_20_53_55_Pro.xml', '/content/drive/MyDrive/images_white_pieces_strain/annotations/WIN_20240207_20_54_00_Pro.xml', '/content/drive/MyDrive/images_white_pieces_strain/annotations/WIN_20240207_20_54_05_Pro.xml', '/content/drive/MyDrive/images_white_pieces_strain/annotations/WIN_20240207_20_54_11_Pro.xml', '/content/drive/MyDrive/images_white_pieces_strain/annotations/WIN_20240207_20_54_15_Pro.xml', '/content/drive/MyDrive/images_white_pieces_strain/annotations/WIN_20240207_20_54_23_Pro.xml', '/content/drive/MyDrive/images_white_pieces_strain/annotations/WIN_20240207_20_54_35_Pro.xml', '/content/drive/MyDrive/images_white_pieces_strain/annotations/WIN_20240207_20_54_43_Pro.xml', '/content/drive/MyDrive/images_white_pieces_strain/annotations/WIN_20240207_20_54_54_Pro.xml', '/content/drive/MyDrive/images_white_pieces_strain/annotations/WIN_20240207_20_54_58_Pro.xml', '/content/drive/MyDrive/images_white_pieces_strain/annotations/WIN_20240207_20_55_01_Pro.xml', '/content/drive/MyDrive/images_white_pieces_strain/annotations/WIN_20240207_20_55_05_Pro.xml', '/content/drive/MyDrive/images_white_pieces_strain/annotations/WIN_20240207_20_55_09_Pro.xml', '/content/drive/MyDrive/images_white_pieces_strain/annotations/WIN_20240207_20_55_12_Pro.xml', '/content/drive/MyDrive/images_white_pieces_strain/annotations/WIN_20240207_20_55_15_Pro.xml', '/content/drive/MyDrive/images_white_pieces_strain/annotations/WIN_20240207_20_55_22_Pro.xml', '/content/drive/MyDrive/images_white_pieces_strain/annotations/WIN_20240207_20_55_24_Pro.xml', '/content/drive/MyDrive/images_white_pieces_strain/annotations/WIN_20240207_20_55_27_Pro.xml', '/content/drive/MyDrive/images_white_pieces_strain/annotations/WIN_20240207_20_56_00_Pro.xml', '/content/drive/MyDrive/images_white_pieces_strain/annotations/WIN_20240207_20_56_05_Pro.xml', '/content/drive/MyDrive/images_white_pieces_strain/annotations/WIN_20240207_20_56_14_Pro.xml', '/content/drive/MyDrive/images_white_pieces_strain/annotations/WIN_20240207_20_56_17_Pro.xml', '/content/drive/MyDrive/images_white_pieces_strain/annotations/WIN_20240207_20_56_20_Pro.xml', '/content/drive/MyDrive/images_white_pieces_strain/annotations/WIN_20240207_20_56_22_Pro.xml', '/content/drive/MyDrive/images_white_pieces_strain/annotations/WIN_20240207_20_56_25_Pro.xml', '/content/drive/MyDrive/images_white_pieces_strain/annotations/WIN_20240207_20_56_28_Pro.xml', '/content/drive/MyDrive/images_white_pieces_strain/annotations/WIN_20240207_20_56_31_Pro.xml', '/content/drive/MyDrive/images_white_pieces_strain/annotations/WIN_20240207_20_56_34_Pro.xml', '/content/drive/MyDrive/images_white_pieces_strain/annotations/WIN_20240207_20_56_37_Pro.xml', '/content/drive/MyDrive/images_white_pieces_strain/annotations/WIN_20240207_20_56_40_Pro.xml', '/content/drive/MyDrive/images_white_pieces_strain/annotations/WIN_20240207_20_56_43_Pro.xml', '/content/drive/MyDrive/images_white_pieces_strain/annotations/WIN_20240207_20_56_45_Pro.xml', '/content/drive/MyDrive/images_white_pieces_strain/annotations/WIN_20240207_20_56_48_Pro.xml', '/content/drive/MyDrive/images_white_pieces_strain/annotations/WIN_20240207_20_56_51_Pro.xml', '/content/drive/MyDrive/images_white_pieces_strain/annotations/WIN_20240207_20_56_53_Pro.xml', '/content/drive/MyDrive/images_white_pieces_strain/annotations/WIN_20240207_20_56_55_Pro.xml', '/content/drive/MyDrive/images_white_pieces_strain/annotations/WIN_20240207_20_56_56_Pro.xml', '/content/drive/MyDrive/images_white_pieces_strain/annotations/WIN_20240207_20_56_59_Pro.xml', '/content/drive/MyDrive/images_white_pieces_strain/annotations/WIN_20240207_20_57_01_Pro.xml', '/content/drive/MyDrive/images_white_pieces_strain/annotations/WIN_20240207_20_57_07_Pro.xml', '/content/drive/MyDrive/images_white_pieces_strain/annotations/WIN_20240207_20_57_10_Pro.xml', '/content/drive/MyDrive/images_white_pieces_strain/annotations/WIN_20240207_20_57_13_Pro.xml', '/content/drive/MyDrive/images_white_pieces_strain/annotations/WIN_20240207_20_57_16_Pro.xml', '/content/drive/MyDrive/images_white_pieces_strain/annotations/WIN_20240207_20_57_18_Pro.xml', '/content/drive/MyDrive/images_white_pieces_strain/annotations/WIN_20240207_20_57_21_Pro.xml', '/content/drive/MyDrive/images_white_pieces_strain/annotations/WIN_20240207_20_57_24_Pro.xml', '/content/drive/MyDrive/images_white_pieces_strain/annotations/WIN_20240207_20_57_27_Pro.xml', '/content/drive/MyDrive/images_white_pieces_strain/annotations/WIN_20240207_20_57_30_Pro.xml', '/content/drive/MyDrive/images_white_pieces_strain/annotations/WIN_20240207_20_57_33_Pro.xml', '/content/drive/MyDrive/images_white_pieces_strain/annotations/WIN_20240207_20_57_38_Pro.xml', '/content/drive/MyDrive/images_white_pieces_strain/annotations/WIN_20240207_20_57_41_Pro.xml', '/content/drive/MyDrive/images_white_pieces_strain/annotations/WIN_20240207_20_57_44_Pro.xml', '/content/drive/MyDrive/images_white_pieces_strain/annotations/WIN_20240207_20_57_47_Pro.xml', '/content/drive/MyDrive/images_white_pieces_strain/annotations/WIN_20240207_20_57_49_Pro.xml', '/content/drive/MyDrive/images_white_pieces_strain/annotations/WIN_20240207_20_57_52_Pro.xml', '/content/drive/MyDrive/images_white_pieces_strain/annotations/WIN_20240207_20_57_55_Pro.xml', '/content/drive/MyDrive/images_white_pieces_strain/annotations/WIN_20240207_20_57_58_Pro.xml', '/content/drive/MyDrive/images_white_pieces_strain/annotations/WIN_20240207_20_58_01_Pro.xml', '/content/drive/MyDrive/images_white_pieces_strain/annotations/WIN_20240207_20_58_04_Pro.xml', '/content/drive/MyDrive/images_white_pieces_strain/annotations/WIN_20240207_20_58_07_Pro.xml', '/content/drive/MyDrive/images_white_pieces_strain/annotations/WIN_20240207_20_58_11_Pro.xml', '/content/drive/MyDrive/images_white_pieces_strain/annotations/WIN_20240207_20_58_14_Pro.xml', '/content/drive/MyDrive/images_white_pieces_strain/annotations/WIN_20240207_20_58_17_Pro.xml', '/content/drive/MyDrive/images_white_pieces_strain/annotations/WIN_20240207_20_58_20_Pro.xml', '/content/drive/MyDrive/images_white_pieces_strain/annotations/WIN_20240207_20_58_23_Pro.xml', '/content/drive/MyDrive/images_white_pieces_strain/annotations/WIN_20240207_20_58_26_Pro.xml', '/content/drive/MyDrive/images_white_pieces_strain/annotations/WIN_20240207_20_58_29_Pro.xml', '/content/drive/MyDrive/images_white_pieces_strain/annotations/WIN_20240207_20_58_32_Pro.xml', '/content/drive/MyDrive/images_white_pieces_strain/annotations/WIN_20240207_20_58_35_Pro.xml', '/content/drive/MyDrive/images_white_pieces_strain/annotations/WIN_20240207_20_58_38_Pro.xml', '/content/drive/MyDrive/images_white_pieces_strain/annotations/WIN_20240207_20_58_41_Pro.xml', '/content/drive/MyDrive/images_white_pieces_strain/annotations/WIN_20240207_20_58_44_Pro.xml', '/content/drive/MyDrive/images_white_pieces_strain/annotations/WIN_20240207_20_58_47_Pro.xml', '/content/drive/MyDrive/images_white_pieces_strain/annotations/WIN_20240207_20_58_50_Pro.xml', '/content/drive/MyDrive/images_white_pieces_strain/annotations/WIN_20240207_20_58_53_Pro.xml', '/content/drive/MyDrive/images_white_pieces_strain/annotations/WIN_20240207_20_58_57_Pro.xml', '/content/drive/MyDrive/images_white_pieces_strain/annotations/WIN_20240207_20_59_00_Pro.xml', '/content/drive/MyDrive/images_white_pieces_strain/annotations/WIN_20240207_20_59_04_Pro.xml', '/content/drive/MyDrive/images_white_pieces_strain/annotations/WIN_20240207_20_59_08_Pro.xml', '/content/drive/MyDrive/images_white_pieces_strain/annotations/WIN_20240207_20_59_12_Pro.xml', '/content/drive/MyDrive/images_white_pieces_strain/annotations/WIN_20240207_20_59_21_Pro.xml', '/content/drive/MyDrive/images_white_pieces_strain/annotations/WIN_20240207_20_59_28_Pro.xml', '/content/drive/MyDrive/images_white_pieces_strain/annotations/WIN_20240207_20_59_35_Pro.xml', '/content/drive/MyDrive/images_white_pieces_strain/annotations/WIN_20240207_20_59_39_Pro.xml', '/content/drive/MyDrive/images_white_pieces_strain/annotations/WIN_20240207_20_59_43_Pro.xml', '/content/drive/MyDrive/images_white_pieces_strain/annotations/WIN_20240207_20_59_54_Pro.xml', '/content/drive/MyDrive/images_white_pieces_strain/annotations/WIN_20240207_20_59_57_Pro.xml', '/content/drive/MyDrive/images_white_pieces_strain/annotations/WIN_20240207_21_00_00_Pro.xml', '/content/drive/MyDrive/images_white_pieces_strain/annotations/WIN_20240207_21_00_02_Pro.xml', '/content/drive/MyDrive/images_white_pieces_strain/annotations/WIN_20240207_21_00_05_Pro.xml', '/content/drive/MyDrive/images_white_pieces_strain/annotations/WIN_20240207_21_00_08_Pro.xml', '/content/drive/MyDrive/images_white_pieces_strain/annotations/WIN_20240207_21_00_10_Pro.xml', '/content/drive/MyDrive/images_white_pieces_strain/annotations/WIN_20240207_21_00_13_Pro.xml', '/content/drive/MyDrive/images_white_pieces_strain/annotations/WIN_20240207_21_00_17_Pro.xml', '/content/drive/MyDrive/images_white_pieces_strain/annotations/WIN_20240207_21_00_20_Pro.xml', '/content/drive/MyDrive/images_white_pieces_strain/annotations/WIN_20240207_21_00_23_Pro.xml', '/content/drive/MyDrive/images_white_pieces_strain/annotations/WIN_20240207_21_00_27_Pro.xml', '/content/drive/MyDrive/images_white_pieces_strain/annotations/WIN_20240207_21_00_30_Pro.xml', '/content/drive/MyDrive/images_white_pieces_strain/annotations/WIN_20240207_21_00_33_Pro.xml', '/content/drive/MyDrive/images_white_pieces_strain/annotations/WIN_20240207_21_00_36_Pro.xml', '/content/drive/MyDrive/images_white_pieces_strain/annotations/WIN_20240207_21_00_39_Pro.xml', '/content/drive/MyDrive/images_white_pieces_strain/annotations/WIN_20240207_21_00_41_Pro.xml', '/content/drive/MyDrive/images_white_pieces_strain/annotations/WIN_20240207_21_00_45_Pro.xml', '/content/drive/MyDrive/images_white_pieces_strain/annotations/WIN_20240207_21_00_47_Pro.xml', '/content/drive/MyDrive/images_white_pieces_strain/annotations/WIN_20240207_21_00_50_Pro.xml', '/content/drive/MyDrive/images_white_pieces_strain/annotations/WIN_20240207_21_00_53_Pro.xml', '/content/drive/MyDrive/images_white_pieces_strain/annotations/WIN_20240207_21_00_56_Pro.xml', '/content/drive/MyDrive/images_white_pieces_strain/annotations/WIN_20240207_21_00_59_Pro.xml', '/content/drive/MyDrive/images_white_pieces_strain/annotations/WIN_20240207_21_01_02_Pro.xml', '/content/drive/MyDrive/images_white_pieces_strain/annotations/WIN_20240207_21_01_05_Pro.xml', '/content/drive/MyDrive/images_white_pieces_strain/annotations/WIN_20240207_21_01_09_Pro.xml', '/content/drive/MyDrive/images_white_pieces_strain/annotations/WIN_20240207_21_01_12_Pro.xml', '/content/drive/MyDrive/images_white_pieces_strain/annotations/WIN_20240207_21_01_14_Pro.xml', '/content/drive/MyDrive/images_white_pieces_strain/annotations/WIN_20240207_21_01_17_Pro.xml', '/content/drive/MyDrive/images_white_pieces_strain/annotations/WIN_20240207_21_01_20_Pro.xml', '/content/drive/MyDrive/images_white_pieces_strain/annotations/WIN_20240207_21_01_23_Pro.xml', '/content/drive/MyDrive/images_white_pieces_strain/annotations/WIN_20240207_21_01_26_Pro.xml', '/content/drive/MyDrive/images_white_pieces_strain/annotations/WIN_20240207_21_01_28_Pro.xml', '/content/drive/MyDrive/images_white_pieces_strain/annotations/WIN_20240207_21_01_31_Pro.xml', '/content/drive/MyDrive/images_white_pieces_strain/annotations/WIN_20240207_21_01_33_Pro.xml', '/content/drive/MyDrive/images_white_pieces_strain/annotations/WIN_20240207_21_01_35_Pro.xml', '/content/drive/MyDrive/images_white_pieces_strain/annotations/WIN_20240207_21_01_38_Pro.xml', '/content/drive/MyDrive/images_white_pieces_strain/annotations/WIN_20240207_21_01_41_Pro.xml', '/content/drive/MyDrive/images_white_pieces_strain/annotations/WIN_20240207_21_01_44_Pro.xml', '/content/drive/MyDrive/images_white_pieces_strain/annotations/WIN_20240207_21_01_47_Pro.xml', '/content/drive/MyDrive/images_white_pieces_strain/annotations/WIN_20240207_21_01_50_Pro.xml', '/content/drive/MyDrive/images_white_pieces_strain/annotations/WIN_20240207_21_01_52_Pro.xml', '/content/drive/MyDrive/images_white_pieces_strain/annotations/WIN_20240207_21_01_55_Pro.xml', '/content/drive/MyDrive/images_white_pieces_strain/annotations/WIN_20240207_21_01_58_Pro.xml', '/content/drive/MyDrive/images_white_pieces_strain/annotations/WIN_20240207_21_02_01_Pro.xml', '/content/drive/MyDrive/images_white_pieces_strain/annotations/WIN_20240207_21_02_04_Pro.xml', '/content/drive/MyDrive/images_white_pieces_strain/annotations/WIN_20240207_21_02_06_Pro.xml', '/content/drive/MyDrive/images_white_pieces_strain/annotations/WIN_20240207_21_02_09_Pro.xml', '/content/drive/MyDrive/images_white_pieces_strain/annotations/WIN_20240207_21_02_11_Pro.xml', '/content/drive/MyDrive/images_white_pieces_strain/annotations/WIN_20240207_21_02_14_Pro.xml', '/content/drive/MyDrive/images_white_pieces_strain/annotations/WIN_20240207_21_02_17_Pro.xml', '/content/drive/MyDrive/images_white_pieces_strain/annotations/WIN_20240207_21_02_20_Pro.xml', '/content/drive/MyDrive/images_white_pieces_strain/annotations/WIN_20240207_21_02_23_Pro.xml', '/content/drive/MyDrive/images_white_pieces_strain/annotations/WIN_20240207_21_02_26_Pro.xml', '/content/drive/MyDrive/images_white_pieces_strain/annotations/WIN_20240207_21_02_29_Pro.xml', '/content/drive/MyDrive/images_white_pieces_strain/annotations/WIN_20240207_21_02_33_Pro.xml', '/content/drive/MyDrive/images_white_pieces_strain/annotations/WIN_20240207_21_02_36_Pro.xml', '/content/drive/MyDrive/images_white_pieces_strain/annotations/WIN_20240207_21_02_39_Pro.xml', '/content/drive/MyDrive/images_white_pieces_strain/annotations/WIN_20240207_21_02_43_Pro.xml', '/content/drive/MyDrive/images_white_pieces_strain/annotations/WIN_20240207_21_02_46_Pro.xml', '/content/drive/MyDrive/images_white_pieces_strain/annotations/WIN_20240207_21_02_49_Pro.xml', '/content/drive/MyDrive/images_white_pieces_strain/annotations/WIN_20240207_21_02_52_Pro.xml', '/content/drive/MyDrive/images_white_pieces_strain/annotations/WIN_20240207_21_02_55_Pro.xml', '/content/drive/MyDrive/images_white_pieces_strain/annotations/WIN_20240207_21_02_58_Pro.xml', '/content/drive/MyDrive/images_white_pieces_strain/annotations/WIN_20240207_21_03_11_Pro.xml', '/content/drive/MyDrive/images_white_pieces_strain/annotations/WIN_20240207_21_03_15_Pro.xml', '/content/drive/MyDrive/images_white_pieces_strain/annotations/WIN_20240207_21_03_17_Pro.xml', '/content/drive/MyDrive/images_white_pieces_strain/annotations/WIN_20240207_21_03_20_Pro.xml', '/content/drive/MyDrive/images_white_pieces_strain/annotations/WIN_20240207_21_03_23_Pro.xml', '/content/drive/MyDrive/images_white_pieces_strain/annotations/WIN_20240207_21_03_26_Pro.xml', '/content/drive/MyDrive/images_white_pieces_strain/annotations/WIN_20240207_21_03_29_Pro.xml', '/content/drive/MyDrive/images_white_pieces_strain/annotations/WIN_20240207_21_03_32_Pro.xml', '/content/drive/MyDrive/images_white_pieces_strain/annotations/WIN_20240207_21_03_36_Pro.xml', '/content/drive/MyDrive/images_white_pieces_strain/annotations/WIN_20240207_21_03_39_Pro.xml', '/content/drive/MyDrive/images_white_pieces_strain/annotations/WIN_20240207_21_03_42_Pro.xml', '/content/drive/MyDrive/images_white_pieces_strain/annotations/WIN_20240207_21_03_45_Pro.xml', '/content/drive/MyDrive/images_white_pieces_strain/annotations/WIN_20240207_21_03_49_Pro.xml', '/content/drive/MyDrive/images_white_pieces_strain/annotations/WIN_20240207_21_03_52_Pro.xml', '/content/drive/MyDrive/images_white_pieces_strain/annotations/WIN_20240207_21_03_54_Pro.xml', '/content/drive/MyDrive/images_white_pieces_strain/annotations/WIN_20240207_21_03_57_Pro.xml', '/content/drive/MyDrive/images_white_pieces_strain/annotations/WIN_20240207_21_04_00_Pro.xml', '/content/drive/MyDrive/images_white_pieces_strain/annotations/WIN_20240207_21_04_03_Pro.xml', '/content/drive/MyDrive/images_white_pieces_strain/annotations/WIN_20240207_21_04_06_Pro.xml', '/content/drive/MyDrive/images_white_pieces_strain/annotations/WIN_20240207_21_04_09_Pro.xml', '/content/drive/MyDrive/images_white_pieces_strain/annotations/WIN_20240207_21_04_12_Pro.xml', '/content/drive/MyDrive/images_white_pieces_strain/annotations/WIN_20240207_21_04_13_Pro.xml', '/content/drive/MyDrive/images_white_pieces_strain/annotations/WIN_20240207_21_04_16_Pro.xml', '/content/drive/MyDrive/images_white_pieces_strain/annotations/WIN_20240207_21_04_18_Pro.xml', '/content/drive/MyDrive/images_white_pieces_strain/annotations/WIN_20240207_21_04_21_Pro.xml', '/content/drive/MyDrive/images_white_pieces_strain/annotations/WIN_20240207_21_04_24_Pro.xml', '/content/drive/MyDrive/images_white_pieces_strain/annotations/WIN_20240207_21_04_29_Pro.xml', '/content/drive/MyDrive/images_white_pieces_strain/annotations/WIN_20240207_21_04_32_Pro.xml', '/content/drive/MyDrive/images_white_pieces_strain/annotations/WIN_20240207_21_04_35_Pro.xml', '/content/drive/MyDrive/images_white_pieces_strain/annotations/WIN_20240207_21_04_38_Pro.xml', '/content/drive/MyDrive/images_white_pieces_strain/annotations/WIN_20240207_21_04_41_Pro.xml', '/content/drive/MyDrive/images_white_pieces_strain/annotations/WIN_20240207_21_04_46_Pro.xml', '/content/drive/MyDrive/images_white_pieces_strain/annotations/WIN_20240207_21_05_09_Pro.xml', '/content/drive/MyDrive/images_white_pieces_strain/annotations/WIN_20240207_21_05_12_Pro.xml', '/content/drive/MyDrive/images_white_pieces_strain/annotations/WIN_20240207_21_05_15_Pro.xml', '/content/drive/MyDrive/images_white_pieces_strain/annotations/WIN_20240207_21_05_18_Pro.xml', '/content/drive/MyDrive/images_white_pieces_strain/annotations/WIN_20240207_21_05_22_Pro.xml', '/content/drive/MyDrive/images_white_pieces_strain/annotations/WIN_20240207_21_05_25_Pro.xml', '/content/drive/MyDrive/images_white_pieces_strain/annotations/WIN_20240207_21_05_29_Pro.xml', '/content/drive/MyDrive/images_white_pieces_strain/annotations/WIN_20240207_21_05_32_Pro.xml', '/content/drive/MyDrive/images_white_pieces_strain/annotations/WIN_20240207_21_05_35_Pro.xml', '/content/drive/MyDrive/images_white_pieces_strain/annotations/WIN_20240207_21_05_38_Pro.xml', '/content/drive/MyDrive/images_white_pieces_strain/annotations/WIN_20240207_21_05_41_Pro.xml', '/content/drive/MyDrive/images_white_pieces_strain/annotations/WIN_20240207_21_05_44_Pro.xml', '/content/drive/MyDrive/images_white_pieces_strain/annotations/WIN_20240207_21_05_47_Pro.xml', '/content/drive/MyDrive/images_white_pieces_strain/annotations/WIN_20240207_21_05_51_Pro.xml', '/content/drive/MyDrive/images_white_pieces_strain/annotations/WIN_20240207_21_05_54_Pro.xml', '/content/drive/MyDrive/images_white_pieces_strain/annotations/WIN_20240207_21_05_58_Pro.xml', '/content/drive/MyDrive/images_white_pieces_strain/annotations/WIN_20240207_21_06_02_Pro.xml', '/content/drive/MyDrive/images_white_pieces_strain/annotations/WIN_20240207_21_06_05_Pro.xml', '/content/drive/MyDrive/images_white_pieces_strain/annotations/WIN_20240207_21_06_08_Pro.xml', '/content/drive/MyDrive/images_white_pieces_strain/annotations/WIN_20240207_21_06_12_Pro.xml', '/content/drive/MyDrive/images_white_pieces_strain/annotations/WIN_20240207_21_06_14_Pro.xml', '/content/drive/MyDrive/images_white_pieces_strain/annotations/WIN_20240207_21_06_18_Pro.xml', '/content/drive/MyDrive/images_white_pieces_strain/annotations/WIN_20240207_21_06_21_Pro.xml', '/content/drive/MyDrive/images_white_pieces_strain/annotations/WIN_20240207_21_06_24_Pro.xml', '/content/drive/MyDrive/images_white_pieces_strain/annotations/WIN_20240207_21_06_28_Pro.xml', '/content/drive/MyDrive/images_white_pieces_strain/annotations/WIN_20240207_21_06_31_Pro.xml', '/content/drive/MyDrive/images_white_pieces_strain/annotations/WIN_20240207_21_06_35_Pro.xml', '/content/drive/MyDrive/images_white_pieces_strain/annotations/WIN_20240207_21_06_41_Pro.xml', '/content/drive/MyDrive/images_white_pieces_strain/annotations/WIN_20240207_21_06_45_Pro.xml', '/content/drive/MyDrive/images_white_pieces_strain/annotations/WIN_20240207_21_06_47_Pro.xml', '/content/drive/MyDrive/images_white_pieces_strain/annotations/WIN_20240207_21_06_50_Pro.xml', '/content/drive/MyDrive/images_white_pieces_strain/annotations/WIN_20240207_21_06_53_Pro.xml', '/content/drive/MyDrive/images_white_pieces_strain/annotations/WIN_20240207_21_06_56_Pro.xml', '/content/drive/MyDrive/images_white_pieces_strain/annotations/WIN_20240207_21_06_58_Pro.xml', '/content/drive/MyDrive/images_white_pieces_strain/annotations/WIN_20240207_21_07_00_Pro.xml', '/content/drive/MyDrive/images_white_pieces_strain/annotations/WIN_20240207_21_07_03_Pro.xml', '/content/drive/MyDrive/images_white_pieces_strain/annotations/WIN_20240207_21_07_06_Pro.xml', '/content/drive/MyDrive/images_white_pieces_strain/annotations/WIN_20240207_21_07_08_Pro.xml', '/content/drive/MyDrive/images_white_pieces_strain/annotations/WIN_20240207_21_07_11_Pro.xml', '/content/drive/MyDrive/images_white_pieces_strain/annotations/WIN_20240207_21_07_13_Pro.xml', '/content/drive/MyDrive/images_white_pieces_strain/annotations/WIN_20240207_21_07_16_Pro.xml', '/content/drive/MyDrive/images_white_pieces_strain/annotations/WIN_20240207_21_07_19_Pro.xml', '/content/drive/MyDrive/images_white_pieces_strain/annotations/WIN_20240207_21_07_23_Pro.xml', '/content/drive/MyDrive/images_white_pieces_strain/annotations/WIN_20240207_21_07_26_Pro.xml', '/content/drive/MyDrive/images_white_pieces_strain/annotations/WIN_20240207_21_07_29_Pro.xml', '/content/drive/MyDrive/images_white_pieces_strain/annotations/WIN_20240207_21_07_32_Pro.xml', '/content/drive/MyDrive/images_white_pieces_strain/annotations/WIN_20240207_21_07_35_Pro.xml', '/content/drive/MyDrive/images_white_pieces_strain/annotations/WIN_20240207_21_07_38_Pro.xml', '/content/drive/MyDrive/images_white_pieces_strain/annotations/WIN_20240207_21_07_40_Pro.xml', '/content/drive/MyDrive/images_white_pieces_strain/annotations/WIN_20240207_21_07_43_Pro.xml', '/content/drive/MyDrive/images_white_pieces_strain/annotations/WIN_20240207_21_07_46_Pro.xml', '/content/drive/MyDrive/images_white_pieces_strain/annotations/WIN_20240207_21_07_48_Pro.xml', '/content/drive/MyDrive/images_white_pieces_strain/annotations/WIN_20240207_21_07_51_Pro.xml', '/content/drive/MyDrive/images_white_pieces_strain/annotations/WIN_20240207_21_07_55_Pro.xml', '/content/drive/MyDrive/images_white_pieces_strain/annotations/WIN_20240207_21_07_57_Pro.xml', '/content/drive/MyDrive/images_white_pieces_strain/annotations/WIN_20240207_21_08_00_Pro.xml', '/content/drive/MyDrive/images_white_pieces_strain/annotations/WIN_20240207_21_08_03_Pro.xml', '/content/drive/MyDrive/images_white_pieces_strain/annotations/WIN_20240207_21_08_05_Pro.xml', '/content/drive/MyDrive/images_white_pieces_strain/annotations/WIN_20240207_21_08_08_Pro.xml', '/content/drive/MyDrive/images_white_pieces_strain/annotations/WIN_20240207_21_08_11_Pro.xml', '/content/drive/MyDrive/images_white_pieces_strain/annotations/WIN_20240207_21_08_13_Pro.xml', '/content/drive/MyDrive/images_white_pieces_strain/annotations/WIN_20240207_21_08_16_Pro.xml', '/content/drive/MyDrive/images_white_pieces_strain/annotations/WIN_20240207_21_08_19_Pro.xml', '/content/drive/MyDrive/images_white_pieces_strain/annotations/WIN_20240207_21_08_21_Pro.xml', '/content/drive/MyDrive/images_white_pieces_strain/annotations/WIN_20240207_21_08_24_Pro.xml', '/content/drive/MyDrive/images_white_pieces_strain/annotations/WIN_20240207_21_08_27_Pro.xml', '/content/drive/MyDrive/images_white_pieces_strain/annotations/WIN_20240207_21_08_30_Pro.xml', '/content/drive/MyDrive/images_white_pieces_strain/annotations/WIN_20240207_21_08_33_Pro.xml', '/content/drive/MyDrive/images_white_pieces_strain/annotations/WIN_20240207_21_08_36_Pro.xml', '/content/drive/MyDrive/images_white_pieces_strain/annotations/WIN_20240207_21_08_39_Pro.xml', '/content/drive/MyDrive/images_white_pieces_strain/annotations/WIN_20240207_21_08_42_Pro.xml', '/content/drive/MyDrive/images_white_pieces_strain/annotations/WIN_20240207_21_08_45_Pro.xml', '/content/drive/MyDrive/images_white_pieces_strain/annotations/WIN_20240207_21_08_47_Pro.xml', '/content/drive/MyDrive/images_white_pieces_strain/annotations/WIN_20240207_21_08_50_Pro.xml', '/content/drive/MyDrive/images_white_pieces_strain/annotations/WIN_20240207_21_08_52_Pro.xml', '/content/drive/MyDrive/images_white_pieces_strain/annotations/WIN_20240207_21_08_53_Pro.xml', '/content/drive/MyDrive/images_white_pieces_strain/annotations/WIN_20240207_21_08_56_Pro.xml', '/content/drive/MyDrive/images_white_pieces_strain/annotations/WIN_20240207_21_08_58_Pro.xml', '/content/drive/MyDrive/images_white_pieces_strain/annotations/WIN_20240207_21_09_01_Pro.xml', '/content/drive/MyDrive/images_white_pieces_strain/annotations/WIN_20240207_21_09_04_Pro.xml', '/content/drive/MyDrive/images_white_pieces_strain/annotations/WIN_20240207_21_09_07_Pro.xml', '/content/drive/MyDrive/images_white_pieces_strain/annotations/WIN_20240207_21_09_10_Pro.xml', '/content/drive/MyDrive/images_white_pieces_strain/annotations/WIN_20240207_21_09_13_Pro.xml', '/content/drive/MyDrive/images_white_pieces_strain/annotations/WIN_20240207_21_09_16_Pro.xml', '/content/drive/MyDrive/images_white_pieces_strain/annotations/WIN_20240207_21_09_19_Pro.xml', '/content/drive/MyDrive/images_white_pieces_strain/annotations/WIN_20240207_21_09_22_Pro.xml', '/content/drive/MyDrive/images_white_pieces_strain/annotations/WIN_20240207_21_09_26_Pro.xml', '/content/drive/MyDrive/images_white_pieces_strain/annotations/WIN_20240207_21_09_29_Pro.xml', '/content/drive/MyDrive/images_white_pieces_strain/annotations/WIN_20240207_21_09_32_Pro.xml', '/content/drive/MyDrive/images_white_pieces_strain/annotations/WIN_20240207_21_09_35_Pro.xml', '/content/drive/MyDrive/images_white_pieces_strain/annotations/WIN_20240207_21_09_38_Pro.xml', '/content/drive/MyDrive/images_white_pieces_strain/annotations/WIN_20240207_21_09_41_Pro.xml', '/content/drive/MyDrive/images_white_pieces_strain/annotations/WIN_20240207_21_10_28_Pro.xml', '/content/drive/MyDrive/images_white_pieces_strain/annotations/WIN_20240207_21_12_18_Pro.xml', '/content/drive/MyDrive/images_white_pieces_strain/annotations/WIN_20240207_21_12_21_Pro.xml', '/content/drive/MyDrive/images_white_pieces_strain/annotations/WIN_20240207_21_12_23_Pro.xml', '/content/drive/MyDrive/images_white_pieces_strain/annotations/WIN_20240207_21_12_26_Pro.xml', '/content/drive/MyDrive/images_white_pieces_strain/annotations/WIN_20240207_21_12_29_Pro.xml', '/content/drive/MyDrive/images_white_pieces_strain/annotations/WIN_20240207_21_12_32_Pro.xml', '/content/drive/MyDrive/images_white_pieces_strain/annotations/WIN_20240207_21_12_34_Pro.xml', '/content/drive/MyDrive/images_white_pieces_strain/annotations/WIN_20240207_21_12_37_Pro.xml', '/content/drive/MyDrive/images_white_pieces_strain/annotations/WIN_20240207_21_12_40_Pro.xml', '/content/drive/MyDrive/images_white_pieces_strain/annotations/WIN_20240207_21_12_43_Pro.xml', '/content/drive/MyDrive/images_white_pieces_strain/annotations/WIN_20240207_21_12_51_Pro.xml', '/content/drive/MyDrive/images_white_pieces_strain/annotations/WIN_20240207_21_13_09_Pro.xml', '/content/drive/MyDrive/images_white_pieces_strain/annotations/WIN_20240207_21_13_12_Pro.xml', '/content/drive/MyDrive/images_white_pieces_strain/annotations/WIN_20240207_21_13_15_Pro.xml', '/content/drive/MyDrive/images_white_pieces_strain/annotations/WIN_20240207_21_13_18_Pro.xml', '/content/drive/MyDrive/images_white_pieces_strain/annotations/WIN_20240207_21_13_20_Pro.xml', '/content/drive/MyDrive/images_white_pieces_strain/annotations/WIN_20240207_21_13_22_Pro.xml', '/content/drive/MyDrive/images_white_pieces_strain/annotations/WIN_20240207_21_13_24_Pro.xml', '/content/drive/MyDrive/images_white_pieces_strain/annotations/WIN_20240207_21_13_27_Pro.xml', '/content/drive/MyDrive/images_white_pieces_strain/annotations/WIN_20240207_21_13_29_Pro.xml', '/content/drive/MyDrive/images_white_pieces_strain/annotations/WIN_20240207_21_13_32_Pro.xml', '/content/drive/MyDrive/images_white_pieces_strain/annotations/WIN_20240207_21_13_35_Pro.xml', '/content/drive/MyDrive/images_white_pieces_strain/annotations/WIN_20240207_21_13_37_Pro.xml', '/content/drive/MyDrive/images_white_pieces_strain/annotations/WIN_20240207_21_13_41_Pro.xml', '/content/drive/MyDrive/images_white_pieces_strain/annotations/WIN_20240207_21_13_44_Pro.xml', '/content/drive/MyDrive/images_white_pieces_strain/annotations/WIN_20240207_21_13_46_Pro.xml', '/content/drive/MyDrive/images_white_pieces_strain/annotations/WIN_20240207_21_13_47_Pro.xml', '/content/drive/MyDrive/images_white_pieces_strain/annotations/WIN_20240207_21_13_53_Pro.xml', '/content/drive/MyDrive/images_white_pieces_strain/annotations/WIN_20240207_21_14_00_Pro.xml', '/content/drive/MyDrive/images_white_pieces_strain/annotations/WIN_20240207_21_14_03_Pro.xml', '/content/drive/MyDrive/images_white_pieces_strain/annotations/WIN_20240207_21_14_06_Pro.xml', '/content/drive/MyDrive/images_white_pieces_strain/annotations/WIN_20240207_21_14_09_Pro.xml', '/content/drive/MyDrive/images_white_pieces_strain/annotations/WIN_20240207_21_14_12_Pro.xml', '/content/drive/MyDrive/images_white_pieces_strain/annotations/WIN_20240207_21_14_16_Pro.xml', '/content/drive/MyDrive/images_white_pieces_strain/annotations/WIN_20240207_21_14_20_Pro.xml', '/content/drive/MyDrive/images_white_pieces_strain/annotations/WIN_20240207_21_14_24_Pro.xml', '/content/drive/MyDrive/images_white_pieces_strain/annotations/WIN_20240207_21_14_27_Pro.xml', '/content/drive/MyDrive/images_white_pieces_strain/annotations/WIN_20240207_21_14_31_Pro.xml', '/content/drive/MyDrive/images_white_pieces_strain/annotations/WIN_20240207_21_14_34_Pro.xml', '/content/drive/MyDrive/images_white_pieces_strain/annotations/WIN_20240207_21_14_38_Pro.xml', '/content/drive/MyDrive/images_white_pieces_strain/annotations/WIN_20240207_21_14_42_Pro.xml', '/content/drive/MyDrive/images_white_pieces_strain/annotations/WIN_20240207_21_14_46_Pro.xml', '/content/drive/MyDrive/images_white_pieces_strain/annotations/WIN_20240207_21_14_49_Pro.xml', '/content/drive/MyDrive/images_white_pieces_strain/annotations/WIN_20240207_21_14_53_Pro.xml', '/content/drive/MyDrive/images_white_pieces_strain/annotations/WIN_20240207_21_14_57_Pro.xml', '/content/drive/MyDrive/images_white_pieces_strain/annotations/WIN_20240207_21_15_00_Pro.xml', '/content/drive/MyDrive/images_white_pieces_strain/annotations/WIN_20240207_21_15_04_Pro.xml', '/content/drive/MyDrive/images_white_pieces_strain/annotations/WIN_20240207_21_15_08_Pro.xml', '/content/drive/MyDrive/images_white_pieces_strain/annotations/WIN_20240207_21_15_12_Pro.xml', '/content/drive/MyDrive/images_white_pieces_strain/annotations/WIN_20240207_21_15_16_Pro.xml', '/content/drive/MyDrive/images_white_pieces_strain/annotations/WIN_20240207_21_15_20_Pro.xml', '/content/drive/MyDrive/images_white_pieces_strain/annotations/WIN_20240207_21_15_24_Pro.xml', '/content/drive/MyDrive/images_white_pieces_strain/annotations/WIN_20240207_21_15_28_Pro.xml', '/content/drive/MyDrive/images_white_pieces_strain/annotations/WIN_20240207_21_15_34_Pro.xml', '/content/drive/MyDrive/images_white_pieces_strain/annotations/WIN_20240207_21_15_39_Pro.xml', '/content/drive/MyDrive/images_white_pieces_strain/annotations/WIN_20240207_21_15_42_Pro.xml', '/content/drive/MyDrive/images_white_pieces_strain/annotations/WIN_20240207_21_15_45_Pro.xml', '/content/drive/MyDrive/images_white_pieces_strain/annotations/WIN_20240207_21_15_48_Pro.xml', '/content/drive/MyDrive/images_white_pieces_strain/annotations/WIN_20240207_21_15_51_Pro.xml', '/content/drive/MyDrive/images_white_pieces_strain/annotations/WIN_20240207_21_15_54_Pro.xml', '/content/drive/MyDrive/images_white_pieces_strain/annotations/WIN_20240207_21_15_55_Pro.xml', '/content/drive/MyDrive/images_white_pieces_strain/annotations/WIN_20240207_21_15_58_Pro.xml', '/content/drive/MyDrive/images_white_pieces_strain/annotations/WIN_20240207_21_16_01_Pro.xml', '/content/drive/MyDrive/images_white_pieces_strain/annotations/WIN_20240207_21_16_04_Pro.xml', '/content/drive/MyDrive/images_white_pieces_strain/annotations/WIN_20240207_21_16_08_Pro.xml', '/content/drive/MyDrive/images_white_pieces_strain/annotations/WIN_20240207_21_16_10_Pro.xml', '/content/drive/MyDrive/images_white_pieces_strain/annotations/WIN_20240207_21_16_14_Pro.xml', '/content/drive/MyDrive/images_white_pieces_strain/annotations/WIN_20240207_21_16_28_Pro.xml', '/content/drive/MyDrive/images_white_pieces_strain/annotations/WIN_20240207_21_16_31_Pro.xml', '/content/drive/MyDrive/images_white_pieces_strain/annotations/WIN_20240207_21_16_34_Pro.xml', '/content/drive/MyDrive/images_white_pieces_strain/annotations/WIN_20240207_21_16_42_Pro.xml', '/content/drive/MyDrive/images_white_pieces_strain/annotations/WIN_20240207_21_16_46_Pro.xml', '/content/drive/MyDrive/images_white_pieces_strain/annotations/WIN_20240207_21_16_49_Pro.xml', '/content/drive/MyDrive/images_white_pieces_strain/annotations/WIN_20240207_21_16_52_Pro.xml', '/content/drive/MyDrive/images_white_pieces_strain/annotations/WIN_20240207_21_16_55_Pro.xml', '/content/drive/MyDrive/images_white_pieces_strain/annotations/WIN_20240207_21_16_58_Pro.xml', '/content/drive/MyDrive/images_white_pieces_strain/annotations/WIN_20240207_21_17_01_Pro.xml', '/content/drive/MyDrive/images_white_pieces_strain/annotations/WIN_20240207_21_17_04_Pro.xml', '/content/drive/MyDrive/images_white_pieces_strain/annotations/WIN_20240207_21_17_07_Pro.xml', '/content/drive/MyDrive/images_white_pieces_strain/annotations/WIN_20240207_21_17_10_Pro.xml', '/content/drive/MyDrive/images_white_pieces_strain/annotations/WIN_20240207_21_17_13_Pro.xml', '/content/drive/MyDrive/images_white_pieces_strain/annotations/WIN_20240207_21_17_15_Pro.xml', '/content/drive/MyDrive/images_white_pieces_strain/annotations/WIN_20240207_21_17_18_Pro.xml', '/content/drive/MyDrive/images_white_pieces_strain/annotations/WIN_20240207_21_17_21_Pro.xml', '/content/drive/MyDrive/images_white_pieces_strain/annotations/WIN_20240207_21_17_25_Pro.xml', '/content/drive/MyDrive/images_white_pieces_strain/annotations/WIN_20240207_21_17_28_Pro.xml', '/content/drive/MyDrive/images_white_pieces_strain/annotations/WIN_20240207_21_17_31_Pro.xml', '/content/drive/MyDrive/images_white_pieces_strain/annotations/WIN_20240207_21_17_32_Pro.xml', '/content/drive/MyDrive/images_white_pieces_strain/annotations/WIN_20240207_21_17_35_Pro.xml', '/content/drive/MyDrive/images_white_pieces_strain/annotations/WIN_20240207_21_17_37_Pro.xml', '/content/drive/MyDrive/images_white_pieces_strain/annotations/WIN_20240207_21_17_39_Pro.xml', '/content/drive/MyDrive/images_white_pieces_strain/annotations/WIN_20240207_21_17_42_Pro.xml', '/content/drive/MyDrive/images_white_pieces_strain/annotations/WIN_20240207_21_17_45_Pro.xml', '/content/drive/MyDrive/images_white_pieces_strain/annotations/WIN_20240207_21_17_47_Pro.xml', '/content/drive/MyDrive/images_white_pieces_strain/annotations/WIN_20240207_21_17_50_Pro.xml', '/content/drive/MyDrive/images_white_pieces_strain/annotations/WIN_20240207_21_17_52_Pro.xml', '/content/drive/MyDrive/images_white_pieces_strain/annotations/WIN_20240207_21_17_55_Pro.xml', '/content/drive/MyDrive/images_white_pieces_strain/annotations/WIN_20240207_21_17_58_Pro.xml', '/content/drive/MyDrive/images_white_pieces_strain/annotations/WIN_20240207_21_18_00_Pro.xml', '/content/drive/MyDrive/images_white_pieces_strain/annotations/WIN_20240207_21_18_03_Pro.xml', '/content/drive/MyDrive/images_white_pieces_strain/annotations/WIN_20240207_21_18_05_Pro.xml', '/content/drive/MyDrive/images_white_pieces_strain/annotations/WIN_20240207_21_18_08_Pro.xml', '/content/drive/MyDrive/images_white_pieces_strain/annotations/WIN_20240207_21_18_10_Pro.xml', '/content/drive/MyDrive/images_white_pieces_strain/annotations/WIN_20240207_21_18_13_Pro.xml', '/content/drive/MyDrive/images_white_pieces_strain/annotations/WIN_20240207_21_18_15_Pro.xml', '/content/drive/MyDrive/images_white_pieces_strain/annotations/WIN_20240207_21_18_18_Pro.xml', '/content/drive/MyDrive/images_white_pieces_strain/annotations/WIN_20240207_21_18_21_Pro.xml', '/content/drive/MyDrive/images_white_pieces_strain/annotations/WIN_20240207_21_18_23_Pro.xml', '/content/drive/MyDrive/images_white_pieces_strain/annotations/WIN_20240207_21_18_28_Pro.xml', '/content/drive/MyDrive/images_white_pieces_strain/annotations/WIN_20240207_21_18_31_Pro.xml', '/content/drive/MyDrive/images_white_pieces_strain/annotations/WIN_20240207_21_18_33_Pro.xml', '/content/drive/MyDrive/images_white_pieces_strain/annotations/WIN_20240207_21_18_36_Pro.xml', '/content/drive/MyDrive/images_white_pieces_strain/annotations/WIN_20240207_21_18_39_Pro.xml', '/content/drive/MyDrive/images_white_pieces_strain/annotations/WIN_20240207_21_18_41_Pro.xml', '/content/drive/MyDrive/images_white_pieces_strain/annotations/WIN_20240207_21_18_44_Pro.xml', '/content/drive/MyDrive/images_white_pieces_strain/annotations/WIN_20240207_21_18_47_Pro.xml', '/content/drive/MyDrive/images_white_pieces_strain/annotations/WIN_20240207_21_18_49_Pro.xml', '/content/drive/MyDrive/images_white_pieces_strain/annotations/WIN_20240207_21_18_53_Pro.xml', '/content/drive/MyDrive/images_white_pieces_strain/annotations/WIN_20240207_21_18_55_Pro.xml', '/content/drive/MyDrive/images_white_pieces_strain/annotations/WIN_20240207_21_18_59_Pro.xml', '/content/drive/MyDrive/images_white_pieces_strain/annotations/WIN_20240207_21_19_02_Pro.xml', '/content/drive/MyDrive/images_white_pieces_strain/annotations/WIN_20240207_21_19_05_Pro.xml', '/content/drive/MyDrive/images_white_pieces_strain/annotations/WIN_20240207_21_19_08_Pro.xml', '/content/drive/MyDrive/images_white_pieces_strain/annotations/WIN_20240207_21_19_11_Pro.xml', '/content/drive/MyDrive/images_white_pieces_strain/annotations/WIN_20240207_21_19_13_Pro.xml', '/content/drive/MyDrive/images_white_pieces_strain/annotations/WIN_20240207_21_19_17_Pro.xml', '/content/drive/MyDrive/images_white_pieces_strain/annotations/WIN_20240207_21_19_19_Pro.xml', '/content/drive/MyDrive/images_white_pieces_strain/annotations/WIN_20240207_21_19_22_Pro.xml', '/content/drive/MyDrive/images_white_pieces_strain/annotations/WIN_20240207_21_19_25_Pro.xml', '/content/drive/MyDrive/images_white_pieces_strain/annotations/WIN_20240207_21_19_28_Pro.xml', '/content/drive/MyDrive/images_white_pieces_strain/annotations/WIN_20240207_21_19_31_Pro.xml', '/content/drive/MyDrive/images_white_pieces_strain/annotations/WIN_20240207_21_19_34_Pro.xml', '/content/drive/MyDrive/images_white_pieces_strain/annotations/WIN_20240207_21_19_40_Pro.xml', '/content/drive/MyDrive/images_white_pieces_strain/annotations/WIN_20240207_21_19_44_Pro.xml', '/content/drive/MyDrive/images_white_pieces_strain/annotations/WIN_20240207_21_19_46_Pro.xml', '/content/drive/MyDrive/images_white_pieces_strain/annotations/WIN_20240207_21_19_49_Pro.xml', '/content/drive/MyDrive/images_white_pieces_strain/annotations/WIN_20240207_21_19_51_Pro.xml', '/content/drive/MyDrive/images_white_pieces_strain/annotations/WIN_20240207_21_19_54_Pro.xml', '/content/drive/MyDrive/images_white_pieces_strain/annotations/WIN_20240207_21_19_57_Pro.xml', '/content/drive/MyDrive/images_white_pieces_strain/annotations/WIN_20240207_21_20_00_Pro.xml', '/content/drive/MyDrive/images_white_pieces_strain/annotations/WIN_20240207_21_20_03_Pro.xml', '/content/drive/MyDrive/images_white_pieces_strain/annotations/WIN_20240207_21_20_06_Pro.xml', '/content/drive/MyDrive/images_white_pieces_strain/annotations/WIN_20240207_21_20_09_Pro.xml', '/content/drive/MyDrive/images_white_pieces_strain/annotations/WIN_20240207_21_20_12_Pro.xml', '/content/drive/MyDrive/images_white_pieces_strain/annotations/WIN_20240207_21_20_14_Pro.xml', '/content/drive/MyDrive/images_white_pieces_strain/annotations/WIN_20240207_21_20_17_Pro.xml', '/content/drive/MyDrive/images_white_pieces_strain/annotations/WIN_20240207_21_20_19_Pro.xml', '/content/drive/MyDrive/images_white_pieces_strain/annotations/WIN_20240207_21_20_22_Pro.xml', '/content/drive/MyDrive/images_white_pieces_strain/annotations/WIN_20240207_21_20_25_Pro.xml', '/content/drive/MyDrive/images_white_pieces_strain/annotations/WIN_20240207_21_20_27_Pro.xml', '/content/drive/MyDrive/images_white_pieces_strain/annotations/WIN_20240207_21_20_30_Pro.xml', '/content/drive/MyDrive/images_white_pieces_strain/annotations/WIN_20240207_21_20_32_Pro.xml', '/content/drive/MyDrive/images_white_pieces_strain/annotations/WIN_20240207_21_20_34_Pro.xml', '/content/drive/MyDrive/images_white_pieces_strain/annotations/WIN_20240207_21_20_37_Pro.xml', '/content/drive/MyDrive/images_white_pieces_strain/annotations/WIN_20240207_21_20_39_Pro.xml', '/content/drive/MyDrive/images_white_pieces_strain/annotations/WIN_20240207_21_20_42_Pro.xml', '/content/drive/MyDrive/images_white_pieces_strain/annotations/WIN_20240207_21_20_45_Pro.xml', '/content/drive/MyDrive/images_white_pieces_strain/annotations/WIN_20240207_21_20_47_Pro.xml', '/content/drive/MyDrive/images_white_pieces_strain/annotations/WIN_20240207_21_20_50_Pro.xml', '/content/drive/MyDrive/images_white_pieces_strain/annotations/WIN_20240207_21_20_52_Pro.xml', '/content/drive/MyDrive/images_white_pieces_strain/annotations/WIN_20240207_21_20_54_Pro.xml', '/content/drive/MyDrive/images_white_pieces_strain/annotations/WIN_20240207_21_20_57_Pro.xml', '/content/drive/MyDrive/images_white_pieces_strain/annotations/WIN_20240207_21_21_00_Pro.xml', '/content/drive/MyDrive/images_white_pieces_strain/annotations/WIN_20240207_21_21_02_Pro.xml', '/content/drive/MyDrive/images_white_pieces_strain/annotations/WIN_20240207_21_21_05_Pro.xml', '/content/drive/MyDrive/images_white_pieces_strain/annotations/WIN_20240207_21_21_07_Pro.xml', '/content/drive/MyDrive/images_white_pieces_strain/annotations/WIN_20240207_21_21_10_Pro.xml', '/content/drive/MyDrive/images_white_pieces_strain/annotations/WIN_20240207_21_21_13_Pro.xml', '/content/drive/MyDrive/images_white_pieces_strain/annotations/WIN_20240207_21_21_16_Pro.xml', '/content/drive/MyDrive/images_white_pieces_strain/annotations/WIN_20240207_21_21_20_Pro.xml', '/content/drive/MyDrive/images_white_pieces_strain/annotations/WIN_20240207_21_21_23_Pro.xml', '/content/drive/MyDrive/images_white_pieces_strain/annotations/WIN_20240207_21_21_25_Pro.xml', '/content/drive/MyDrive/images_white_pieces_strain/annotations/WIN_20240207_21_21_29_Pro.xml', '/content/drive/MyDrive/images_white_pieces_strain/annotations/WIN_20240207_21_21_32_Pro.xml', '/content/drive/MyDrive/images_white_pieces_strain/annotations/WIN_20240207_21_21_36_Pro.xml', '/content/drive/MyDrive/images_white_pieces_strain/annotations/WIN_20240207_21_21_39_Pro.xml', '/content/drive/MyDrive/images_white_pieces_strain/annotations/WIN_20240207_21_21_43_Pro.xml', '/content/drive/MyDrive/images_white_pieces_strain/annotations/WIN_20240207_21_21_45_Pro.xml', '/content/drive/MyDrive/images_white_pieces_strain/annotations/WIN_20240207_21_21_49_Pro.xml', '/content/drive/MyDrive/images_white_pieces_strain/annotations/WIN_20240207_21_21_52_Pro.xml', '/content/drive/MyDrive/images_white_pieces_strain/annotations/WIN_20240207_21_21_55_Pro.xml', '/content/drive/MyDrive/images_white_pieces_strain/annotations/WIN_20240207_21_21_58_Pro.xml', '/content/drive/MyDrive/images_white_pieces_strain/annotations/WIN_20240207_21_22_00_Pro.xml', '/content/drive/MyDrive/images_white_pieces_strain/annotations/WIN_20240207_21_22_04_Pro.xml', '/content/drive/MyDrive/images_white_pieces_strain/annotations/WIN_20240207_21_22_07_Pro.xml', '/content/drive/MyDrive/images_white_pieces_strain/annotations/WIN_20240207_21_22_10_Pro.xml', '/content/drive/MyDrive/images_white_pieces_strain/annotations/WIN_20240207_21_22_13_Pro.xml', '/content/drive/MyDrive/images_white_pieces_strain/annotations/WIN_20240207_21_22_16_Pro.xml', '/content/drive/MyDrive/images_white_pieces_strain/annotations/WIN_20240207_21_22_19_Pro.xml', '/content/drive/MyDrive/images_white_pieces_strain/annotations/WIN_20240207_21_22_22_Pro.xml', '/content/drive/MyDrive/images_white_pieces_strain/annotations/WIN_20240207_21_22_26_Pro.xml', '/content/drive/MyDrive/images_white_pieces_strain/annotations/WIN_20240207_21_22_30_Pro.xml', '/content/drive/MyDrive/images_white_pieces_strain/annotations/WIN_20240207_21_22_34_Pro.xml', '/content/drive/MyDrive/images_white_pieces_strain/annotations/WIN_20240207_21_22_37_Pro.xml', '/content/drive/MyDrive/images_white_pieces_strain/annotations/WIN_20240207_21_22_40_Pro.xml', '/content/drive/MyDrive/images_white_pieces_strain/annotations/WIN_20240207_21_22_44_Pro.xml', '/content/drive/MyDrive/images_white_pieces_strain/annotations/WIN_20240207_21_23_06_Pro.xml', '/content/drive/MyDrive/images_white_pieces_strain/annotations/WIN_20240207_21_23_09_Pro.xml', '/content/drive/MyDrive/images_white_pieces_strain/annotations/WIN_20240207_21_23_12_Pro.xml', '/content/drive/MyDrive/images_white_pieces_strain/annotations/WIN_20240207_21_23_15_Pro.xml', '/content/drive/MyDrive/images_white_pieces_strain/annotations/WIN_20240207_21_23_17_Pro.xml', '/content/drive/MyDrive/images_white_pieces_strain/annotations/WIN_20240207_21_23_20_Pro.xml', '/content/drive/MyDrive/images_white_pieces_strain/annotations/WIN_20240207_21_23_23_Pro.xml', '/content/drive/MyDrive/images_white_pieces_strain/annotations/WIN_20240207_21_23_26_Pro.xml', '/content/drive/MyDrive/images_white_pieces_strain/annotations/WIN_20240207_21_23_29_Pro.xml', '/content/drive/MyDrive/images_white_pieces_strain/annotations/WIN_20240207_21_23_33_Pro.xml', '/content/drive/MyDrive/images_white_pieces_strain/annotations/WIN_20240207_21_23_36_Pro.xml', '/content/drive/MyDrive/images_white_pieces_strain/annotations/WIN_20240207_21_23_40_Pro.xml', '/content/drive/MyDrive/images_white_pieces_strain/annotations/WIN_20240207_21_23_43_Pro.xml', '/content/drive/MyDrive/images_white_pieces_strain/annotations/WIN_20240207_21_23_46_Pro.xml', '/content/drive/MyDrive/images_white_pieces_strain/annotations/WIN_20240207_21_23_49_Pro.xml', '/content/drive/MyDrive/images_white_pieces_strain/annotations/WIN_20240207_21_23_53_Pro.xml', '/content/drive/MyDrive/images_white_pieces_strain/annotations/WIN_20240207_21_23_56_Pro.xml', '/content/drive/MyDrive/images_white_pieces_strain/annotations/WIN_20240207_21_23_59_Pro.xml', '/content/drive/MyDrive/images_white_pieces_strain/annotations/WIN_20240207_21_24_03_Pro.xml', '/content/drive/MyDrive/images_white_pieces_strain/annotations/WIN_20240207_21_24_06_Pro.xml', '/content/drive/MyDrive/images_white_pieces_strain/annotations/WIN_20240207_21_24_13_Pro.xml', '/content/drive/MyDrive/images_white_pieces_strain/annotations/WIN_20240207_21_24_16_Pro.xml', '/content/drive/MyDrive/images_white_pieces_strain/annotations/WIN_20240207_21_24_21_Pro.xml', '/content/drive/MyDrive/images_white_pieces_strain/annotations/WIN_20240207_21_24_26_Pro.xml', '/content/drive/MyDrive/images_white_pieces_strain/annotations/WIN_20240207_21_24_31_Pro.xml', '/content/drive/MyDrive/images_white_pieces_strain/annotations/WIN_20240207_21_24_37_Pro.xml', '/content/drive/MyDrive/images_white_pieces_strain/annotations/WIN_20240207_21_24_43_Pro.xml', '/content/drive/MyDrive/images_white_pieces_strain/annotations/WIN_20240207_21_24_48_Pro.xml', '/content/drive/MyDrive/images_white_pieces_strain/annotations/WIN_20240207_21_24_54_Pro.xml', '/content/drive/MyDrive/images_white_pieces_strain/annotations/WIN_20240207_21_24_58_Pro.xml', '/content/drive/MyDrive/images_white_pieces_strain/annotations/WIN_20240207_21_25_02_Pro.xml', '/content/drive/MyDrive/images_white_pieces_strain/annotations/WIN_20240207_21_25_07_Pro.xml', '/content/drive/MyDrive/images_white_pieces_strain/annotations/WIN_20240207_21_25_11_Pro.xml', '/content/drive/MyDrive/images_white_pieces_strain/annotations/WIN_20240207_21_25_13_Pro.xml', '/content/drive/MyDrive/images_white_pieces_strain/annotations/WIN_20240207_21_25_15_Pro.xml', '/content/drive/MyDrive/images_white_pieces_strain/annotations/WIN_20240207_21_25_20_Pro.xml', '/content/drive/MyDrive/images_white_pieces_strain/annotations/WIN_20240207_21_25_26_Pro.xml', '/content/drive/MyDrive/images_white_pieces_strain/annotations/WIN_20240207_21_25_36_Pro.xml', '/content/drive/MyDrive/images_white_pieces_strain/annotations/WIN_20240207_21_25_41_Pro.xml', '/content/drive/MyDrive/images_white_pieces_strain/annotations/WIN_20240207_21_25_45_Pro.xml', '/content/drive/MyDrive/images_white_pieces_strain/annotations/WIN_20240207_21_25_50_Pro.xml', '/content/drive/MyDrive/images_white_pieces_strain/annotations/WIN_20240207_21_25_54_Pro.xml', '/content/drive/MyDrive/images_white_pieces_strain/annotations/WIN_20240207_21_25_59_Pro.xml', '/content/drive/MyDrive/images_white_pieces_strain/annotations/WIN_20240207_21_26_04_Pro.xml', '/content/drive/MyDrive/images_white_pieces_strain/annotations/WIN_20240207_21_26_08_Pro.xml', '/content/drive/MyDrive/images_white_pieces_strain/annotations/WIN_20240207_21_26_13_Pro.xml', '/content/drive/MyDrive/images_white_pieces_strain/annotations/WIN_20240207_21_26_17_Pro.xml', '/content/drive/MyDrive/images_white_pieces_strain/annotations/WIN_20240207_21_26_22_Pro.xml', '/content/drive/MyDrive/images_white_pieces_strain/annotations/WIN_20240207_21_26_26_Pro.xml', '/content/drive/MyDrive/images_white_pieces_strain/annotations/WIN_20240207_21_26_30_Pro.xml', '/content/drive/MyDrive/images_white_pieces_strain/annotations/WIN_20240207_21_26_34_Pro.xml', '/content/drive/MyDrive/images_white_pieces_strain/annotations/WIN_20240207_21_26_38_Pro.xml', '/content/drive/MyDrive/images_white_pieces_strain/annotations/WIN_20240207_21_26_42_Pro.xml', '/content/drive/MyDrive/images_white_pieces_strain/annotations/WIN_20240207_21_26_46_Pro.xml', '/content/drive/MyDrive/images_white_pieces_strain/annotations/WIN_20240207_21_26_50_Pro.xml', '/content/drive/MyDrive/images_white_pieces_strain/annotations/WIN_20240207_21_26_54_Pro.xml', '/content/drive/MyDrive/images_white_pieces_strain/annotations/WIN_20240207_21_26_59_Pro.xml', '/content/drive/MyDrive/images_white_pieces_strain/annotations/WIN_20240207_21_27_03_Pro.xml', '/content/drive/MyDrive/images_white_pieces_strain/annotations/WIN_20240207_21_27_07_Pro.xml', '/content/drive/MyDrive/images_white_pieces_strain/annotations/WIN_20240207_21_27_11_Pro.xml', '/content/drive/MyDrive/images_white_pieces_strain/annotations/WIN_20240207_21_27_16_Pro.xml', '/content/drive/MyDrive/images_white_pieces_strain/annotations/WIN_20240207_21_27_21_Pro.xml', '/content/drive/MyDrive/images_white_pieces_strain/annotations/WIN_20240207_21_27_28_Pro.xml', '/content/drive/MyDrive/images_white_pieces_strain/annotations/WIN_20240207_21_27_32_Pro.xml', '/content/drive/MyDrive/images_white_pieces_strain/annotations/WIN_20240207_21_27_36_Pro.xml', '/content/drive/MyDrive/images_white_pieces_strain/annotations/WIN_20240207_21_27_40_Pro.xml', '/content/drive/MyDrive/images_white_pieces_strain/annotations/WIN_20240207_21_27_44_Pro.xml', '/content/drive/MyDrive/images_white_pieces_strain/annotations/WIN_20240207_21_27_48_Pro.xml', '/content/drive/MyDrive/images_white_pieces_strain/annotations/WIN_20240207_21_27_58_Pro.xml', '/content/drive/MyDrive/images_white_pieces_strain/annotations/WIN_20240207_21_28_04_Pro.xml', '/content/drive/MyDrive/images_white_pieces_strain/annotations/WIN_20240207_21_28_07_Pro.xml', '/content/drive/MyDrive/images_white_pieces_strain/annotations/WIN_20240207_21_28_10_Pro.xml', '/content/drive/MyDrive/images_white_pieces_strain/annotations/WIN_20240207_21_28_13_Pro.xml', '/content/drive/MyDrive/images_white_pieces_strain/annotations/WIN_20240207_21_28_17_Pro.xml', '/content/drive/MyDrive/images_white_pieces_strain/annotations/WIN_20240207_21_28_20_Pro.xml', '/content/drive/MyDrive/images_white_pieces_strain/annotations/WIN_20240207_21_28_24_Pro.xml', '/content/drive/MyDrive/images_white_pieces_strain/annotations/WIN_20240207_21_28_27_Pro.xml', '/content/drive/MyDrive/images_white_pieces_strain/annotations/WIN_20240207_21_28_31_Pro.xml', '/content/drive/MyDrive/images_white_pieces_strain/annotations/WIN_20240207_21_28_34_Pro.xml', '/content/drive/MyDrive/images_white_pieces_strain/annotations/WIN_20240207_21_28_37_Pro.xml', '/content/drive/MyDrive/images_white_pieces_strain/annotations/WIN_20240207_21_28_42_Pro.xml', '/content/drive/MyDrive/images_white_pieces_strain/annotations/WIN_20240207_21_28_49_Pro.xml', '/content/drive/MyDrive/images_white_pieces_strain/annotations/WIN_20240207_21_29_06_Pro.xml', '/content/drive/MyDrive/images_white_pieces_strain/annotations/WIN_20240207_21_29_10_Pro.xml', '/content/drive/MyDrive/images_white_pieces_strain/annotations/WIN_20240207_21_29_14_Pro.xml', '/content/drive/MyDrive/images_white_pieces_strain/annotations/WIN_20240207_21_29_17_Pro.xml', '/content/drive/MyDrive/images_white_pieces_strain/annotations/WIN_20240207_21_29_20_Pro.xml', '/content/drive/MyDrive/images_white_pieces_strain/annotations/WIN_20240207_21_29_25_Pro.xml', '/content/drive/MyDrive/images_white_pieces_strain/annotations/WIN_20240207_21_29_30_Pro.xml', '/content/drive/MyDrive/images_white_pieces_strain/annotations/WIN_20240207_21_29_36_Pro.xml', '/content/drive/MyDrive/images_white_pieces_strain/annotations/WIN_20240212_21_14_16_Pro.xml', '/content/drive/MyDrive/images_white_pieces_strain/annotations/WIN_20240212_21_14_27_Pro.xml', '/content/drive/MyDrive/images_white_pieces_strain/annotations/WIN_20240212_21_14_31_Pro.xml', '/content/drive/MyDrive/images_white_pieces_strain/annotations/WIN_20240212_21_14_37_Pro.xml', '/content/drive/MyDrive/images_white_pieces_strain/annotations/WIN_20240212_21_14_41_Pro.xml', '/content/drive/MyDrive/images_white_pieces_strain/annotations/WIN_20240212_21_14_46_Pro.xml', '/content/drive/MyDrive/images_white_pieces_strain/annotations/WIN_20240212_21_14_51_Pro.xml', '/content/drive/MyDrive/images_white_pieces_strain/annotations/WIN_20240212_21_14_55_Pro.xml', '/content/drive/MyDrive/images_white_pieces_strain/annotations/WIN_20240212_21_15_00_Pro.xml', '/content/drive/MyDrive/images_white_pieces_strain/annotations/WIN_20240212_21_15_07_Pro.xml', '/content/drive/MyDrive/images_white_pieces_strain/annotations/WIN_20240212_21_15_11_Pro.xml', '/content/drive/MyDrive/images_white_pieces_strain/annotations/WIN_20240212_21_15_16_Pro.xml', '/content/drive/MyDrive/images_white_pieces_strain/annotations/WIN_20240212_21_15_20_Pro.xml', '/content/drive/MyDrive/images_white_pieces_strain/annotations/WIN_20240212_21_15_24_Pro.xml', '/content/drive/MyDrive/images_white_pieces_strain/annotations/WIN_20240212_21_15_30_Pro.xml', '/content/drive/MyDrive/images_white_pieces_strain/annotations/WIN_20240212_21_15_35_Pro.xml', '/content/drive/MyDrive/images_white_pieces_strain/annotations/WIN_20240212_21_15_39_Pro.xml', '/content/drive/MyDrive/images_white_pieces_strain/annotations/WIN_20240212_21_15_43_Pro.xml', '/content/drive/MyDrive/images_white_pieces_strain/annotations/WIN_20240212_21_15_47_Pro.xml', '/content/drive/MyDrive/images_white_pieces_strain/annotations/WIN_20240212_21_15_54_Pro.xml', '/content/drive/MyDrive/images_white_pieces_strain/annotations/WIN_20240212_21_16_01_Pro.xml', '/content/drive/MyDrive/images_white_pieces_strain/annotations/WIN_20240212_21_16_04_Pro.xml', '/content/drive/MyDrive/images_white_pieces_strain/annotations/WIN_20240212_21_16_08_Pro.xml', '/content/drive/MyDrive/images_white_pieces_strain/annotations/WIN_20240212_21_16_12_Pro.xml', '/content/drive/MyDrive/images_white_pieces_strain/annotations/WIN_20240212_21_16_16_Pro.xml', '/content/drive/MyDrive/images_white_pieces_strain/annotations/WIN_20240212_21_16_20_Pro.xml', '/content/drive/MyDrive/images_white_pieces_strain/annotations/WIN_20240212_21_16_24_Pro.xml', '/content/drive/MyDrive/images_white_pieces_strain/annotations/WIN_20240212_21_16_27_Pro.xml', '/content/drive/MyDrive/images_white_pieces_strain/annotations/WIN_20240212_21_16_30_Pro.xml', '/content/drive/MyDrive/images_white_pieces_strain/annotations/WIN_20240212_21_16_32_Pro.xml', '/content/drive/MyDrive/images_white_pieces_strain/annotations/WIN_20240212_21_16_34_Pro.xml', '/content/drive/MyDrive/images_white_pieces_strain/annotations/WIN_20240212_21_16_36_Pro.xml', '/content/drive/MyDrive/images_white_pieces_strain/annotations/WIN_20240212_21_16_38_Pro.xml', '/content/drive/MyDrive/images_white_pieces_strain/annotations/WIN_20240212_21_16_41_Pro.xml', '/content/drive/MyDrive/images_white_pieces_strain/annotations/WIN_20240212_21_16_43_Pro.xml', '/content/drive/MyDrive/images_white_pieces_strain/annotations/WIN_20240212_21_16_48_Pro.xml', '/content/drive/MyDrive/images_white_pieces_strain/annotations/WIN_20240212_21_16_51_Pro.xml', '/content/drive/MyDrive/images_white_pieces_strain/annotations/WIN_20240212_21_16_55_Pro.xml', '/content/drive/MyDrive/images_white_pieces_strain/annotations/WIN_20240212_21_17_01_Pro.xml', '/content/drive/MyDrive/images_white_pieces_strain/annotations/WIN_20240212_21_17_10_Pro.xml', '/content/drive/MyDrive/images_white_pieces_strain/annotations/WIN_20240212_21_17_17_Pro.xml', '/content/drive/MyDrive/images_white_pieces_strain/annotations/WIN_20240212_21_17_20_Pro.xml', '/content/drive/MyDrive/images_white_pieces_strain/annotations/WIN_20240212_21_17_23_Pro.xml', '/content/drive/MyDrive/images_white_pieces_strain/annotations/WIN_20240212_21_17_26_Pro.xml', '/content/drive/MyDrive/images_white_pieces_strain/annotations/WIN_20240212_21_17_30_Pro.xml', '/content/drive/MyDrive/images_white_pieces_strain/annotations/WIN_20240212_21_17_33_Pro.xml', '/content/drive/MyDrive/images_white_pieces_strain/annotations/WIN_20240212_21_17_36_Pro.xml', '/content/drive/MyDrive/images_white_pieces_strain/annotations/WIN_20240212_21_17_39_Pro.xml', '/content/drive/MyDrive/images_white_pieces_strain/annotations/WIN_20240212_21_17_41_Pro.xml', '/content/drive/MyDrive/images_white_pieces_strain/annotations/WIN_20240212_21_17_44_Pro.xml', '/content/drive/MyDrive/images_white_pieces_strain/annotations/WIN_20240212_21_17_47_Pro.xml', '/content/drive/MyDrive/images_white_pieces_strain/annotations/WIN_20240212_21_17_49_Pro.xml', '/content/drive/MyDrive/images_white_pieces_strain/annotations/WIN_20240212_21_17_52_Pro.xml', '/content/drive/MyDrive/images_white_pieces_strain/annotations/WIN_20240212_21_17_53_Pro.xml', '/content/drive/MyDrive/images_white_pieces_strain/annotations/WIN_20240212_21_17_56_Pro.xml', '/content/drive/MyDrive/images_white_pieces_strain/annotations/WIN_20240212_21_17_58_Pro.xml', '/content/drive/MyDrive/images_white_pieces_strain/annotations/WIN_20240212_21_18_00_Pro.xml', '/content/drive/MyDrive/images_white_pieces_strain/annotations/WIN_20240212_21_18_02_Pro.xml', '/content/drive/MyDrive/images_white_pieces_strain/annotations/WIN_20240212_21_18_04_Pro.xml', '/content/drive/MyDrive/images_white_pieces_strain/annotations/WIN_20240212_21_18_06_Pro.xml', '/content/drive/MyDrive/images_white_pieces_strain/annotations/WIN_20240212_21_18_10_Pro.xml', '/content/drive/MyDrive/images_white_pieces_strain/annotations/WIN_20240212_21_18_12_Pro.xml', '/content/drive/MyDrive/images_white_pieces_strain/annotations/WIN_20240212_21_18_14_Pro.xml', '/content/drive/MyDrive/images_white_pieces_strain/annotations/WIN_20240212_21_18_16_Pro.xml', '/content/drive/MyDrive/images_white_pieces_strain/annotations/WIN_20240212_21_18_18_Pro.xml', '/content/drive/MyDrive/images_white_pieces_strain/annotations/WIN_20240212_21_18_20_Pro.xml', '/content/drive/MyDrive/images_white_pieces_strain/annotations/WIN_20240212_21_18_22_Pro.xml', '/content/drive/MyDrive/images_white_pieces_strain/annotations/WIN_20240212_21_18_32_Pro.xml', '/content/drive/MyDrive/images_white_pieces_strain/annotations/WIN_20240212_21_18_34_Pro.xml', '/content/drive/MyDrive/images_white_pieces_strain/annotations/WIN_20240212_21_18_36_Pro.xml', '/content/drive/MyDrive/images_white_pieces_strain/annotations/WIN_20240212_21_18_38_Pro.xml', '/content/drive/MyDrive/images_white_pieces_strain/annotations/WIN_20240212_21_18_40_Pro.xml', '/content/drive/MyDrive/images_white_pieces_strain/annotations/WIN_20240212_21_18_42_Pro.xml', '/content/drive/MyDrive/images_white_pieces_strain/annotations/WIN_20240212_21_18_44_Pro.xml', '/content/drive/MyDrive/images_white_pieces_strain/annotations/WIN_20240212_21_18_48_Pro.xml', '/content/drive/MyDrive/images_white_pieces_strain/annotations/WIN_20240212_21_18_53_Pro.xml', '/content/drive/MyDrive/images_white_pieces_strain/annotations/WIN_20240212_21_18_56_Pro.xml', '/content/drive/MyDrive/images_white_pieces_strain/annotations/WIN_20240212_21_19_06_Pro.xml', '/content/drive/MyDrive/images_white_pieces_strain/annotations/WIN_20240212_21_19_08_Pro.xml', '/content/drive/MyDrive/images_white_pieces_strain/annotations/WIN_20240212_21_19_11_Pro.xml', '/content/drive/MyDrive/images_white_pieces_strain/annotations/WIN_20240212_21_19_13_Pro.xml', '/content/drive/MyDrive/images_white_pieces_strain/annotations/WIN_20240212_21_19_14_Pro.xml', '/content/drive/MyDrive/images_white_pieces_strain/annotations/WIN_20240212_21_19_16_Pro.xml', '/content/drive/MyDrive/images_white_pieces_strain/annotations/WIN_20240212_21_19_18_Pro.xml', '/content/drive/MyDrive/images_white_pieces_strain/annotations/WIN_20240212_21_19_20_Pro.xml', '/content/drive/MyDrive/images_white_pieces_strain/annotations/WIN_20240212_21_19_23_Pro.xml', '/content/drive/MyDrive/images_white_pieces_strain/annotations/WIN_20240212_21_19_25_Pro.xml', '/content/drive/MyDrive/images_white_pieces_strain/annotations/WIN_20240212_21_19_26_Pro.xml', '/content/drive/MyDrive/images_white_pieces_strain/annotations/WIN_20240212_21_19_28_Pro.xml', '/content/drive/MyDrive/images_white_pieces_strain/annotations/WIN_20240212_21_19_30_Pro.xml', '/content/drive/MyDrive/images_white_pieces_strain/annotations/WIN_20240212_21_19_32_Pro.xml', '/content/drive/MyDrive/images_white_pieces_strain/annotations/WIN_20240212_21_19_35_Pro.xml', '/content/drive/MyDrive/images_white_pieces_strain/annotations/WIN_20240212_21_19_37_Pro.xml', '/content/drive/MyDrive/images_white_pieces_strain/annotations/WIN_20240212_21_19_40_Pro.xml', '/content/drive/MyDrive/images_white_pieces_strain/annotations/WIN_20240212_21_19_42_Pro.xml', '/content/drive/MyDrive/images_white_pieces_strain/annotations/WIN_20240212_21_19_44_Pro.xml', '/content/drive/MyDrive/images_white_pieces_strain/annotations/WIN_20240212_21_19_47_Pro.xml', '/content/drive/MyDrive/images_white_pieces_strain/annotations/WIN_20240212_21_19_51_Pro.xml', '/content/drive/MyDrive/images_white_pieces_strain/annotations/WIN_20240212_21_19_54_Pro.xml', '/content/drive/MyDrive/images_white_pieces_strain/annotations/WIN_20240212_21_19_57_Pro.xml', '/content/drive/MyDrive/images_white_pieces_strain/annotations/WIN_20240212_21_20_00_Pro.xml', '/content/drive/MyDrive/images_white_pieces_strain/annotations/WIN_20240212_21_20_02_Pro.xml', '/content/drive/MyDrive/images_white_pieces_strain/annotations/WIN_20240212_21_20_04_Pro.xml', '/content/drive/MyDrive/images_white_pieces_strain/annotations/WIN_20240212_21_20_05_Pro.xml', '/content/drive/MyDrive/images_white_pieces_strain/annotations/WIN_20240212_21_20_07_Pro.xml', '/content/drive/MyDrive/images_white_pieces_strain/annotations/WIN_20240212_21_20_09_Pro.xml', '/content/drive/MyDrive/images_white_pieces_strain/annotations/WIN_20240212_21_20_11_Pro.xml', '/content/drive/MyDrive/images_white_pieces_strain/annotations/WIN_20240212_21_20_13_Pro.xml', '/content/drive/MyDrive/images_white_pieces_strain/annotations/WIN_20240212_21_20_16_Pro.xml', '/content/drive/MyDrive/images_white_pieces_strain/annotations/WIN_20240212_21_20_18_Pro.xml', '/content/drive/MyDrive/images_white_pieces_strain/annotations/WIN_20240212_21_20_21_Pro.xml', '/content/drive/MyDrive/images_white_pieces_strain/annotations/WIN_20240212_21_20_23_Pro.xml', '/content/drive/MyDrive/images_white_pieces_strain/annotations/WIN_20240212_21_20_26_Pro.xml', '/content/drive/MyDrive/images_white_pieces_strain/annotations/WIN_20240212_21_20_29_Pro.xml', '/content/drive/MyDrive/images_white_pieces_strain/annotations/WIN_20240212_21_20_31_Pro.xml', '/content/drive/MyDrive/images_white_pieces_strain/annotations/WIN_20240212_21_20_33_Pro.xml', '/content/drive/MyDrive/images_white_pieces_strain/annotations/WIN_20240212_21_20_37_Pro.xml', '/content/drive/MyDrive/images_white_pieces_strain/annotations/WIN_20240212_21_20_39_Pro.xml', '/content/drive/MyDrive/images_white_pieces_strain/annotations/WIN_20240212_21_20_42_Pro.xml', '/content/drive/MyDrive/images_white_pieces_strain/annotations/WIN_20240212_21_20_44_Pro.xml', '/content/drive/MyDrive/images_white_pieces_strain/annotations/WIN_20240212_21_20_46_Pro.xml', '/content/drive/MyDrive/images_white_pieces_strain/annotations/WIN_20240212_21_20_49_Pro.xml', '/content/drive/MyDrive/images_white_pieces_strain/annotations/WIN_20240212_21_20_51_Pro.xml', '/content/drive/MyDrive/images_white_pieces_strain/annotations/WIN_20240212_21_20_54_Pro.xml', '/content/drive/MyDrive/images_white_pieces_strain/annotations/WIN_20240212_21_20_58_Pro.xml', '/content/drive/MyDrive/images_white_pieces_strain/annotations/WIN_20240212_21_21_01_Pro.xml', '/content/drive/MyDrive/images_white_pieces_strain/annotations/WIN_20240212_21_21_03_Pro.xml', '/content/drive/MyDrive/images_white_pieces_strain/annotations/WIN_20240212_21_21_06_Pro.xml', '/content/drive/MyDrive/images_white_pieces_strain/annotations/WIN_20240212_21_21_08_Pro.xml', '/content/drive/MyDrive/images_white_pieces_strain/annotations/WIN_20240212_21_21_11_Pro.xml', '/content/drive/MyDrive/images_white_pieces_strain/annotations/WIN_20240212_21_21_13_Pro.xml', '/content/drive/MyDrive/images_white_pieces_strain/annotations/WIN_20240212_21_21_15_Pro.xml', '/content/drive/MyDrive/images_white_pieces_strain/annotations/WIN_20240212_21_21_32_Pro.xml', '/content/drive/MyDrive/images_white_pieces_strain/annotations/WIN_20240212_21_21_35_Pro.xml', '/content/drive/MyDrive/images_white_pieces_strain/annotations/WIN_20240212_21_21_39_Pro.xml', '/content/drive/MyDrive/images_white_pieces_strain/annotations/WIN_20240212_21_21_42_Pro.xml', '/content/drive/MyDrive/images_white_pieces_strain/annotations/WIN_20240212_21_21_45_Pro.xml', '/content/drive/MyDrive/images_white_pieces_strain/annotations/WIN_20240212_21_21_48_Pro.xml', '/content/drive/MyDrive/images_white_pieces_strain/annotations/WIN_20240212_21_21_52_Pro.xml', '/content/drive/MyDrive/images_white_pieces_strain/annotations/WIN_20240212_21_21_55_Pro.xml', '/content/drive/MyDrive/images_white_pieces_strain/annotations/WIN_20240212_21_21_58_Pro.xml', '/content/drive/MyDrive/images_white_pieces_strain/annotations/WIN_20240212_21_22_01_Pro.xml', '/content/drive/MyDrive/images_white_pieces_strain/annotations/WIN_20240212_21_22_04_Pro.xml', '/content/drive/MyDrive/images_white_pieces_strain/annotations/WIN_20240212_21_22_06_Pro.xml', '/content/drive/MyDrive/images_white_pieces_strain/annotations/WIN_20240212_21_22_09_Pro.xml', '/content/drive/MyDrive/images_white_pieces_strain/annotations/WIN_20240212_21_22_11_Pro.xml', '/content/drive/MyDrive/images_white_pieces_strain/annotations/WIN_20240212_21_22_16_Pro.xml', '/content/drive/MyDrive/images_white_pieces_strain/annotations/WIN_20240212_21_22_21_Pro.xml', '/content/drive/MyDrive/images_white_pieces_strain/annotations/WIN_20240212_21_22_24_Pro.xml', '/content/drive/MyDrive/images_white_pieces_strain/annotations/WIN_20240212_21_22_27_Pro.xml', '/content/drive/MyDrive/images_white_pieces_strain/annotations/WIN_20240212_21_22_29_Pro.xml', '/content/drive/MyDrive/images_white_pieces_strain/annotations/WIN_20240212_21_22_40_Pro.xml', '/content/drive/MyDrive/images_white_pieces_strain/annotations/WIN_20240212_21_22_43_Pro.xml', '/content/drive/MyDrive/images_white_pieces_strain/annotations/WIN_20240212_21_22_46_Pro.xml', '/content/drive/MyDrive/images_white_pieces_strain/annotations/WIN_20240212_21_22_48_Pro.xml', '/content/drive/MyDrive/images_white_pieces_strain/annotations/WIN_20240212_21_22_53_Pro.xml', '/content/drive/MyDrive/images_white_pieces_strain/annotations/WIN_20240212_21_23_02_Pro.xml', '/content/drive/MyDrive/images_white_pieces_strain/annotations/WIN_20240212_21_23_06_Pro.xml', '/content/drive/MyDrive/images_white_pieces_strain/annotations/WIN_20240212_21_23_09_Pro.xml', '/content/drive/MyDrive/images_white_pieces_strain/annotations/WIN_20240212_21_23_13_Pro.xml', '/content/drive/MyDrive/images_white_pieces_strain/annotations/WIN_20240212_21_23_16_Pro.xml', '/content/drive/MyDrive/images_white_pieces_strain/annotations/WIN_20240212_21_23_50_Pro.xml', '/content/drive/MyDrive/images_white_pieces_strain/annotations/WIN_20240212_21_23_53_Pro.xml', '/content/drive/MyDrive/images_white_pieces_strain/annotations/WIN_20240212_21_23_57_Pro.xml', '/content/drive/MyDrive/images_white_pieces_strain/annotations/WIN_20240212_21_24_02_Pro.xml', '/content/drive/MyDrive/images_white_pieces_strain/annotations/WIN_20240212_21_24_07_Pro.xml', '/content/drive/MyDrive/images_white_pieces_strain/annotations/WIN_20240212_21_24_21_Pro.xml', '/content/drive/MyDrive/images_white_pieces_strain/annotations/WIN_20240212_21_24_25_Pro.xml', '/content/drive/MyDrive/images_white_pieces_strain/annotations/WIN_20240212_21_24_31_Pro.xml', '/content/drive/MyDrive/images_white_pieces_strain/annotations/WIN_20240212_21_24_36_Pro.xml', '/content/drive/MyDrive/images_white_pieces_strain/annotations/WIN_20240212_21_25_01_Pro.xml', '/content/drive/MyDrive/images_white_pieces_strain/annotations/WIN_20240212_21_25_06_Pro.xml', '/content/drive/MyDrive/images_white_pieces_strain/annotations/WIN_20240212_21_25_09_Pro.xml', '/content/drive/MyDrive/images_white_pieces_strain/annotations/WIN_20240212_21_25_12_Pro.xml', '/content/drive/MyDrive/images_white_pieces_strain/annotations/WIN_20240212_21_25_14_Pro.xml', '/content/drive/MyDrive/images_white_pieces_strain/annotations/WIN_20240212_21_25_17_Pro.xml', '/content/drive/MyDrive/images_white_pieces_strain/annotations/WIN_20240212_21_25_19_Pro.xml', '/content/drive/MyDrive/images_white_pieces_strain/annotations/WIN_20240212_21_25_23_Pro.xml', '/content/drive/MyDrive/images_white_pieces_strain/annotations/WIN_20240212_21_25_25_Pro.xml', '/content/drive/MyDrive/images_white_pieces_strain/annotations/WIN_20240212_21_25_29_Pro.xml', '/content/drive/MyDrive/images_white_pieces_strain/annotations/WIN_20240212_21_25_31_Pro.xml', '/content/drive/MyDrive/images_white_pieces_strain/annotations/WIN_20240212_21_25_35_Pro.xml', '/content/drive/MyDrive/images_white_pieces_strain/annotations/WIN_20240212_21_25_37_Pro.xml', '/content/drive/MyDrive/images_white_pieces_strain/annotations/WIN_20240212_21_25_41_Pro.xml', '/content/drive/MyDrive/images_white_pieces_strain/annotations/WIN_20240212_21_25_43_Pro.xml', '/content/drive/MyDrive/images_white_pieces_strain/annotations/WIN_20240212_21_25_47_Pro.xml', '/content/drive/MyDrive/images_white_pieces_strain/annotations/WIN_20240212_21_25_50_Pro.xml', '/content/drive/MyDrive/images_white_pieces_strain/annotations/WIN_20240212_21_25_53_Pro.xml', '/content/drive/MyDrive/images_white_pieces_strain/annotations/WIN_20240212_21_26_05_Pro.xml', '/content/drive/MyDrive/images_white_pieces_strain/annotations/WIN_20240212_21_26_10_Pro.xml', '/content/drive/MyDrive/images_white_pieces_strain/annotations/WIN_20240212_21_26_13_Pro.xml', '/content/drive/MyDrive/images_white_pieces_strain/annotations/WIN_20240212_21_26_17_Pro.xml', '/content/drive/MyDrive/images_white_pieces_strain/annotations/WIN_20240212_21_26_21_Pro.xml', '/content/drive/MyDrive/images_white_pieces_strain/annotations/WIN_20240212_21_26_24_Pro.xml', '/content/drive/MyDrive/images_white_pieces_strain/annotations/WIN_20240212_21_26_28_Pro.xml', '/content/drive/MyDrive/images_white_pieces_strain/annotations/WIN_20240212_21_26_34_Pro.xml', '/content/drive/MyDrive/images_white_pieces_strain/annotations/WIN_20240212_21_26_36_Pro.xml', '/content/drive/MyDrive/images_white_pieces_strain/annotations/WIN_20240212_21_26_40_Pro.xml', '/content/drive/MyDrive/images_white_pieces_strain/annotations/WIN_20240212_21_26_42_Pro.xml', '/content/drive/MyDrive/images_white_pieces_strain/annotations/WIN_20240212_21_26_45_Pro.xml', '/content/drive/MyDrive/images_white_pieces_strain/annotations/WIN_20240212_21_26_48_Pro.xml', '/content/drive/MyDrive/images_white_pieces_strain/annotations/WIN_20240212_21_26_54_Pro.xml', '/content/drive/MyDrive/images_white_pieces_strain/annotations/WIN_20240212_21_26_58_Pro.xml', '/content/drive/MyDrive/images_white_pieces_strain/annotations/WIN_20240212_21_27_00_Pro.xml', '/content/drive/MyDrive/images_white_pieces_strain/annotations/WIN_20240212_21_27_04_Pro.xml', '/content/drive/MyDrive/images_white_pieces_strain/annotations/WIN_20240212_21_27_08_Pro.xml', '/content/drive/MyDrive/images_white_pieces_strain/annotations/WIN_20240212_21_27_11_Pro.xml', '/content/drive/MyDrive/images_white_pieces_strain/annotations/WIN_20240212_21_27_14_Pro.xml', '/content/drive/MyDrive/images_white_pieces_strain/annotations/WIN_20240212_21_27_17_Pro.xml', '/content/drive/MyDrive/images_white_pieces_strain/annotations/WIN_20240212_21_27_21_Pro.xml', '/content/drive/MyDrive/images_white_pieces_strain/annotations/WIN_20240212_21_27_27_Pro.xml', '/content/drive/MyDrive/images_white_pieces_strain/annotations/WIN_20240212_21_27_28_Pro.xml', '/content/drive/MyDrive/images_white_pieces_strain/annotations/WIN_20240212_21_27_31_Pro.xml', '/content/drive/MyDrive/images_white_pieces_strain/annotations/WIN_20240212_21_27_34_Pro.xml', '/content/drive/MyDrive/images_white_pieces_strain/annotations/WIN_20240212_21_27_38_Pro.xml', '/content/drive/MyDrive/images_white_pieces_strain/annotations/WIN_20240212_21_27_41_Pro.xml', '/content/drive/MyDrive/images_white_pieces_strain/annotations/WIN_20240212_21_27_44_Pro.xml', '/content/drive/MyDrive/images_white_pieces_strain/annotations/WIN_20240212_21_27_46_Pro.xml', '/content/drive/MyDrive/images_white_pieces_strain/annotations/WIN_20240212_21_27_51_Pro.xml', '/content/drive/MyDrive/images_white_pieces_strain/annotations/WIN_20240212_21_27_54_Pro.xml', '/content/drive/MyDrive/images_white_pieces_strain/annotations/WIN_20240212_21_28_00_Pro.xml', '/content/drive/MyDrive/images_white_pieces_strain/annotations/WIN_20240212_21_28_03_Pro.xml', '/content/drive/MyDrive/images_white_pieces_strain/annotations/WIN_20240212_21_28_06_Pro.xml', '/content/drive/MyDrive/images_white_pieces_strain/annotations/WIN_20240212_21_28_10_Pro.xml', '/content/drive/MyDrive/images_white_pieces_strain/annotations/WIN_20240212_21_28_13_Pro.xml', '/content/drive/MyDrive/images_white_pieces_strain/annotations/WIN_20240212_21_28_15_Pro.xml', '/content/drive/MyDrive/images_white_pieces_strain/annotations/WIN_20240212_21_28_17_Pro.xml', '/content/drive/MyDrive/images_white_pieces_strain/annotations/WIN_20240212_21_28_20_Pro.xml', '/content/drive/MyDrive/images_white_pieces_strain/annotations/WIN_20240212_21_28_25_Pro.xml', '/content/drive/MyDrive/images_white_pieces_strain/annotations/WIN_20240212_21_28_29_Pro.xml', '/content/drive/MyDrive/images_white_pieces_strain/annotations/WIN_20240212_21_28_31_Pro.xml', '/content/drive/MyDrive/images_white_pieces_strain/annotations/WIN_20240212_21_28_34_Pro.xml', '/content/drive/MyDrive/images_white_pieces_strain/annotations/WIN_20240212_21_28_37_Pro.xml', '/content/drive/MyDrive/images_white_pieces_strain/annotations/WIN_20240212_21_28_39_Pro.xml', '/content/drive/MyDrive/images_white_pieces_strain/annotations/WIN_20240212_21_28_42_Pro.xml', '/content/drive/MyDrive/images_white_pieces_strain/annotations/WIN_20240212_21_28_45_Pro.xml', '/content/drive/MyDrive/images_white_pieces_strain/annotations/WIN_20240212_21_28_48_Pro.xml', '/content/drive/MyDrive/images_white_pieces_strain/annotations/WIN_20240212_21_28_50_Pro.xml', '/content/drive/MyDrive/images_white_pieces_strain/annotations/WIN_20240212_21_28_53_Pro.xml', '/content/drive/MyDrive/images_white_pieces_strain/annotations/WIN_20240212_21_28_57_Pro.xml', '/content/drive/MyDrive/images_white_pieces_strain/annotations/WIN_20240212_21_29_00_Pro.xml', '/content/drive/MyDrive/images_white_pieces_strain/annotations/WIN_20240212_21_29_03_Pro.xml', '/content/drive/MyDrive/images_white_pieces_strain/annotations/WIN_20240212_21_29_06_Pro.xml', '/content/drive/MyDrive/images_white_pieces_strain/annotations/WIN_20240212_21_29_11_Pro.xml', '/content/drive/MyDrive/images_white_pieces_strain/annotations/WIN_20240212_21_29_13_Pro.xml', '/content/drive/MyDrive/images_white_pieces_strain/annotations/WIN_20240212_21_29_20_Pro.xml', '/content/drive/MyDrive/images_white_pieces_strain/annotations/WIN_20240212_21_29_27_Pro.xml', '/content/drive/MyDrive/images_white_pieces_strain/annotations/WIN_20240212_21_29_30_Pro.xml', '/content/drive/MyDrive/images_white_pieces_strain/annotations/WIN_20240212_21_29_37_Pro.xml', '/content/drive/MyDrive/images_white_pieces_strain/annotations/WIN_20240212_21_29_40_Pro.xml', '/content/drive/MyDrive/images_white_pieces_strain/annotations/WIN_20240212_21_29_44_Pro.xml', '/content/drive/MyDrive/images_white_pieces_strain/annotations/WIN_20240212_21_29_46_Pro.xml', '/content/drive/MyDrive/images_white_pieces_strain/annotations/WIN_20240212_21_29_49_Pro.xml', '/content/drive/MyDrive/images_white_pieces_strain/annotations/WIN_20240212_21_29_52_Pro.xml', '/content/drive/MyDrive/images_white_pieces_strain/annotations/WIN_20240212_21_29_56_Pro.xml', '/content/drive/MyDrive/images_white_pieces_strain/annotations/WIN_20240212_21_30_02_Pro.xml', '/content/drive/MyDrive/images_white_pieces_strain/annotations/WIN_20240212_21_30_06_Pro.xml', '/content/drive/MyDrive/images_white_pieces_strain/annotations/WIN_20240212_21_30_09_Pro.xml', '/content/drive/MyDrive/images_white_pieces_strain/annotations/WIN_20240212_21_30_13_Pro.xml', '/content/drive/MyDrive/images_white_pieces_strain/annotations/WIN_20240212_21_30_16_Pro (2).xml', '/content/drive/MyDrive/images_white_pieces_strain/annotations/WIN_20240212_21_30_16_Pro.xml', '/content/drive/MyDrive/images_white_pieces_strain/annotations/WIN_20240212_21_30_19_Pro.xml', '/content/drive/MyDrive/images_white_pieces_strain/annotations/WIN_20240212_21_30_22_Pro.xml', '/content/drive/MyDrive/images_white_pieces_strain/annotations/WIN_20240212_21_30_26_Pro.xml', '/content/drive/MyDrive/images_white_pieces_strain/annotations/WIN_20240212_21_30_29_Pro.xml', '/content/drive/MyDrive/images_white_pieces_strain/annotations/WIN_20240212_21_30_32_Pro.xml', '/content/drive/MyDrive/images_white_pieces_strain/annotations/WIN_20240212_21_30_35_Pro.xml', '/content/drive/MyDrive/images_white_pieces_strain/annotations/WIN_20240212_21_30_47_Pro.xml', '/content/drive/MyDrive/images_white_pieces_strain/annotations/WIN_20240212_21_30_51_Pro.xml', '/content/drive/MyDrive/images_white_pieces_strain/annotations/WIN_20240212_21_31_25_Pro.xml', '/content/drive/MyDrive/images_white_pieces_strain/annotations/WIN_20240212_21_31_29_Pro.xml', '/content/drive/MyDrive/images_white_pieces_strain/annotations/WIN_20240212_21_31_32_Pro.xml', '/content/drive/MyDrive/images_white_pieces_strain/annotations/WIN_20240212_21_31_35_Pro.xml', '/content/drive/MyDrive/images_white_pieces_strain/annotations/WIN_20240212_21_31_37_Pro.xml', '/content/drive/MyDrive/images_white_pieces_strain/annotations/WIN_20240212_21_31_39_Pro.xml', '/content/drive/MyDrive/images_white_pieces_strain/annotations/WIN_20240212_21_31_43_Pro.xml', '/content/drive/MyDrive/images_white_pieces_strain/annotations/WIN_20240212_21_31_46_Pro.xml', '/content/drive/MyDrive/images_white_pieces_strain/annotations/WIN_20240212_21_31_50_Pro.xml', '/content/drive/MyDrive/images_white_pieces_strain/annotations/WIN_20240212_21_31_53_Pro.xml', '/content/drive/MyDrive/images_white_pieces_strain/annotations/WIN_20240212_21_31_56_Pro.xml', '/content/drive/MyDrive/images_white_pieces_strain/annotations/WIN_20240212_21_32_00_Pro.xml', '/content/drive/MyDrive/images_white_pieces_strain/annotations/WIN_20240212_21_32_08_Pro.xml', '/content/drive/MyDrive/images_white_pieces_strain/annotations/WIN_20240212_21_32_12_Pro.xml', '/content/drive/MyDrive/images_white_pieces_strain/annotations/WIN_20240212_21_32_15_Pro.xml', '/content/drive/MyDrive/images_white_pieces_strain/annotations/WIN_20240212_21_32_18_Pro.xml', '/content/drive/MyDrive/images_white_pieces_strain/annotations/WIN_20240212_21_32_21_Pro.xml', '/content/drive/MyDrive/images_white_pieces_strain/annotations/WIN_20240212_21_32_25_Pro.xml', '/content/drive/MyDrive/images_white_pieces_strain/annotations/WIN_20240212_21_33_10_Pro.xml', '/content/drive/MyDrive/images_white_pieces_strain/annotations/WIN_20240212_21_33_16_Pro.xml', '/content/drive/MyDrive/images_white_pieces_strain/annotations/WIN_20240212_21_33_19_Pro.xml', '/content/drive/MyDrive/images_white_pieces_strain/annotations/WIN_20240212_21_33_29_Pro.xml', '/content/drive/MyDrive/images_white_pieces_strain/annotations/WIN_20240212_21_33_35_Pro.xml', '/content/drive/MyDrive/images_white_pieces_strain/annotations/WIN_20240212_21_33_41_Pro.xml', '/content/drive/MyDrive/images_white_pieces_strain/annotations/WIN_20240212_21_33_44_Pro.xml', '/content/drive/MyDrive/images_white_pieces_strain/annotations/WIN_20240212_21_33_50_Pro.xml', '/content/drive/MyDrive/images_white_pieces_strain/annotations/WIN_20240212_21_33_54_Pro.xml', '/content/drive/MyDrive/images_white_pieces_strain/annotations/WIN_20240212_21_33_58_Pro.xml', '/content/drive/MyDrive/images_white_pieces_strain/annotations/WIN_20240212_21_34_01_Pro.xml', '/content/drive/MyDrive/images_white_pieces_strain/annotations/WIN_20240212_21_34_03_Pro.xml', '/content/drive/MyDrive/images_white_pieces_strain/annotations/WIN_20240212_21_34_06_Pro.xml', '/content/drive/MyDrive/images_white_pieces_strain/annotations/WIN_20240212_21_34_08_Pro.xml', '/content/drive/MyDrive/images_white_pieces_strain/annotations/WIN_20240212_21_34_10_Pro.xml', '/content/drive/MyDrive/images_white_pieces_strain/annotations/WIN_20240212_21_34_13_Pro.xml', '/content/drive/MyDrive/images_white_pieces_strain/annotations/WIN_20240212_21_34_16_Pro.xml', '/content/drive/MyDrive/images_white_pieces_strain/annotations/WIN_20240212_21_34_22_Pro.xml', '/content/drive/MyDrive/images_white_pieces_strain/annotations/WIN_20240212_21_34_25_Pro.xml', '/content/drive/MyDrive/images_white_pieces_strain/annotations/WIN_20240212_21_34_29_Pro.xml', '/content/drive/MyDrive/images_white_pieces_strain/annotations/WIN_20240212_21_34_33_Pro.xml', '/content/drive/MyDrive/images_white_pieces_strain/annotations/WIN_20240212_21_34_36_Pro.xml', '/content/drive/MyDrive/images_white_pieces_strain/annotations/WIN_20240212_21_34_39_Pro.xml', '/content/drive/MyDrive/images_white_pieces_strain/annotations/WIN_20240212_21_34_42_Pro.xml', '/content/drive/MyDrive/images_white_pieces_strain/annotations/WIN_20240212_21_34_45_Pro.xml', '/content/drive/MyDrive/images_white_pieces_strain/annotations/WIN_20240212_21_34_47_Pro.xml', '/content/drive/MyDrive/images_white_pieces_strain/annotations/WIN_20240212_21_34_49_Pro.xml', '/content/drive/MyDrive/images_white_pieces_strain/annotations/WIN_20240212_21_34_51_Pro.xml', '/content/drive/MyDrive/images_white_pieces_strain/annotations/WIN_20240212_21_34_53_Pro.xml', '/content/drive/MyDrive/images_white_pieces_strain/annotations/WIN_20240212_21_34_56_Pro.xml', '/content/drive/MyDrive/images_white_pieces_strain/annotations/WIN_20240212_21_35_20_Pro.xml', '/content/drive/MyDrive/images_white_pieces_strain/annotations/WIN_20240212_21_35_22_Pro.xml', '/content/drive/MyDrive/images_white_pieces_strain/annotations/WIN_20240212_21_35_27_Pro.xml', '/content/drive/MyDrive/images_white_pieces_strain/annotations/WIN_20240212_21_35_29_Pro.xml', '/content/drive/MyDrive/images_white_pieces_strain/annotations/WIN_20240212_21_35_32_Pro.xml', '/content/drive/MyDrive/images_white_pieces_strain/annotations/WIN_20240212_21_35_34_Pro.xml', '/content/drive/MyDrive/images_white_pieces_strain/annotations/WIN_20240212_21_35_37_Pro.xml', '/content/drive/MyDrive/images_white_pieces_strain/annotations/WIN_20240212_21_35_40_Pro.xml', '/content/drive/MyDrive/images_white_pieces_strain/annotations/WIN_20240212_21_35_42_Pro.xml', '/content/drive/MyDrive/images_white_pieces_strain/annotations/WIN_20240212_21_35_45_Pro.xml', '/content/drive/MyDrive/images_white_pieces_strain/annotations/WIN_20240212_21_35_50_Pro.xml', '/content/drive/MyDrive/images_white_pieces_strain/annotations/WIN_20240212_21_35_53_Pro.xml', '/content/drive/MyDrive/images_white_pieces_strain/annotations/WIN_20240212_21_35_57_Pro.xml', '/content/drive/MyDrive/images_white_pieces_strain/annotations/WIN_20240212_21_35_59_Pro.xml', '/content/drive/MyDrive/images_white_pieces_strain/annotations/WIN_20240212_21_36_02_Pro.xml', '/content/drive/MyDrive/images_white_pieces_strain/annotations/WIN_20240212_21_36_05_Pro.xml', '/content/drive/MyDrive/images_white_pieces_strain/annotations/WIN_20240212_21_36_07_Pro.xml', '/content/drive/MyDrive/images_white_pieces_strain/annotations/WIN_20240212_21_36_09_Pro.xml', '/content/drive/MyDrive/images_white_pieces_strain/annotations/WIN_20240212_21_36_13_Pro.xml', '/content/drive/MyDrive/images_white_pieces_strain/annotations/WIN_20240212_21_36_16_Pro.xml', '/content/drive/MyDrive/images_white_pieces_strain/annotations/WIN_20240212_21_36_18_Pro.xml', '/content/drive/MyDrive/images_white_pieces_strain/annotations/WIN_20240212_21_36_21_Pro.xml', '/content/drive/MyDrive/images_white_pieces_strain/annotations/WIN_20240212_21_36_23_Pro.xml', '/content/drive/MyDrive/images_white_pieces_strain/annotations/WIN_20240212_21_36_26_Pro.xml', '/content/drive/MyDrive/images_white_pieces_strain/annotations/WIN_20240212_21_36_28_Pro.xml', '/content/drive/MyDrive/images_white_pieces_strain/annotations/WIN_20240212_21_36_30_Pro.xml', '/content/drive/MyDrive/images_white_pieces_strain/annotations/WIN_20240212_21_36_31_Pro.xml', '/content/drive/MyDrive/images_white_pieces_strain/annotations/WIN_20240212_21_36_33_Pro.xml', '/content/drive/MyDrive/images_white_pieces_strain/annotations/WIN_20240212_21_37_08_Pro.xml', '/content/drive/MyDrive/images_white_pieces_strain/annotations/WIN_20240212_21_37_17_Pro.xml', '/content/drive/MyDrive/images_white_pieces_strain/annotations/WIN_20240212_21_37_28_Pro.xml', '/content/drive/MyDrive/images_white_pieces_strain/annotations/WIN_20240212_21_38_05_Pro.xml', '/content/drive/MyDrive/images_white_pieces_strain/annotations/WIN_20240212_21_38_13_Pro.xml', '/content/drive/MyDrive/images_white_pieces_strain/annotations/WIN_20240212_21_38_19_Pro.xml']\n"
          ]
        }
      ]
    },
    {
      "cell_type": "code",
      "source": [
        "import os\n",
        "import shutil\n",
        "\n",
        "# Assuming TRAIN and VALIDATION are your arrays of indices\n",
        "TRAIN = [0, 1, 2, 3, 4, 5, 6, 7, 8, 9, 10, 11, 12, 13, 14, 15, 16, 17, 18, 19, 20, 21, 22, 23, 24, 25, 26, 27, 28, 29, 30, 31, 32, 33, 34, 35, 36, 37, 38, 39, 40, 41, 42, 43, 44, 45, 46, 47, 48, 49, 50, 51, 52, 53, 54, 55, 56, 57, 58, 59, 60, 61, 62, 63, 64, 65, 66, 67, 68, 69, 70, 71, 72, 73, 74, 75, 76, 77, 78, 79, 80, 81, 82, 83, 84, 85, 86, 87, 88, 89, 90, 91, 92, 93, 94, 95, 96, 97, 98, 99, 100, 101, 102, 103, 104, 105, 106, 107, 108, 109, 110, 111, 112, 113, 114, 115, 116, 117, 118, 119, 120, 121, 122, 123, 124, 125, 126, 127, 128, 129, 130, 131, 132, 133, 134, 135, 136, 137, 138, 139, 140, 141, 142, 143, 144, 145, 146, 147, 148, 149, 150, 151, 152, 153, 154, 155, 156, 157, 158, 159, 160, 161, 162, 163, 164, 165, 166, 167, 168, 169, 170, 171, 172, 173, 174, 175, 176, 177, 178, 179, 180, 181, 182, 183, 184, 185, 186, 187, 188, 189, 190, 191, 192, 193, 194, 195, 196, 197, 198, 199, 200, 201, 202, 203, 204, 205, 206, 207, 208, 209, 210, 211, 212, 213, 214, 215, 216, 217, 218, 219, 220, 221, 222, 223, 224, 225, 226, 227, 228, 229, 230, 231, 232, 233, 234, 235, 236, 237, 238, 239, 240, 241, 242, 243, 244, 245, 246, 247, 248, 249, 250, 251, 252, 253, 254, 255, 256, 257, 258, 259, 260, 261, 262, 263, 264, 265, 266, 267, 268, 269, 270, 271, 272, 273, 274, 275, 276, 277, 278, 279, 280, 281, 282, 283, 284, 285, 286, 287, 288, 289, 290, 291, 292, 293, 294, 295, 296, 297, 298, 299, 300, 301, 302, 303, 304, 305, 306, 307, 308, 309, 310, 311, 312, 313, 314, 315, 316, 317, 318, 319, 320, 321, 322, 323, 324, 325, 326, 327, 328, 329, 330, 331, 332, 333, 334, 335, 336, 337, 338, 339, 340, 341, 342, 343, 344, 345, 346, 347, 348, 349, 350, 351, 352, 353, 354, 355, 356, 357, 358, 359, 360, 361, 362, 363, 364, 365, 366, 367, 368, 369, 370, 371, 372, 373, 374, 375, 376, 377, 378, 379, 380, 381, 382, 383, 384, 385, 386, 387, 388, 389, 390, 391, 392, 393, 394, 395, 396, 397, 398, 399, 400, 401, 402, 403, 404, 405, 406, 407, 408, 409, 410, 411, 412, 413, 414, 415, 416, 417, 418, 419, 420, 421, 422, 423, 424, 425, 426, 427, 428, 429, 430, 431, 432, 433, 434, 435, 436, 437, 438, 439, 440, 441, 442, 443, 444, 445, 446, 447, 448, 449, 450, 451, 452, 453, 454, 455, 456, 457, 458, 459, 460, 461, 462, 463, 464, 465, 466, 467, 468, 469, 470, 471, 472, 473, 474, 475, 476, 477, 478, 479, 480, 481, 482, 483, 484, 485, 486, 487, 488, 489, 490, 491, 492, 493, 494, 495, 496, 497, 498, 499, 500, 501, 502, 503, 504, 505, 506, 507, 508, 509, 510, 511, 512, 513, 514, 515, 516, 517, 518, 519, 520, 521, 522, 523, 524, 525, 526, 527, 528, 529, 530, 531, 532, 533, 534, 535, 536, 537, 538, 539, 540, 541, 542, 543, 544, 545, 546, 547, 548, 549, 550, 551, 552, 553, 554, 555, 556, 557, 558, 559, 560, 561, 562, 563, 564, 565, 566, 567, 568, 569, 570, 571, 572, 573, 574, 575, 576, 577, 578, 579, 580, 581, 582, 583, 584, 585, 586, 587, 588, 589, 590, 591, 592, 593, 594, 595, 596, 597, 598, 599, 600, 601, 602, 603, 604, 605, 606, 607, 608, 609, 610, 611, 612, 613, 614, 615, 616, 617, 618, 619, 620, 621, 622, 623, 624, 625, 626, 627, 628, 629, 630, 631, 632, 633, 634, 635, 636, 637, 638, 639, 640, 641, 642, 643, 644, 645, 646, 647, 648, 649, 650, 651, 652, 653, 654, 655, 656, 657, 659, 660, 661, 662, 663, 664, 666, 667, 668, 669, 670, 671, 672, 673, 674, 675, 676, 678, 679, 680, 681, 682, 685, 686, 687, 689, 690, 693, 694, 696, 698, 699, 700, 702, 703, 704, 706, 707, 709, 711, 712, 713, 714, 716, 717, 718, 719, 720, 721, 722, 723, 724, 726, 728, 729, 730, 732, 733, 734, 736, 738, 739, 740, 741, 742, 745, 746, 747, 749, 750, 753, 754, 755, 756, 757, 758, 764, 765, 766, 767, 769, 770, 772, 774, 776, 778, 785, 786, 787, 789, 790, 793, 794, 796, 797, 798, 799, 801, 803, 804, 805, 806, 809, 810, 812, 813, 814, 817, 818, 819, 820, 821, 822, 827, 828, 829, 831, 832, 835, 837, 838, 840, 841, 842, 845, 846, 847, 848, 849, 850, 853, 854, 855, 856, 857, 860, 861, 863, 864, 866, 867, 868, 869, 870, 871, 873, 874, 877, 878, 879, 880, 882, 883, 884, 885, 889, 890, 891, 896, 899, 901, 903, 904, 905, 906, 907, 908, 909, 913, 915, 916, 917, 918, 919, 920, 921, 922, 923, 925, 928, 930, 934, 936, 937, 939, 940, 942, 943, 949, 950, 951, 952, 953, 954, 955, 957, 958, 960, 961, 962, 963, 968, 969, 970, 973, 974, 975, 977, 978, 980, 981, 983, 984, 985, 986, 987, 989, 992, 995, 997, 998, 999, 1000, 1001, 1002, 1003, 1004, 1005, 1006, 1007, 1008, 1009, 1010, 1011, 1012, 1013, 1014, 1015, 1016, 1017, 1018, 1019, 1020, 1021, 1022, 1023, 1024, 1025, 1026, 1027, 1028, 1029, 1030, 1031, 1032, 1033, 1034, 1035, 1036, 1037, 1038, 1039, 1040, 1041, 1042, 1043, 1044, 1045, 1046, 1047, 1048, 1049, 1050, 1051, 1052, 1053, 1054, 1055, 1056, 1057, 1058, 1059, 1060, 1061, 1062, 1063, 1064, 1065, 1066, 1067, 1068, 1069, 1070, 1071, 1072, 1073, 1074, 1075, 1076, 1077, 1078, 1079, 1080, 1081, 1082, 1083, 1084, 1085, 1086, 1087, 1088, 1089, 1090, 1091, 1092, 1093, 1094, 1095, 1096, 1097, 1098, 1099, 1100, 1101, 1102, 1103, 1104, 1105, 1106, 1107, 1108, 1109, 1110, 1111, 1112, 1113, 1114, 1115, 1116, 1117, 1118, 1119, 1120, 1121, 1122, 1123, 1124, 1125, 1126, 1127, 1128, 1129, 1130, 1131, 1132, 1133, 1134, 1135, 1136, 1137, 1138, 1139, 1140, 1141, 1142, 1143, 1144, 1145, 1146, 1147, 1148, 1149, 1150, 1151, 1152, 1153, 1154, 1155, 1156, 1157, 1158, 1159, 1160, 1161, 1162, 1163, 1164, 1165, 1166, 1167, 1168, 1169, 1170, 1171, 1172, 1173, 1174, 1175, 1176, 1177, 1178, 1179, 1180, 1181, 1182, 1183, 1184, 1185, 1186, 1187, 1188, 1189, 1190, 1191, 1192, 1193, 1194, 1195, 1196, 1197, 1198, 1199, 1200, 1201, 1202, 1203, 1204, 1205, 1206, 1207, 1208, 1209, 1210, 1211, 1212, 1213, 1214, 1215, 1216, 1217, 1218, 1219, 1220, 1221, 1222, 1223, 1224, 1225, 1226, 1227, 1228, 1229, 1230, 1231, 1232, 1233, 1234, 1235, 1236, 1237, 1238, 1239, 1240, 1241, 1242, 1243, 1244, 1245, 1246, 1247, 1248, 1249, 1250, 1251, 1252, 1253, 1254, 1255, 1256, 1257, 1258, 1259, 1260, 1261, 1262, 1263, 1264, 1265, 1266, 1267, 1268, 1269, 1270, 1271, 1272, 1273, 1274, 1275, 1276, 1277, 1278, 1279, 1280, 1281, 1282, 1283, 1284, 1285, 1286, 1287, 1288, 1289, 1290, 1291, 1292, 1293, 1294, 1295, 1296, 1297, 1298, 1299, 1300 ]\n",
        "\n",
        "VALIDATE = [658, 665, 677, 683, 684, 688, 691, 692, 695, 697, 701, 705, 708, 710, 715, 725, 727, 731, 735, 737, 743, 744, 748, 751, 752, 759, 760, 761, 762, 763, 768, 771, 773, 775, 777, 779, 780, 781, 782, 783, 784, 788, 791, 792, 795, 800, 802, 807, 808, 811, 815, 816, 823, 824, 825, 826, 830, 833, 834, 836, 839, 843, 844, 851, 852, 858, 859, 862, 865, 872, 875, 876, 881, 886, 887, 888, 892, 893, 894, 895, 897, 898, 900, 902, 910, 911, 912, 914, 924, 926, 927, 929, 931, 932, 933, 935, 938, 941, 944, 945, 946, 947, 948, 956, 959, 964, 965, 966, 967, 971, 972, 976, 979, 982, 988, 990, 991, 993, 994, 996]\n",
        "\n",
        "train_annotation_dir = '/content/drive/MyDrive/Stratified/Stratified_White_Dataset/Train/annotations'\n",
        "val_annotation_dir = '/content/drive/MyDrive/Stratified/Stratified_White_Dataset/Validation/annotations'\n",
        "\n",
        "def copy_ants(indices, source_paths, dest_dir):\n",
        "    for idx in indices:\n",
        "        # Define source and destination paths\n",
        "        src_path = source_paths[idx]\n",
        "        dest_path = os.path.join(dest_dir, os.path.basename(src_path))\n",
        "\n",
        "        # Copy the image\n",
        "        shutil.copy(src_path, dest_path)\n",
        "\n",
        "# Copy annotations from original annotations to train folder\n",
        "copy_ants(TRAIN, annotation_paths, train_annotation_dir)\n",
        "\n",
        "# Copy annotations from original annotations to validate folder\n",
        "copy_ants(VALIDATE, annotation_paths, val_annotation_dir)\n"
      ],
      "metadata": {
        "id": "0tDWf8I1qYET"
      },
      "execution_count": null,
      "outputs": []
    },
    {
      "cell_type": "code",
      "source": [
        "import os\n",
        "import shutil\n",
        "\n",
        "# Paths to the folders\n",
        "images_folder = '/content/drive/MyDrive/images_white_pieces_strain/raw'\n",
        "annotations_folder = '/content/drive/MyDrive/Stratified/Stratified_White_Dataset/Validation/annotations'\n",
        "target_folder = '/content/drive/MyDrive/Stratified/Stratified_White_Dataset/Validation/raw'\n",
        "\n",
        "# Get a sorted list of annotation files\n",
        "annotation_files = sorted([f for f in os.listdir(annotations_folder) if f.endswith('.xml')])\n",
        "\n",
        "# Iterate through sorted annotation files\n",
        "for annotation_file in annotation_files:\n",
        "    # Extract base filename without extension\n",
        "    base_filename = os.path.splitext(annotation_file)[0]\n",
        "\n",
        "    # Check if corresponding image file exists\n",
        "    image_file = os.path.join(images_folder, base_filename + '.jpg')\n",
        "    if os.path.exists(image_file):\n",
        "        # Copy image file to target folder\n",
        "        shutil.copy(image_file, os.path.join(target_folder, base_filename + '.jpg'))\n",
        "\n"
      ],
      "metadata": {
        "id": "YF9VA9oGLREw"
      },
      "execution_count": null,
      "outputs": []
    },
    {
      "cell_type": "markdown",
      "source": [
        "The below function takes a file path to a folder and checks if there are any duplicates in this folder."
      ],
      "metadata": {
        "id": "wOElxOVFVvuV"
      }
    },
    {
      "cell_type": "code",
      "source": [
        "import os\n",
        "\n",
        "def find_duplicates_by_basename(folder_path):\n",
        "    file_dict = {}\n",
        "\n",
        "    for root, dirs, files in os.walk(folder_path):\n",
        "        for file_name in files:\n",
        "            file_path = os.path.join(root, file_name)\n",
        "            base_name = os.path.splitext(file_name)[0]\n",
        "\n",
        "            # Check for duplicates based on base name\n",
        "            if base_name in file_dict:\n",
        "                file_dict[base_name].append(file_path)\n",
        "            else:\n",
        "                file_dict[base_name] = [file_path]\n",
        "\n",
        "    # Filter out non-duplicates\n",
        "    duplicate_files = {k: v for k, v in file_dict.items() if len(v) > 1}\n",
        "\n",
        "    return duplicate_files\n",
        "\n",
        "# Example usage\n",
        "folder_path = '/content/drive/MyDrive/images_white_pieces_strain/annotations/Annotations'\n",
        "duplicates = find_duplicates_by_basename(folder_path)\n",
        "\n",
        "if duplicates:\n",
        "    print(\"Duplicate files found:\")\n",
        "    for base_name, file_paths in duplicates.items():\n",
        "        print(f\"Base Name: {base_name}\")\n",
        "        for file_path in file_paths:\n",
        "            print(f\"- {file_path}\")\n",
        "else:\n",
        "    print(\"No duplicate files found.\")\n",
        "\n"
      ],
      "metadata": {
        "colab": {
          "base_uri": "https://localhost:8080/"
        },
        "id": "SaxrT4WkVFYa",
        "outputId": "e91f90b0-f5c0-4a22-a94a-0a88ad51d369"
      },
      "execution_count": null,
      "outputs": [
        {
          "output_type": "stream",
          "name": "stdout",
          "text": [
            "No duplicate files found.\n"
          ]
        }
      ]
    },
    {
      "cell_type": "code",
      "source": [
        "# CHECKING TO MAKE SURE THE STRATIFIED SPLIT DIDN'T SCREW UP OMGGGGG\n",
        "\n",
        "import os\n",
        "\n",
        "def find_duplicates(folder1, folder2):\n",
        "    # Get list of filenames in each folder\n",
        "    files1 = set(os.listdir(folder1))\n",
        "    files2 = set(os.listdir(folder2))\n",
        "\n",
        "    # Find intersection of filenames (i.e., duplicates)\n",
        "    duplicates = files1.intersection(files2)\n",
        "\n",
        "    return duplicates\n",
        "\n",
        "# Paths to the folders\n",
        "folder1_path = '/content/drive/MyDrive/Stratified_Gray_Dataset/Validation/raw'\n",
        "folder2_path = '/content/drive/MyDrive/Stratified_Gray_Dataset/Train/raw'\n",
        "\n",
        "# Find duplicates\n",
        "duplicates = find_duplicates(folder1_path, folder2_path)\n",
        "\n",
        "# Print the duplicate filenames\n",
        "if duplicates:\n",
        "    print(\"Duplicate files found:\")\n",
        "    for filename in duplicates:\n",
        "        print(filename)\n",
        "else:\n",
        "    print(\"No duplicate files found.\")\n"
      ],
      "metadata": {
        "colab": {
          "base_uri": "https://localhost:8080/"
        },
        "id": "5Mcw_ftFMhxR",
        "outputId": "b2a90fe5-c039-4888-a27c-9116332f4475"
      },
      "execution_count": null,
      "outputs": [
        {
          "output_type": "stream",
          "name": "stdout",
          "text": [
            "No duplicate files found.\n"
          ]
        }
      ]
    },
    {
      "cell_type": "markdown",
      "source": [
        "The below code's output: a folder with all the annotation paths from another folder containing annotations. Pretty much, we can a list of annotation file paths from a folder containing annotations.\n",
        "\n",
        "NEEEEEEEEEEEEEEDED*"
      ],
      "metadata": {
        "id": "Q3ztK6nLyfYH"
      }
    },
    {
      "cell_type": "markdown",
      "source": [
        "Stratification\n",
        "\n",
        "The below code:\n",
        "\n",
        "TAKING THE INDICES POST-STRATIFICATION AND PUTTING THE ORIGINAL ANNOTATIONS\n",
        "INTO THE APPROPRIATE TESTING AND VALIDATION BATCHES\n",
        "\n",
        "Function to copy images to a new directory"
      ],
      "metadata": {
        "id": "ayhtFBdjy5_n"
      }
    },
    {
      "cell_type": "markdown",
      "source": [
        "Stratification:\n",
        "\n",
        "The below code's output: produces the count for how many files are contained in an arbitrary folder."
      ],
      "metadata": {
        "id": "fdCb3tijzPLj"
      }
    },
    {
      "cell_type": "code",
      "source": [
        "# CHECKS WHETHER OR NOT DATA GOT SPLIT BC IM COUNTING HOW MANY IMAGES ARE IN THE\n",
        "# TEST/TRAIN FOLDER(S).\n",
        "import os\n",
        "\n",
        "# Define your source directory containing the images\n",
        "source_dir = '/content/drive/MyDrive/images_white_pieces_strain/annotations'\n",
        "\n",
        "# Initialize a counter\n",
        "image_count = 0\n",
        "\n",
        "# Walk through the source directory to count image files\n",
        "for root, dirs, files in os.walk(source_dir):\n",
        "    for file in files:\n",
        "        if file.lower().endswith(('.jpg', '.jpeg', '.png', '.bmp', '.xml', '.gif')):  # Include other image formats as needed\n",
        "            image_count += 1\n",
        "\n",
        "print(f\"Total number of images in the folder: {image_count}\")\n"
      ],
      "metadata": {
        "colab": {
          "base_uri": "https://localhost:8080/"
        },
        "id": "riHk6t7mbtl9",
        "outputId": "cdf640e4-5433-4d20-9172-fc00300c61af"
      },
      "execution_count": null,
      "outputs": [
        {
          "output_type": "stream",
          "name": "stdout",
          "text": [
            "Total number of images in the folder: 1301\n"
          ]
        }
      ]
    },
    {
      "cell_type": "code",
      "source": [
        "import os\n",
        "\n",
        "def find_mismatched_files(image_folder, annotation_folder):\n",
        "    image_files = [f for f in os.listdir(image_folder) if f.endswith('.jpg')]\n",
        "    annotation_files = [f for f in os.listdir(annotation_folder) if f.endswith('.xml')]\n",
        "\n",
        "    mismatched_image_files = set()\n",
        "    mismatched_xml_files = set()\n",
        "\n",
        "    # Find mismatched files\n",
        "    for image_file in image_files:\n",
        "        xml_file = image_file.replace('.jpg', '.xml')\n",
        "        if xml_file not in annotation_files or not os.path.isfile(os.path.join(annotation_folder, xml_file)):\n",
        "            mismatched_image_files.add(image_file)\n",
        "\n",
        "    for xml_file in annotation_files:\n",
        "        image_file = xml_file.replace('.xml', '.jpg')\n",
        "        if image_file not in image_files or not os.path.isfile(os.path.join(image_folder, image_file)):\n",
        "            mismatched_xml_files.add(xml_file)\n",
        "\n",
        "    return mismatched_image_files, mismatched_xml_files\n",
        "\n",
        "def delete_files(folder, files):\n",
        "    for file in files:\n",
        "        file_path = os.path.join(folder, file)\n",
        "        os.remove(file_path)\n",
        "        print(f\"Deleted: {file_path}\")\n",
        "\n",
        "# Example usage\n",
        "image_folder_path = '/content/drive/MyDrive/Stratified/Stratified_White_Dataset/Validation/raw'\n",
        "annotation_folder_path = '/content/drive/MyDrive/Stratified/Stratified_White_Dataset/Validation/annotations'\n",
        "\n",
        "mismatched_images, mismatched_xmls = find_mismatched_files(image_folder_path, annotation_folder_path)\n",
        "\n",
        "print(\"Mismatched Image Files:\")\n",
        "print(mismatched_images)\n",
        "\n",
        "print(\"\\nMismatched XML Files:\")\n",
        "print(mismatched_xmls)\n",
        "\n",
        "# Delete mismatched files\n",
        "# delete_files(image_folder_path, mismatched_images)\n",
        "# delete_files(annotation_folder_path, mismatched_xmls)\n"
      ],
      "metadata": {
        "colab": {
          "base_uri": "https://localhost:8080/"
        },
        "id": "lF0o5gCMYNoi",
        "outputId": "03229004-a7bc-4216-ce09-cc44dad5fbbd"
      },
      "execution_count": null,
      "outputs": [
        {
          "output_type": "stream",
          "name": "stdout",
          "text": [
            "Mismatched Image Files:\n",
            "set()\n",
            "\n",
            "Mismatched XML Files:\n",
            "set()\n"
          ]
        }
      ]
    },
    {
      "cell_type": "markdown",
      "source": [
        "The below code checks if the indices of files in two folders correspond to the same base file name--we iterate through both folders simultaneously and compare the base names of files at each index."
      ],
      "metadata": {
        "id": "dY1ROGCUd2hX"
      }
    },
    {
      "cell_type": "code",
      "source": [
        "import os\n",
        "\n",
        "def check_corresponding_base_names(folder1, folder2):\n",
        "    files1 = sorted([f for f in os.listdir(folder1) if os.path.isfile(os.path.join(folder1, f))])\n",
        "    files2 = sorted([f for f in os.listdir(folder2) if os.path.isfile(os.path.join(folder2, f))])\n",
        "\n",
        "    if len(files1) != len(files2):\n",
        "        print(\"The number of files in the two folders is different.\")\n",
        "        return\n",
        "\n",
        "    for file1, file2 in zip(files1, files2):\n",
        "        base_name1, ext1 = os.path.splitext(file1)\n",
        "        base_name2, ext2 = os.path.splitext(file2)\n",
        "\n",
        "        if base_name1 != base_name2:\n",
        "            print(f\"Base names do not match at index {files1.index(file1)}:\")\n",
        "            print(f\"{file1} in folder1, {file2} in folder2\")\n",
        "        # else:\n",
        "            # print(f\"Base names match at index {files1.index(file1)}:\")\n",
        "            # print(f\"{file1} in folder1, {file2} in folder2\")\n",
        "\n",
        "# Example usage\n",
        "folder_path1 = '/content/drive/MyDrive/images_white_pieces_strain/raw'\n",
        "folder_path2 = '/content/drive/MyDrive/images_white_pieces_strain/annotations/Annotations'\n",
        "\n",
        "check_corresponding_base_names(folder_path1, folder_path2)\n"
      ],
      "metadata": {
        "id": "oB2dVKVbdj4V"
      },
      "execution_count": null,
      "outputs": []
    },
    {
      "cell_type": "markdown",
      "source": [
        "# Augmentation\n",
        "\n",
        "The below cells attempts to perform image augmentation."
      ],
      "metadata": {
        "id": "hFaSjAl0zdTs"
      }
    },
    {
      "cell_type": "code",
      "source": [
        "# PRE-PROCESSING + AUGMENTATION OF IMAGES\n",
        "# 1. Import necessary libraries\n",
        "import tensorflow as tf\n",
        "from tensorflow.keras.preprocessing.image import ImageDataGenerator\n",
        "import os\n",
        "\n",
        "# LEFT OFF ON https://www.youtube.com/watch?v=WSvpLUietIM"
      ],
      "metadata": {
        "id": "elO9xeDUfI7T"
      },
      "execution_count": null,
      "outputs": []
    },
    {
      "cell_type": "code",
      "source": [
        "# Image dimensions from the XML\n",
        "image_width = 1920\n",
        "image_height = 1080\n",
        "\n",
        "# Normalizing b-pawn bounding box\n",
        "xmin_normalized_pawn = 1377.2 / image_width\n",
        "ymin_normalized_pawn = 86.7 / image_height\n",
        "xmax_normalized_pawn = 1461.31 / image_width\n",
        "ymax_normalized_pawn = 165.9 / image_height\n",
        "\n",
        "# Normalizing board bounding box\n",
        "xmin_normalized_board = 489.2 / image_width\n",
        "ymin_normalized_board = 29.28 / image_height\n",
        "xmax_normalized_board = 1494.71 / image_width\n",
        "ymax_normalized_board = 1035.68 / image_height\n",
        "\n",
        "# Normalized bounding boxes\n",
        "bboxes_normalized = [\n",
        "    [ymin_normalized_pawn, xmin_normalized_pawn, ymax_normalized_pawn, xmax_normalized_pawn],\n",
        "    [ymin_normalized_board, xmin_normalized_board, ymax_normalized_board, xmax_normalized_board]\n",
        "]\n",
        "\n",
        "print(\"Normalized Bounding Boxes:\")\n",
        "print(\"b-pawn:\", bboxes_normalized[0])\n",
        "print(\"board:\", bboxes_normalized[1])\n"
      ],
      "metadata": {
        "colab": {
          "base_uri": "https://localhost:8080/"
        },
        "id": "A8-55Z0_mH62",
        "outputId": "e67c50d9-9ba1-479c-b0f2-fa634264bc9e"
      },
      "execution_count": null,
      "outputs": [
        {
          "output_type": "stream",
          "name": "stdout",
          "text": [
            "Normalized Bounding Boxes:\n",
            "b-pawn: [0.08027777777777778, 0.7172916666666667, 0.15361111111111111, 0.7610989583333333]\n",
            "board: [0.027111111111111114, 0.25479166666666664, 0.958962962962963, 0.7784947916666667]\n"
          ]
        }
      ]
    },
    {
      "cell_type": "code",
      "source": [
        "# 2. Setup Directories\n",
        "bbox = bboxes_normalized\n",
        "bbox_tensor = tf.convert_to_tensor(bbox, dtype=tf.float32)\n",
        "\n",
        "\n",
        "# Example of loading an image with TensorFlow\n",
        "image_path = '/content/drive/MyDrive/images_gray_pieces_strain/raw/WIN_20240221_19_01_10_Pro.jpg'\n",
        "image = tf.io.read_file(image_path)\n",
        "image = tf.image.decode_jpeg(image, channels=3)  # Ensure 'channels=3' for RGB images\n"
      ],
      "metadata": {
        "id": "hVFTT-VCg-uR"
      },
      "execution_count": null,
      "outputs": []
    },
    {
      "cell_type": "code",
      "source": [
        "# Practice flipping horizontally\n",
        "def flip_image_horizontal(image, bbox):\n",
        "    flipped_image = tf.image.flip_left_right(image)\n",
        "    # Adjust bounding box for horizontal flip\n",
        "    # [y_min, x_min, y_max, x_max] -> [y_min, 1 - x_max, y_max, 1 - x_min]\n",
        "    flipped_bbox = tf.stack([bbox[:, 0], 1 - bbox[:, 3], bbox[:, 2], 1 - bbox[:, 1]], axis=-1)\n",
        "    return flipped_image, flipped_bbox"
      ],
      "metadata": {
        "id": "84t2Yx86hH_B"
      },
      "execution_count": null,
      "outputs": []
    },
    {
      "cell_type": "code",
      "source": [
        "flipped_image, flipped_bboxes = flip_image_horizontal(image, bbox_tensor)\n",
        "\n",
        "print(flipped_image)"
      ],
      "metadata": {
        "colab": {
          "base_uri": "https://localhost:8080/"
        },
        "id": "mLslcDPjmSVO",
        "outputId": "f49797be-c7bc-4905-b3e7-4fd5a7e3dae8"
      },
      "execution_count": null,
      "outputs": [
        {
          "output_type": "stream",
          "name": "stdout",
          "text": [
            "tf.Tensor(\n",
            "[[[ 0  2  1]\n",
            "  [ 0  2  1]\n",
            "  [ 0  2  1]\n",
            "  ...\n",
            "  [76 90 90]\n",
            "  [76 92 89]\n",
            "  [77 93 90]]\n",
            "\n",
            " [[ 0  2  1]\n",
            "  [ 0  2  1]\n",
            "  [ 0  2  1]\n",
            "  ...\n",
            "  [76 90 90]\n",
            "  [75 91 88]\n",
            "  [75 91 88]]\n",
            "\n",
            " [[ 0  2  1]\n",
            "  [ 0  2  1]\n",
            "  [ 0  2  1]\n",
            "  ...\n",
            "  [75 91 88]\n",
            "  [74 90 87]\n",
            "  [74 90 87]]\n",
            "\n",
            " ...\n",
            "\n",
            " [[53 68 63]\n",
            "  [53 68 63]\n",
            "  [53 70 64]\n",
            "  ...\n",
            "  [59 78 76]\n",
            "  [57 77 75]\n",
            "  [57 77 75]]\n",
            "\n",
            " [[53 70 64]\n",
            "  [53 70 64]\n",
            "  [52 71 65]\n",
            "  ...\n",
            "  [57 76 74]\n",
            "  [55 75 73]\n",
            "  [55 75 73]]\n",
            "\n",
            " [[54 71 65]\n",
            "  [54 71 65]\n",
            "  [52 71 65]\n",
            "  ...\n",
            "  [56 75 73]\n",
            "  [54 74 72]\n",
            "  [54 74 72]]], shape=(1080, 1920, 3), dtype=uint8)\n"
          ]
        }
      ]
    },
    {
      "cell_type": "markdown",
      "source": [
        "# Importing dataset which has already been split.\n",
        "\n",
        "The below code assumes that we have already performed stratification for data splitting."
      ],
      "metadata": {
        "id": "2v_lL59VzuO0"
      }
    },
    {
      "cell_type": "code",
      "source": [
        "# Purpose:\n",
        "# This command installs the Roboflow package, a tool that helps in managing,\n",
        "# preprocessing, and augmenting datasets for machine learning, especially for\n",
        "# computer vision tasks.\n",
        "#!pip install roboflow\n",
        "\n",
        "# Imports the Roboflow library into the Python environment.\n",
        "# from roboflow import Roboflow\n",
        "# # Initializes the Roboflow object with an API key, allowing authenticated access\n",
        "# # to your Roboflow account and its functionalities.\n",
        "# rf = Roboflow(api_key=\"PpFunxi8rDrNKv1MlsLN\")\n",
        "# # Selects a specific project within a workspace. In this case, the project is\n",
        "# # presumably related to chess piece images, which would be used for training the\n",
        "# # model.\n",
        "# THE FOLLOWING CODE IMPORTS THE PROCESSED DATA TO BE ABLE TO RUN INFERENCE\n",
        "\n",
        "# Import already-curated dataset of chess images\n",
        "\n",
        "!mkdir {HOME}/datasets\n",
        "%cd {HOME}/datasets\n",
        "# !pip install roboflow\n",
        "\n",
        "# from roboflow import Roboflow\n",
        "# rf = Roboflow(api_key=\"Q8STLvZqQ864nfFT4e7U\")\n",
        "# project = rf.workspace(\"senior-project-vwmvt\").project(\"chess-detection-arsbp\")\n",
        "# version = project.version(3)\n",
        "# dataset = version.download(\"yolov8\")\n",
        "\n",
        "!pip install roboflow\n",
        "\n",
        "from roboflow import Roboflow\n",
        "rf = Roboflow(api_key=\"Q8STLvZqQ864nfFT4e7U\")\n",
        "project = rf.workspace(\"senior-project-vwmvt\").project(\"random-chess-detection\")\n",
        "version = project.version(1)\n",
        "dataset = version.download(\"yolov8\")\n",
        "\n",
        "\n"
      ],
      "metadata": {
        "colab": {
          "base_uri": "https://localhost:8080/"
        },
        "id": "9ykQ_AjA5-9M",
        "outputId": "b21d9505-f286-4a55-ab7a-7e5503b9c6dc"
      },
      "execution_count": null,
      "outputs": [
        {
          "output_type": "stream",
          "name": "stdout",
          "text": [
            "mkdir: cannot create directory ‘{HOME}/datasets’: No such file or directory\n",
            "[Errno 2] No such file or directory: '{HOME}/datasets'\n",
            "/content\n",
            "Requirement already satisfied: roboflow in /usr/local/lib/python3.10/dist-packages (1.1.21)\n",
            "Requirement already satisfied: certifi==2023.7.22 in /usr/local/lib/python3.10/dist-packages (from roboflow) (2023.7.22)\n",
            "Requirement already satisfied: chardet==4.0.0 in /usr/local/lib/python3.10/dist-packages (from roboflow) (4.0.0)\n",
            "Requirement already satisfied: cycler==0.10.0 in /usr/local/lib/python3.10/dist-packages (from roboflow) (0.10.0)\n",
            "Requirement already satisfied: idna==2.10 in /usr/local/lib/python3.10/dist-packages (from roboflow) (2.10)\n",
            "Requirement already satisfied: kiwisolver>=1.3.1 in /usr/local/lib/python3.10/dist-packages (from roboflow) (1.4.5)\n",
            "Requirement already satisfied: matplotlib in /usr/local/lib/python3.10/dist-packages (from roboflow) (3.7.1)\n",
            "Requirement already satisfied: numpy>=1.18.5 in /usr/local/lib/python3.10/dist-packages (from roboflow) (1.25.2)\n",
            "Requirement already satisfied: opencv-python-headless==4.8.0.74 in /usr/local/lib/python3.10/dist-packages (from roboflow) (4.8.0.74)\n",
            "Requirement already satisfied: Pillow>=7.1.2 in /usr/local/lib/python3.10/dist-packages (from roboflow) (9.4.0)\n",
            "Requirement already satisfied: python-dateutil in /usr/local/lib/python3.10/dist-packages (from roboflow) (2.8.2)\n",
            "Requirement already satisfied: python-dotenv in /usr/local/lib/python3.10/dist-packages (from roboflow) (1.0.1)\n",
            "Requirement already satisfied: requests in /usr/local/lib/python3.10/dist-packages (from roboflow) (2.31.0)\n",
            "Requirement already satisfied: six in /usr/local/lib/python3.10/dist-packages (from roboflow) (1.16.0)\n",
            "Requirement already satisfied: supervision in /usr/local/lib/python3.10/dist-packages (from roboflow) (0.18.0)\n",
            "Requirement already satisfied: urllib3>=1.26.6 in /usr/local/lib/python3.10/dist-packages (from roboflow) (2.0.7)\n",
            "Requirement already satisfied: tqdm>=4.41.0 in /usr/local/lib/python3.10/dist-packages (from roboflow) (4.66.2)\n",
            "Requirement already satisfied: PyYAML>=5.3.1 in /usr/local/lib/python3.10/dist-packages (from roboflow) (6.0.1)\n",
            "Requirement already satisfied: requests-toolbelt in /usr/local/lib/python3.10/dist-packages (from roboflow) (1.0.0)\n",
            "Requirement already satisfied: python-magic in /usr/local/lib/python3.10/dist-packages (from roboflow) (0.4.27)\n",
            "Requirement already satisfied: contourpy>=1.0.1 in /usr/local/lib/python3.10/dist-packages (from matplotlib->roboflow) (1.2.0)\n",
            "Requirement already satisfied: fonttools>=4.22.0 in /usr/local/lib/python3.10/dist-packages (from matplotlib->roboflow) (4.49.0)\n",
            "Requirement already satisfied: packaging>=20.0 in /usr/local/lib/python3.10/dist-packages (from matplotlib->roboflow) (23.2)\n",
            "Requirement already satisfied: pyparsing>=2.3.1 in /usr/local/lib/python3.10/dist-packages (from matplotlib->roboflow) (3.1.1)\n",
            "Requirement already satisfied: charset-normalizer<4,>=2 in /usr/local/lib/python3.10/dist-packages (from requests->roboflow) (3.3.2)\n",
            "Requirement already satisfied: defusedxml<0.8.0,>=0.7.1 in /usr/local/lib/python3.10/dist-packages (from supervision->roboflow) (0.7.1)\n",
            "Requirement already satisfied: scipy<2.0.0,>=1.10.0 in /usr/local/lib/python3.10/dist-packages (from supervision->roboflow) (1.11.4)\n",
            "loading Roboflow workspace...\n",
            "loading Roboflow project...\n",
            "Dependency ultralytics==8.0.196 is required but found version=8.1.23, to fix: `pip install ultralytics==8.0.196`\n"
          ]
        },
        {
          "output_type": "stream",
          "name": "stderr",
          "text": [
            "Downloading Dataset Version Zip in random-chess-detection-1 to yolov8:: 100%|██████████| 1085800/1085800 [00:18<00:00, 58756.38it/s]"
          ]
        },
        {
          "output_type": "stream",
          "name": "stdout",
          "text": [
            "\n"
          ]
        },
        {
          "output_type": "stream",
          "name": "stderr",
          "text": [
            "\n",
            "Extracting Dataset Version Zip to random-chess-detection-1 in yolov8:: 100%|██████████| 16497/16497 [00:05<00:00, 2850.84it/s]\n"
          ]
        }
      ]
    },
    {
      "cell_type": "markdown",
      "source": [
        "# Checking frequency of classes among batches\n",
        "\n",
        "The below code's output: logic to see the frequency of how many times an class appears in an image. so\n",
        "if a there are two queens that show up in an image, it will only mark this\n",
        "queen showing up once for this image."
      ],
      "metadata": {
        "id": "0iuC4gq10BKv"
      }
    },
    {
      "cell_type": "code",
      "source": [
        "import xml.etree.ElementTree as ET\n",
        "import glob\n",
        "\n",
        "# Function to parse a single XML file and return classes present\n",
        "def parse_xml_file(file_path):\n",
        "    tree = ET.parse(file_path)\n",
        "    root = tree.getroot()\n",
        "    classes_present = set()  # Use a set to store unique class names present in the file\n",
        "    for obj in root.findall('object'):\n",
        "        class_name = obj.find('name').text\n",
        "        classes_present.add(class_name)\n",
        "    return classes_present\n",
        "\n",
        "# Initialize a dictionary to store the count of images each class appears in\n",
        "class_image_count = {}\n",
        "\n",
        "# List all XML files in the folder\n",
        "xml_files = glob.glob('/content/drive/MyDrive/images_gray_pieces_strain/annotations/Annotations/*.xml')\n",
        "\n",
        "# Iterate over each XML file\n",
        "for file_path in xml_files:\n",
        "    classes_present = parse_xml_file(file_path)\n",
        "    for class_name in classes_present:\n",
        "        if class_name not in class_image_count:\n",
        "            class_image_count[class_name] = 0\n",
        "        class_image_count[class_name] += 1\n",
        "\n",
        "# Print the number of images each class appears in\n",
        "for class_name, count in class_image_count.items():\n",
        "    print(f\"{class_name}: freq. {count}\")\n"
      ],
      "metadata": {
        "colab": {
          "base_uri": "https://localhost:8080/"
        },
        "id": "va4QPDr-L4Hx",
        "outputId": "cad9c6b0-2abd-42bb-d4e0-51ef0e1ddcf0"
      },
      "execution_count": null,
      "outputs": [
        {
          "output_type": "stream",
          "name": "stdout",
          "text": [
            "board: freq. 1100\n",
            "b-king: freq. 301\n",
            "b-pawn: freq. 299\n",
            "b-knight: freq. 419\n",
            "b-queen: freq. 260\n",
            "b-rook: freq. 339\n",
            "b-bishop: freq. 388\n"
          ]
        }
      ]
    },
    {
      "cell_type": "markdown",
      "source": [
        "The below code counts the TOTAL frequencies of each type of chess piece within an image. So, if there are 12 pawns in an image, the frequency would be 12 pawns for this image. This is different than our last code block--because our last code block counts the frequency if a class is present within an image. So the last code block's logic would count 1 frequency of a pawn within an image, even if there were 12 pawns present.\n",
        "\n",
        "HERE IS THE FUNCTION TO PARSE THE FOLDER OF .XML FILES TO DETERMINE THE FREQUENCIES OF TYPES OF CHESS PIECES ACROSS ALL IMAGES."
      ],
      "metadata": {
        "id": "dwvx680y0a2A"
      }
    },
    {
      "cell_type": "code",
      "source": [
        "# HERE IS THE FUNCTION TO PARSE THE FOLDER OF .XML FILES TO DETERMINE THE\n",
        "# FREQUENCIES OF TYPES OF CHESS PIECES ACROSS ALL IMAGES.\n",
        "\n",
        "import xml.etree.ElementTree as ET\n",
        "import glob\n",
        "\n",
        "# Function to parse a single XML file and update total class frequencies\n",
        "def update_class_frequencies_from_file(file_path, class_frequencies):\n",
        "    # Parse the XML file\n",
        "    tree = ET.parse(file_path)\n",
        "    root = tree.getroot()\n",
        "\n",
        "    # Update class frequencies based on this file\n",
        "    for obj in root.findall('object'):\n",
        "        class_name = obj.find('name').text\n",
        "        if class_name not in class_frequencies:\n",
        "            class_frequencies[class_name] = 0\n",
        "        class_frequencies[class_name] += 1\n",
        "\n",
        "# Initialize a dictionary to store the total occurrences of each class across all images\n",
        "total_class_frequencies = {}\n",
        "\n",
        "# List all XML files in the folder\n",
        "xml_files = glob.glob('/content/drive/MyDrive/images_white_pieces_strain/second_half_strain_images/annotations_second_half_whites/Annotations/*.xml')\n",
        "\n",
        "# Iterate over each XML file and update class frequencies\n",
        "for file_path in xml_files:\n",
        "    update_class_frequencies_from_file(file_path, total_class_frequencies)\n",
        "\n",
        "# Print the total occurrences of each class across all images\n",
        "for class_name, frequency in total_class_frequencies.items():\n",
        "    print(f\"{class_name}: freq. {frequency}\")\n"
      ],
      "metadata": {
        "colab": {
          "base_uri": "https://localhost:8080/"
        },
        "id": "TbsEwn4YM5PI",
        "outputId": "eb817c87-7252-40bc-ec08-d956c3e62aa1"
      },
      "execution_count": null,
      "outputs": [
        {
          "output_type": "stream",
          "name": "stdout",
          "text": [
            "board: freq. 352\n",
            "white-pawn: freq. 1242\n",
            "white-rook: freq. 369\n",
            "white-bishop: freq. 317\n",
            "white-knight: freq. 370\n",
            "white-king: freq. 178\n",
            "white-queen: freq. 184\n"
          ]
        }
      ]
    },
    {
      "cell_type": "markdown",
      "source": [
        "The below code's output: reuses the previous function for counting frequency. Specify which folder, batch, you want to use"
      ],
      "metadata": {
        "id": "IWPBvtY32KG7"
      }
    },
    {
      "cell_type": "code",
      "source": [
        "# Initialize a dictionary to store the total occurrences of each class across all images\n",
        "# within val and train batches\n",
        "val_total_class_frequencies = {}\n",
        "train_total_class_frequencies = {}\n",
        "\n",
        "# List all XML files in the folder\n",
        "# looking at batch distribution to see if stratification worked.\n",
        "# TEST batch\n",
        "print(\"VAL batch\\n\")\n",
        "xml_files = glob.glob('/content/drive/MyDrive/Dataset/test/annotations/*.xml')\n",
        "# Iterate over each XML file and update class frequencies\n",
        "for file_path in xml_files:\n",
        "    update_class_frequencies_from_file(file_path, val_total_class_frequencies)\n",
        "\n",
        "# Print the total occurrences of each class across all images\n",
        "for class_name, frequency in val_total_class_frequencies.items():\n",
        "    print(f\"{class_name}: freq. {frequency}\")\n",
        "\n",
        "print(\"\\nTRAIN batch\\n\")\n",
        "train_xml_files = glob.glob('/content/drive/MyDrive/Dataset/train/annotations/*.xml')\n",
        "# Iterate over each XML file and update class frequencies\n",
        "for file_path in train_xml_files:\n",
        "    update_class_frequencies_from_file(file_path, train_total_class_frequencies)\n",
        "\n",
        "# Print the total occurrences of each class across all images\n",
        "for class_name, frequency in train_total_class_frequencies.items():\n",
        "    print(f\"{class_name}: freq. {frequency}\")\n"
      ],
      "metadata": {
        "colab": {
          "base_uri": "https://localhost:8080/",
          "height": 252
        },
        "id": "uiF9nI-SN-QQ",
        "outputId": "78d9865c-e330-48e3-819f-57010d10d227"
      },
      "execution_count": null,
      "outputs": [
        {
          "output_type": "stream",
          "name": "stdout",
          "text": [
            "VAL batch\n",
            "\n"
          ]
        },
        {
          "output_type": "error",
          "ename": "NameError",
          "evalue": "name 'glob' is not defined",
          "traceback": [
            "\u001b[0;31m---------------------------------------------------------------------------\u001b[0m",
            "\u001b[0;31mNameError\u001b[0m                                 Traceback (most recent call last)",
            "\u001b[0;32m<ipython-input-9-2268b2ddb077>\u001b[0m in \u001b[0;36m<cell line: 10>\u001b[0;34m()\u001b[0m\n\u001b[1;32m      8\u001b[0m \u001b[0;31m# TEST batch\u001b[0m\u001b[0;34m\u001b[0m\u001b[0;34m\u001b[0m\u001b[0m\n\u001b[1;32m      9\u001b[0m \u001b[0mprint\u001b[0m\u001b[0;34m(\u001b[0m\u001b[0;34m\"VAL batch\\n\"\u001b[0m\u001b[0;34m)\u001b[0m\u001b[0;34m\u001b[0m\u001b[0;34m\u001b[0m\u001b[0m\n\u001b[0;32m---> 10\u001b[0;31m \u001b[0mxml_files\u001b[0m \u001b[0;34m=\u001b[0m \u001b[0mglob\u001b[0m\u001b[0;34m.\u001b[0m\u001b[0mglob\u001b[0m\u001b[0;34m(\u001b[0m\u001b[0;34m'/content/drive/MyDrive/Dataset/test/annotations/*.xml'\u001b[0m\u001b[0;34m)\u001b[0m\u001b[0;34m\u001b[0m\u001b[0;34m\u001b[0m\u001b[0m\n\u001b[0m\u001b[1;32m     11\u001b[0m \u001b[0;31m# Iterate over each XML file and update class frequencies\u001b[0m\u001b[0;34m\u001b[0m\u001b[0;34m\u001b[0m\u001b[0m\n\u001b[1;32m     12\u001b[0m \u001b[0;32mfor\u001b[0m \u001b[0mfile_path\u001b[0m \u001b[0;32min\u001b[0m \u001b[0mxml_files\u001b[0m\u001b[0;34m:\u001b[0m\u001b[0;34m\u001b[0m\u001b[0;34m\u001b[0m\u001b[0m\n",
            "\u001b[0;31mNameError\u001b[0m: name 'glob' is not defined"
          ]
        }
      ]
    },
    {
      "cell_type": "markdown",
      "source": [
        "## Calculating weights based off frequencies\n",
        "\n",
        "Given a dictionary of frequencies, we can determine how much we should weigh certain classes when we train the model"
      ],
      "metadata": {
        "id": "ZnDpupOI2oio"
      }
    },
    {
      "cell_type": "code",
      "source": [
        "# GET CLASS WEIGHTS\n",
        "\n",
        "class_frequencies = {\n",
        "    'white-bishop': 859,\n",
        "    'white-pawn': 1242,\n",
        "    'white-rook': 369,\n",
        "    'white-knight': 402,\n",
        "    'white-king': 510,\n",
        "    'white-queen': 304,\n",
        "}\n",
        "\n",
        "# Calculate weights (example using inverse frequency)\n",
        "total = sum(class_frequencies.values())\n",
        "class_weights = {k: total / v for k, v in class_frequencies.items()}\n",
        "\n",
        "# Normalize weights to make the smallest weight 1 (optional)\n",
        "min_weight = min(class_weights.values())\n",
        "class_weights_normalized = {k: v / min_weight for k, v in class_weights.items()}\n",
        "\n",
        "print(class_weights_normalized)\n"
      ],
      "metadata": {
        "colab": {
          "base_uri": "https://localhost:8080/"
        },
        "id": "pNRFXg0WQOoh",
        "outputId": "ed32164a-6d5c-4cce-8b60-57656eb7d5d8"
      },
      "execution_count": null,
      "outputs": [
        {
          "output_type": "stream",
          "name": "stdout",
          "text": [
            "{'white-bishop': 1.4458672875436553, 'white-pawn': 1.0, 'white-rook': 3.3658536585365857, 'white-knight': 3.08955223880597, 'white-king': 2.435294117647059, 'white-queen': 4.0855263157894735}\n"
          ]
        }
      ]
    },
    {
      "cell_type": "markdown",
      "source": [
        "# Training the  model\n",
        "Deep learning library, Ultralytics, provides a CLI for custom training/fine-\n",
        "tuning this object detection model.\n",
        "\n",
        "\"yolo!\" command is a shell command that a part of a larger system for running\n",
        "YOLO tasks. It's not a standard command in common environments but likely\n",
        "relates to a custom or extended script or toolkit designed to work with YOLO\n",
        "models. The parameters specify how the model should be trained:\n",
        "\n",
        "task=detect: Indicates that the task is object detection. YOLO models are\n",
        "primarily used for detecting objects within images, specifying their\n",
        "categories and bounding boxes.\n",
        "mode=train: Sets the mode to training, meaning the model will learn from the\n",
        "provided dataset rather than performing inference (detection) on new images.\n",
        "model=yolov8s.pt: Specifies the model file to be used or fine-tuned.\n",
        "yolov8s.pt suggests a YOLOv8 small variant model, which is a pre-trained model\n",
        "file. The .pt extension indicates a PyTorch model.\n",
        "data={dataset.location}/data.yaml: Points to the dataset's configuration file,\n",
        "which includes paths to the images, labels, and other important information\n",
        "for training. {dataset.location} is a placeholder that gets replaced with the\n",
        "actual location of the downloaded dataset.\n",
        "epochs=25: Specifies the number of training epochs, which is the number of\n",
        "times the entire dataset will be passed through the network. More epochs can\n",
        "lead to better learning but also a higher risk of overfitting.\n",
        "imgsz=800: Sets the image size to 800 pixels for training, which is a\n",
        "parameter for resizing the input images to maintain consistency.\n",
        "plots=True: enables the generation of plots or graphs to visualize\n",
        "aspects of the training process, such as loss metrics or accuracy over time."
      ],
      "metadata": {
        "id": "AKtKKLtO3M9K"
      }
    },
    {
      "cell_type": "code",
      "source": [
        "!yolo task=detect mode=train model=yolov8s.pt data={dataset.location}/data.yaml epochs=25 imgsz=800 plots=True project=/content/drive/MyDrive/saved\n",
        "# trained second half white images on the existing whites.pt you saved.\n",
        "#!yolo task=detect mode=train model=/content/drive/MyDrive/saved/train2/weights/whites.pt data={dataset.location}/data.yaml epochs=25 imgsz=800 plots=True project=/content/drive/MyDrive/saved\n",
        "\n"
      ],
      "metadata": {
        "colab": {
          "base_uri": "https://localhost:8080/"
        },
        "id": "dhjhKlBfU93Z",
        "outputId": "fb3025af-baed-4f9d-c9b7-b1069f6129ea"
      },
      "execution_count": null,
      "outputs": [
        {
          "output_type": "stream",
          "name": "stdout",
          "text": [
            "Downloading https://github.com/ultralytics/assets/releases/download/v8.1.0/yolov8s.pt to 'yolov8s.pt'...\n",
            "100% 21.5M/21.5M [00:00<00:00, 169MB/s]\n",
            "Ultralytics YOLOv8.1.23 🚀 Python-3.10.12 torch-2.1.0+cu121 CUDA:0 (Tesla T4, 15102MiB)\n",
            "\u001b[34m\u001b[1mengine/trainer: \u001b[0mtask=detect, mode=train, model=yolov8s.pt, data=/content/random-chess-detection-1/data.yaml, epochs=25, time=None, patience=100, batch=16, imgsz=800, save=True, save_period=-1, cache=False, device=None, workers=8, project=/content/drive/MyDrive/saved, name=train, exist_ok=False, pretrained=True, optimizer=auto, verbose=True, seed=0, deterministic=True, single_cls=False, rect=False, cos_lr=False, close_mosaic=10, resume=False, amp=True, fraction=1.0, profile=False, freeze=None, multi_scale=False, overlap_mask=True, mask_ratio=4, dropout=0.0, val=True, split=val, save_json=False, save_hybrid=False, conf=None, iou=0.7, max_det=300, half=False, dnn=False, plots=True, source=None, vid_stride=1, stream_buffer=False, visualize=False, augment=False, agnostic_nms=False, classes=None, retina_masks=False, embed=None, show=False, save_frames=False, save_txt=False, save_conf=False, save_crop=False, show_labels=True, show_conf=True, show_boxes=True, line_width=None, format=torchscript, keras=False, optimize=False, int8=False, dynamic=False, simplify=False, opset=None, workspace=4, nms=False, lr0=0.01, lrf=0.01, momentum=0.937, weight_decay=0.0005, warmup_epochs=3.0, warmup_momentum=0.8, warmup_bias_lr=0.1, box=7.5, cls=0.5, dfl=1.5, pose=12.0, kobj=1.0, label_smoothing=0.0, nbs=64, hsv_h=0.015, hsv_s=0.7, hsv_v=0.4, degrees=0.0, translate=0.1, scale=0.5, shear=0.0, perspective=0.0, flipud=0.0, fliplr=0.5, mosaic=1.0, mixup=0.0, copy_paste=0.0, auto_augment=randaugment, erasing=0.4, crop_fraction=1.0, cfg=None, tracker=botsort.yaml, save_dir=/content/drive/MyDrive/saved/train\n",
            "Downloading https://ultralytics.com/assets/Arial.ttf to '/root/.config/Ultralytics/Arial.ttf'...\n",
            "100% 755k/755k [00:00<00:00, 17.1MB/s]\n",
            "2024-03-05 05:06:00.230837: E external/local_xla/xla/stream_executor/cuda/cuda_dnn.cc:9261] Unable to register cuDNN factory: Attempting to register factory for plugin cuDNN when one has already been registered\n",
            "2024-03-05 05:06:00.230923: E external/local_xla/xla/stream_executor/cuda/cuda_fft.cc:607] Unable to register cuFFT factory: Attempting to register factory for plugin cuFFT when one has already been registered\n",
            "2024-03-05 05:06:00.232316: E external/local_xla/xla/stream_executor/cuda/cuda_blas.cc:1515] Unable to register cuBLAS factory: Attempting to register factory for plugin cuBLAS when one has already been registered\n",
            "Overriding model.yaml nc=80 with nc=13\n",
            "\n",
            "                   from  n    params  module                                       arguments                     \n",
            "  0                  -1  1       928  ultralytics.nn.modules.conv.Conv             [3, 32, 3, 2]                 \n",
            "  1                  -1  1     18560  ultralytics.nn.modules.conv.Conv             [32, 64, 3, 2]                \n",
            "  2                  -1  1     29056  ultralytics.nn.modules.block.C2f             [64, 64, 1, True]             \n",
            "  3                  -1  1     73984  ultralytics.nn.modules.conv.Conv             [64, 128, 3, 2]               \n",
            "  4                  -1  2    197632  ultralytics.nn.modules.block.C2f             [128, 128, 2, True]           \n",
            "  5                  -1  1    295424  ultralytics.nn.modules.conv.Conv             [128, 256, 3, 2]              \n",
            "  6                  -1  2    788480  ultralytics.nn.modules.block.C2f             [256, 256, 2, True]           \n",
            "  7                  -1  1   1180672  ultralytics.nn.modules.conv.Conv             [256, 512, 3, 2]              \n",
            "  8                  -1  1   1838080  ultralytics.nn.modules.block.C2f             [512, 512, 1, True]           \n",
            "  9                  -1  1    656896  ultralytics.nn.modules.block.SPPF            [512, 512, 5]                 \n",
            " 10                  -1  1         0  torch.nn.modules.upsampling.Upsample         [None, 2, 'nearest']          \n",
            " 11             [-1, 6]  1         0  ultralytics.nn.modules.conv.Concat           [1]                           \n",
            " 12                  -1  1    591360  ultralytics.nn.modules.block.C2f             [768, 256, 1]                 \n",
            " 13                  -1  1         0  torch.nn.modules.upsampling.Upsample         [None, 2, 'nearest']          \n",
            " 14             [-1, 4]  1         0  ultralytics.nn.modules.conv.Concat           [1]                           \n",
            " 15                  -1  1    148224  ultralytics.nn.modules.block.C2f             [384, 128, 1]                 \n",
            " 16                  -1  1    147712  ultralytics.nn.modules.conv.Conv             [128, 128, 3, 2]              \n",
            " 17            [-1, 12]  1         0  ultralytics.nn.modules.conv.Concat           [1]                           \n",
            " 18                  -1  1    493056  ultralytics.nn.modules.block.C2f             [384, 256, 1]                 \n",
            " 19                  -1  1    590336  ultralytics.nn.modules.conv.Conv             [256, 256, 3, 2]              \n",
            " 20             [-1, 9]  1         0  ultralytics.nn.modules.conv.Concat           [1]                           \n",
            " 21                  -1  1   1969152  ultralytics.nn.modules.block.C2f             [768, 512, 1]                 \n",
            " 22        [15, 18, 21]  1   2121079  ultralytics.nn.modules.head.Detect           [13, [128, 256, 512]]         \n",
            "Model summary: 225 layers, 11140631 parameters, 11140615 gradients, 28.7 GFLOPs\n",
            "\n",
            "Transferred 349/355 items from pretrained weights\n",
            "\u001b[34m\u001b[1mTensorBoard: \u001b[0mStart with 'tensorboard --logdir /content/drive/MyDrive/saved/train', view at http://localhost:6006/\n",
            "Freezing layer 'model.22.dfl.conv.weight'\n",
            "\u001b[34m\u001b[1mAMP: \u001b[0mrunning Automatic Mixed Precision (AMP) checks with YOLOv8n...\n",
            "Downloading https://github.com/ultralytics/assets/releases/download/v8.1.0/yolov8n.pt to 'yolov8n.pt'...\n",
            "100% 6.23M/6.23M [00:00<00:00, 83.3MB/s]\n",
            "\u001b[34m\u001b[1mAMP: \u001b[0mchecks passed ✅\n",
            "\u001b[34m\u001b[1mtrain: \u001b[0mScanning /content/random-chess-detection-1/train/labels... 7609 images, 0 backgrounds, 0 corrupt: 100% 7609/7609 [00:03<00:00, 1948.27it/s]\n",
            "\u001b[34m\u001b[1mtrain: \u001b[0mWARNING ⚠️ /content/random-chess-detection-1/train/images/WIN_20240207_20_38_45_Pro_jpg.rf.0e6851e5f97b7b8ab678070c574fc7d3.jpg: 1 duplicate labels removed\n",
            "\u001b[34m\u001b[1mtrain: \u001b[0mWARNING ⚠️ /content/random-chess-detection-1/train/images/WIN_20240207_20_38_45_Pro_jpg.rf.a8e83d028fd7eae3395bf1733151ea0e.jpg: 1 duplicate labels removed\n",
            "\u001b[34m\u001b[1mtrain: \u001b[0mWARNING ⚠️ /content/random-chess-detection-1/train/images/WIN_20240207_20_38_45_Pro_jpg.rf.fd73d906a63c78cb7d7cc9cf0e256c25.jpg: 1 duplicate labels removed\n",
            "\u001b[34m\u001b[1mtrain: \u001b[0mWARNING ⚠️ /content/random-chess-detection-1/train/images/WIN_20240212_21_28_17_Pro_jpg.rf.075d5066d4ac10e9223f16d89c21c0d9.jpg: 1 duplicate labels removed\n",
            "\u001b[34m\u001b[1mtrain: \u001b[0mWARNING ⚠️ /content/random-chess-detection-1/train/images/WIN_20240212_21_28_17_Pro_jpg.rf.0d0fd4a09b7001db2a1f1e472260d3c8.jpg: 1 duplicate labels removed\n",
            "\u001b[34m\u001b[1mtrain: \u001b[0mWARNING ⚠️ /content/random-chess-detection-1/train/images/WIN_20240212_21_28_17_Pro_jpg.rf.cf1fa0595c25cb822e9191357aaddf52.jpg: 1 duplicate labels removed\n",
            "\u001b[34m\u001b[1mtrain: \u001b[0mWARNING ⚠️ /content/random-chess-detection-1/train/images/WIN_20240221_19_43_04_Pro_jpg.rf.4340ff81f198b75f39edbe9f4c5233f3.jpg: 1 duplicate labels removed\n",
            "\u001b[34m\u001b[1mtrain: \u001b[0mWARNING ⚠️ /content/random-chess-detection-1/train/images/WIN_20240221_19_43_04_Pro_jpg.rf.747633bcee3c454f90369f65e7a8127b.jpg: 1 duplicate labels removed\n",
            "\u001b[34m\u001b[1mtrain: \u001b[0mWARNING ⚠️ /content/random-chess-detection-1/train/images/WIN_20240221_19_43_04_Pro_jpg.rf.cfae3442a93af4228536ff2fbf6a1637.jpg: 1 duplicate labels removed\n",
            "\u001b[34m\u001b[1mtrain: \u001b[0mWARNING ⚠️ /content/random-chess-detection-1/train/images/WIN_20240221_20_41_52_Pro_jpg.rf.ad053d2013b659b9229490b30057962e.jpg: 1 duplicate labels removed\n",
            "\u001b[34m\u001b[1mtrain: \u001b[0mWARNING ⚠️ /content/random-chess-detection-1/train/images/WIN_20240221_20_41_52_Pro_jpg.rf.b110681f81eb739662c150bddccc3e62.jpg: 1 duplicate labels removed\n",
            "\u001b[34m\u001b[1mtrain: \u001b[0mWARNING ⚠️ /content/random-chess-detection-1/train/images/WIN_20240221_20_41_52_Pro_jpg.rf.bf7525f415b22bacb420a05cdae6e6f5.jpg: 1 duplicate labels removed\n",
            "\u001b[34m\u001b[1mtrain: \u001b[0mNew cache created: /content/random-chess-detection-1/train/labels.cache\n",
            "\u001b[34m\u001b[1malbumentations: \u001b[0mBlur(p=0.01, blur_limit=(3, 7)), MedianBlur(p=0.01, blur_limit=(3, 7)), ToGray(p=0.01), CLAHE(p=0.01, clip_limit=(1, 4.0), tile_grid_size=(8, 8))\n",
            "\u001b[34m\u001b[1mval: \u001b[0mScanning /content/random-chess-detection-1/valid/labels... 635 images, 0 backgrounds, 0 corrupt: 100% 635/635 [00:00<00:00, 1000.46it/s]\n",
            "\u001b[34m\u001b[1mval: \u001b[0mNew cache created: /content/random-chess-detection-1/valid/labels.cache\n",
            "Plotting labels to /content/drive/MyDrive/saved/train/labels.jpg... \n",
            "\u001b[34m\u001b[1moptimizer:\u001b[0m 'optimizer=auto' found, ignoring 'lr0=0.01' and 'momentum=0.937' and determining best 'optimizer', 'lr0' and 'momentum' automatically... \n",
            "\u001b[34m\u001b[1moptimizer:\u001b[0m AdamW(lr=0.000588, momentum=0.9) with parameter groups 57 weight(decay=0.0), 64 weight(decay=0.0005), 63 bias(decay=0.0)\n",
            "\u001b[34m\u001b[1mTensorBoard: \u001b[0mmodel graph visualization added ✅\n",
            "Image sizes 800 train, 800 val\n",
            "Using 2 dataloader workers\n",
            "Logging results to \u001b[1m/content/drive/MyDrive/saved/train\u001b[0m\n",
            "Starting training for 25 epochs...\n",
            "\n",
            "      Epoch    GPU_mem   box_loss   cls_loss   dfl_loss  Instances       Size\n",
            "       1/25      6.98G      0.787      1.108     0.9284        172        800: 100% 476/476 [06:29<00:00,  1.22it/s]\n",
            "                 Class     Images  Instances      Box(P          R      mAP50  mAP50-95): 100% 20/20 [00:21<00:00,  1.05s/it]\n",
            "                   all        635       5153      0.955      0.972      0.985       0.84\n",
            "\n",
            "      Epoch    GPU_mem   box_loss   cls_loss   dfl_loss  Instances       Size\n",
            "       2/25      7.47G     0.6242     0.4185     0.8638        117        800: 100% 476/476 [06:21<00:00,  1.25it/s]\n",
            "                 Class     Images  Instances      Box(P          R      mAP50  mAP50-95): 100% 20/20 [00:18<00:00,  1.09it/s]\n",
            "                   all        635       5153      0.977      0.977      0.991      0.845\n",
            "\n",
            "      Epoch    GPU_mem   box_loss   cls_loss   dfl_loss  Instances       Size\n",
            "       3/25      7.16G     0.5959     0.3729     0.8569        141        800: 100% 476/476 [06:19<00:00,  1.26it/s]\n",
            "                 Class     Images  Instances      Box(P          R      mAP50  mAP50-95): 100% 20/20 [00:18<00:00,  1.11it/s]\n",
            "                   all        635       5153      0.986      0.989      0.994      0.868\n",
            "\n",
            "      Epoch    GPU_mem   box_loss   cls_loss   dfl_loss  Instances       Size\n",
            "       4/25      8.31G      0.573     0.3456     0.8523        185        800: 100% 476/476 [06:17<00:00,  1.26it/s]\n",
            "                 Class     Images  Instances      Box(P          R      mAP50  mAP50-95): 100% 20/20 [00:18<00:00,  1.07it/s]\n",
            "                   all        635       5153      0.993      0.994      0.994      0.875\n",
            "\n",
            "      Epoch    GPU_mem   box_loss   cls_loss   dfl_loss  Instances       Size\n",
            "       5/25      7.38G      0.551     0.3191     0.8451        168        800: 100% 476/476 [06:16<00:00,  1.27it/s]\n",
            "                 Class     Images  Instances      Box(P          R      mAP50  mAP50-95): 100% 20/20 [00:19<00:00,  1.03it/s]\n",
            "                   all        635       5153      0.992      0.998      0.994      0.887\n",
            "\n",
            "      Epoch    GPU_mem   box_loss   cls_loss   dfl_loss  Instances       Size\n",
            "       6/25      6.98G     0.5338      0.305     0.8429        139        800: 100% 476/476 [06:15<00:00,  1.27it/s]\n",
            "                 Class     Images  Instances      Box(P          R      mAP50  mAP50-95): 100% 20/20 [00:19<00:00,  1.02it/s]\n",
            "                   all        635       5153      0.995      0.999      0.994       0.89\n",
            "\n",
            "      Epoch    GPU_mem   box_loss   cls_loss   dfl_loss  Instances       Size\n",
            "       7/25      7.65G     0.5211     0.2952      0.839        174        800: 100% 476/476 [06:14<00:00,  1.27it/s]\n",
            "                 Class     Images  Instances      Box(P          R      mAP50  mAP50-95): 100% 20/20 [00:18<00:00,  1.07it/s]\n",
            "                   all        635       5153      0.996      0.995      0.994      0.901\n",
            "\n",
            "      Epoch    GPU_mem   box_loss   cls_loss   dfl_loss  Instances       Size\n",
            "       8/25      7.47G     0.5141     0.2837     0.8358        107        800: 100% 476/476 [06:16<00:00,  1.27it/s]\n",
            "                 Class     Images  Instances      Box(P          R      mAP50  mAP50-95): 100% 20/20 [00:17<00:00,  1.12it/s]\n",
            "                   all        635       5153      0.995      0.999      0.994        0.9\n",
            "\n",
            "      Epoch    GPU_mem   box_loss   cls_loss   dfl_loss  Instances       Size\n",
            "       9/25      8.03G     0.4999     0.2762      0.834        165        800: 100% 476/476 [06:17<00:00,  1.26it/s]\n",
            "                 Class     Images  Instances      Box(P          R      mAP50  mAP50-95): 100% 20/20 [00:18<00:00,  1.09it/s]\n",
            "                   all        635       5153      0.991      0.992      0.994      0.903\n",
            "\n",
            "      Epoch    GPU_mem   box_loss   cls_loss   dfl_loss  Instances       Size\n",
            "      10/25      7.55G     0.4935     0.2726     0.8335         40        800: 100% 476/476 [06:16<00:00,  1.26it/s]\n",
            "                 Class     Images  Instances      Box(P          R      mAP50  mAP50-95): 100% 20/20 [00:18<00:00,  1.10it/s]\n",
            "                   all        635       5153      0.994      0.994      0.995      0.905\n",
            "\n",
            "      Epoch    GPU_mem   box_loss   cls_loss   dfl_loss  Instances       Size\n",
            "      11/25      7.51G     0.4851     0.2666     0.8303        180        800: 100% 476/476 [06:25<00:00,  1.23it/s]\n",
            "                 Class     Images  Instances      Box(P          R      mAP50  mAP50-95): 100% 20/20 [00:17<00:00,  1.12it/s]\n",
            "                   all        635       5153      0.995      0.998      0.994      0.906\n",
            "\n",
            "      Epoch    GPU_mem   box_loss   cls_loss   dfl_loss  Instances       Size\n",
            "      12/25      7.74G     0.4752     0.2586     0.8284        173        800: 100% 476/476 [06:18<00:00,  1.26it/s]\n",
            "                 Class     Images  Instances      Box(P          R      mAP50  mAP50-95): 100% 20/20 [00:17<00:00,  1.11it/s]\n",
            "                   all        635       5153      0.998      0.998      0.995      0.906\n",
            "\n",
            "      Epoch    GPU_mem   box_loss   cls_loss   dfl_loss  Instances       Size\n",
            "      13/25         8G      0.468     0.2558     0.8288        198        800: 100% 476/476 [06:17<00:00,  1.26it/s]\n",
            "                 Class     Images  Instances      Box(P          R      mAP50  mAP50-95): 100% 20/20 [00:17<00:00,  1.12it/s]\n",
            "                   all        635       5153      0.996      0.998      0.994      0.915\n",
            "\n",
            "      Epoch    GPU_mem   box_loss   cls_loss   dfl_loss  Instances       Size\n",
            "      14/25      8.02G     0.4619     0.2502     0.8267         76        800: 100% 476/476 [06:15<00:00,  1.27it/s]\n",
            "                 Class     Images  Instances      Box(P          R      mAP50  mAP50-95): 100% 20/20 [00:19<00:00,  1.02it/s]\n",
            "                   all        635       5153      0.997      0.999      0.994      0.917\n",
            "\n",
            "      Epoch    GPU_mem   box_loss   cls_loss   dfl_loss  Instances       Size\n",
            "      15/25      7.48G     0.4528     0.2427     0.8242        132        800: 100% 476/476 [06:19<00:00,  1.25it/s]\n",
            "                 Class     Images  Instances      Box(P          R      mAP50  mAP50-95): 100% 20/20 [00:17<00:00,  1.13it/s]\n",
            "                   all        635       5153      0.997      0.999      0.995      0.921\n",
            "Closing dataloader mosaic\n",
            "\u001b[34m\u001b[1malbumentations: \u001b[0mBlur(p=0.01, blur_limit=(3, 7)), MedianBlur(p=0.01, blur_limit=(3, 7)), ToGray(p=0.01), CLAHE(p=0.01, clip_limit=(1, 4.0), tile_grid_size=(8, 8))\n",
            "\n",
            "      Epoch    GPU_mem   box_loss   cls_loss   dfl_loss  Instances       Size\n",
            "      16/25      6.55G     0.4562      0.231     0.8131         66        800: 100% 476/476 [06:08<00:00,  1.29it/s]\n",
            "                 Class     Images  Instances      Box(P          R      mAP50  mAP50-95): 100% 20/20 [00:18<00:00,  1.10it/s]\n",
            "                   all        635       5153      0.996      0.999      0.994      0.914\n",
            "\n",
            "      Epoch    GPU_mem   box_loss   cls_loss   dfl_loss  Instances       Size\n",
            "      17/25      6.56G     0.4434     0.2214     0.8095        100        800: 100% 476/476 [06:04<00:00,  1.31it/s]\n",
            "                 Class     Images  Instances      Box(P          R      mAP50  mAP50-95): 100% 20/20 [00:17<00:00,  1.11it/s]\n",
            "                   all        635       5153      0.998          1      0.994      0.924\n",
            "\n",
            "      Epoch    GPU_mem   box_loss   cls_loss   dfl_loss  Instances       Size\n",
            "      18/25      6.48G     0.4332     0.2164     0.8074         67        800: 100% 476/476 [06:03<00:00,  1.31it/s]\n",
            "                 Class     Images  Instances      Box(P          R      mAP50  mAP50-95): 100% 20/20 [00:17<00:00,  1.12it/s]\n",
            "                   all        635       5153      0.997      0.999      0.995      0.927\n",
            "\n",
            "      Epoch    GPU_mem   box_loss   cls_loss   dfl_loss  Instances       Size\n",
            "      19/25      6.57G     0.4246      0.212     0.8057         46        800: 100% 476/476 [06:02<00:00,  1.31it/s]\n",
            "                 Class     Images  Instances      Box(P          R      mAP50  mAP50-95): 100% 20/20 [00:18<00:00,  1.08it/s]\n",
            "                   all        635       5153      0.998      0.999      0.995      0.931\n",
            "\n",
            "      Epoch    GPU_mem   box_loss   cls_loss   dfl_loss  Instances       Size\n",
            "      20/25      6.56G     0.4182     0.2094     0.8036        105        800: 100% 476/476 [06:01<00:00,  1.32it/s]\n",
            "                 Class     Images  Instances      Box(P          R      mAP50  mAP50-95): 100% 20/20 [00:19<00:00,  1.05it/s]\n",
            "                   all        635       5153      0.998      0.999      0.995      0.931\n",
            "\n",
            "      Epoch    GPU_mem   box_loss   cls_loss   dfl_loss  Instances       Size\n",
            "      21/25      6.56G     0.4104     0.2043     0.8025         73        800: 100% 476/476 [06:03<00:00,  1.31it/s]\n",
            "                 Class     Images  Instances      Box(P          R      mAP50  mAP50-95): 100% 20/20 [00:19<00:00,  1.02it/s]\n",
            "                   all        635       5153      0.998          1      0.995       0.93\n",
            "\n",
            "      Epoch    GPU_mem   box_loss   cls_loss   dfl_loss  Instances       Size\n",
            "      22/25      6.56G     0.4014     0.1973     0.8012        105        800: 100% 476/476 [06:01<00:00,  1.32it/s]\n",
            "                 Class     Images  Instances      Box(P          R      mAP50  mAP50-95): 100% 20/20 [00:19<00:00,  1.03it/s]\n",
            "                   all        635       5153      0.998          1      0.995      0.934\n",
            "\n",
            "      Epoch    GPU_mem   box_loss   cls_loss   dfl_loss  Instances       Size\n",
            "      23/25      6.56G     0.3951     0.1936      0.799         46        800: 100% 476/476 [06:02<00:00,  1.31it/s]\n",
            "                 Class     Images  Instances      Box(P          R      mAP50  mAP50-95): 100% 20/20 [00:18<00:00,  1.11it/s]\n",
            "                   all        635       5153      0.998          1      0.995      0.936\n",
            "\n",
            "      Epoch    GPU_mem   box_loss   cls_loss   dfl_loss  Instances       Size\n",
            "      24/25       6.6G      0.387     0.1891     0.7983        110        800: 100% 476/476 [06:01<00:00,  1.32it/s]\n",
            "                 Class     Images  Instances      Box(P          R      mAP50  mAP50-95): 100% 20/20 [00:17<00:00,  1.12it/s]\n",
            "                   all        635       5153      0.998          1      0.995      0.937\n",
            "\n",
            "      Epoch    GPU_mem   box_loss   cls_loss   dfl_loss  Instances       Size\n",
            "      25/25      6.56G     0.3784     0.1847     0.7953         54        800: 100% 476/476 [06:03<00:00,  1.31it/s]\n",
            "                 Class     Images  Instances      Box(P          R      mAP50  mAP50-95): 100% 20/20 [00:17<00:00,  1.13it/s]\n",
            "                   all        635       5153      0.998          1      0.995      0.939\n",
            "\n",
            "25 epochs completed in 2.740 hours.\n",
            "Optimizer stripped from /content/drive/MyDrive/saved/train/weights/last.pt, 22.5MB\n",
            "Optimizer stripped from /content/drive/MyDrive/saved/train/weights/best.pt, 22.5MB\n",
            "\n",
            "Validating /content/drive/MyDrive/saved/train/weights/best.pt...\n",
            "Ultralytics YOLOv8.1.23 🚀 Python-3.10.12 torch-2.1.0+cu121 CUDA:0 (Tesla T4, 15102MiB)\n",
            "Model summary (fused): 168 layers, 11130615 parameters, 0 gradients, 28.5 GFLOPs\n",
            "                 Class     Images  Instances      Box(P          R      mAP50  mAP50-95): 100% 20/20 [00:20<00:00,  1.03s/it]\n",
            "                   all        635       5153      0.998          1      0.995       0.94\n",
            "      b-bishoprotation        635        259      0.998          1      0.995      0.936\n",
            "        b-kingrotation        635        195      0.994          1       0.99      0.929\n",
            "      b-knightrotation        635        272      0.999          1      0.995      0.945\n",
            "        b-pawnrotation        635       1190      0.997          1      0.995      0.945\n",
            "       b-queenrotation        635        169          1      0.999      0.995      0.908\n",
            "        b-rookrotation        635        358      0.996          1      0.995      0.947\n",
            "         boardrotation        635        632      0.995          1      0.995      0.995\n",
            "      w-bishoprotation        635        306      0.999          1      0.995      0.916\n",
            "        w-kingrotation        635        220      0.998          1      0.995      0.918\n",
            "      w-knightrotation        635        201      0.998          1      0.995      0.949\n",
            "        w-pawnrotation        635        936      0.998      0.999      0.995      0.949\n",
            "       w-queenrotation        635        169          1      0.999      0.995      0.916\n",
            "        w-rookrotation        635        246      0.999          1      0.995      0.962\n",
            "Speed: 0.4ms preprocess, 4.3ms inference, 0.0ms loss, 3.4ms postprocess per image\n",
            "Results saved to \u001b[1m/content/drive/MyDrive/saved/train\u001b[0m\n",
            "💡 Learn more at https://docs.ultralytics.com/modes/train\n"
          ]
        }
      ]
    },
    {
      "cell_type": "markdown",
      "source": [
        "# Validating the model"
      ],
      "metadata": {
        "id": "gQl9x2Sl3jH9"
      }
    },
    {
      "cell_type": "code",
      "source": [
        "#!yolo task=detect mode=val model=/content/drive/MyDrive/saved/train2/weights/whites.pt data={dataset.location}/data.yaml\n",
        "!yolo task=detect mode=val model=/content/drive/MyDrive/saved/train/weights/random-white-gray.pt data={dataset.location}/data.yaml\n"
      ],
      "metadata": {
        "id": "Aby7_lT3nV7R",
        "colab": {
          "base_uri": "https://localhost:8080/"
        },
        "outputId": "01363caa-c72d-4efd-f9fa-8295a6ee1dce"
      },
      "execution_count": null,
      "outputs": [
        {
          "output_type": "stream",
          "name": "stdout",
          "text": [
            "Ultralytics YOLOv8.1.23 🚀 Python-3.10.12 torch-2.1.0+cu121 CUDA:0 (Tesla T4, 15102MiB)\n",
            "Model summary (fused): 168 layers, 11130615 parameters, 0 gradients, 28.5 GFLOPs\n",
            "\u001b[34m\u001b[1mval: \u001b[0mScanning /content/random-chess-detection-1/valid/labels.cache... 635 images, 0 backgrounds, 0 corrupt: 100% 635/635 [00:00<?, ?it/s]\n",
            "                 Class     Images  Instances      Box(P          R      mAP50  mAP50-95): 100% 40/40 [00:24<00:00,  1.64it/s]\n",
            "                   all        635       5153      0.998          1      0.995      0.944\n",
            "      b-bishoprotation        635        259      0.998          1      0.995      0.941\n",
            "        b-kingrotation        635        195      0.994          1       0.99      0.933\n",
            "      b-knightrotation        635        272      0.999          1      0.995      0.957\n",
            "        b-pawnrotation        635       1190      0.997          1      0.995      0.954\n",
            "       b-queenrotation        635        169          1      0.999      0.995       0.92\n",
            "        b-rookrotation        635        358      0.996          1      0.995      0.951\n",
            "         boardrotation        635        632      0.995          1      0.995      0.995\n",
            "      w-bishoprotation        635        306      0.999          1      0.995      0.913\n",
            "        w-kingrotation        635        220      0.998          1      0.995      0.918\n",
            "      w-knightrotation        635        201      0.998          1      0.995      0.954\n",
            "        w-pawnrotation        635        936      0.998      0.999      0.995      0.953\n",
            "       w-queenrotation        635        169          1      0.999      0.995      0.922\n",
            "        w-rookrotation        635        246      0.999          1      0.995      0.962\n",
            "Speed: 1.0ms preprocess, 8.7ms inference, 0.0ms loss, 3.8ms postprocess per image\n",
            "Results saved to \u001b[1mruns/detect/val\u001b[0m\n",
            "💡 Learn more at https://docs.ultralytics.com/modes/val\n"
          ]
        }
      ]
    },
    {
      "cell_type": "markdown",
      "source": [
        "# Running inference"
      ],
      "metadata": {
        "id": "Ac2j-bLC--ky"
      }
    },
    {
      "cell_type": "code",
      "source": [
        "# RUN INFERENCE\n",
        "# Update the file path to point to the desired location of the YOLO model .pt file\n",
        "model_path = '/content/drive/MyDrive/saved/train11/weights/stratified-white-gray.pt'\n",
        "\n",
        "# Initialize the YOLO model using the updated file path\n",
        "model = YOLO(model_path)\n",
        "\n",
        "# Perform object detection using the updated model\n",
        "#results = model.predict(source='/content/Chess-Pieces-25/test/images')\n",
        "# halfwhites run: results = model.predict(source='/content/aerial-chess-1/test/images/WIN_20240207_21_29_30_Pro_jpg.rf.9dbad7fb47070c3070e9526e60892e9a.jpg', save=True)\n",
        "# full white run\n",
        "\n",
        "#results = model.predict(source='/content/aerial-chess-2/test/images/WIN_20240212_21_26_40_Pro_jpg.rf.bea252199d659ec916b46bb4756e27b7.jpg', save=True)\n",
        "#results = model.predict(source='/content/aerial-chess-2/test/images/WIN_20240212_21_25_41_Pro_jpg.rf.5765db2f7baea10f7254d7e2bdbd9705.jpg', save=True)\n",
        "#results = model.predict(source='/content/aerial-chess-2/test/images/WIN_20240212_21_30_16_Pro-2-_jpg.rf.7bdc663c91c1bbd17ab222041507a826.jpg', save=True)\n",
        "#results = model.predict(source='/content/aerial-chess-2/test/images/WIN_20240212_21_34_25_Pro_jpg.rf.302616ba10ccc21109fabd92cbbb549b.jpg', save=True)\n",
        "\n",
        "results = model.predict(source='/content/drive/MyDrive/Stratified/Stratified_White_Gray_Dataset/Test/WIN_20240304_19_18_58_Pro.jpg', save=True)"
      ],
      "metadata": {
        "colab": {
          "base_uri": "https://localhost:8080/"
        },
        "id": "3QRF_kb7F23k",
        "outputId": "c605d695-60ec-409c-b40c-1cae492eaefa"
      },
      "execution_count": null,
      "outputs": [
        {
          "output_type": "stream",
          "name": "stdout",
          "text": [
            "\n",
            "image 1/1 /content/drive/MyDrive/Stratified/Stratified_White_Gray_Dataset/Test/WIN_20240304_19_18_58_Pro.jpg: 480x800 2 b-bishops, 1 b-king, 2 b-knights, 8 b-pawns, 1 b-queen, 2 b-rooks, 1 board, 2 w-bishops, 1 w-king, 2 w-knights, 8 w-pawns, 1 w-queen, 2 w-rooks, 72.8ms\n",
            "Speed: 19.6ms preprocess, 72.8ms inference, 2.2ms postprocess per image at shape (1, 3, 480, 800)\n",
            "Results saved to \u001b[1mruns/detect/predict5\u001b[0m\n"
          ]
        }
      ]
    },
    {
      "cell_type": "code",
      "source": [
        "# SAVE THE INFERENCE YOLO OUTPUT IMAGES TO GOOGLE DRIVE\n",
        "# RUN THIS CELL AFTER YOU CREATED A NEW MODEL SO THAT THIS MODEL PERSISTS ACROSS FUTURE SESSIONS OF GOOGLE COLAB. ONLY RUN THIS WHEN MOVING THE NEW RUNS FOLDER.\n",
        "import shutil\n",
        "\n",
        "# Specify the paths\n",
        "source_folder = '/content/runs/detect'  # Replace with the local path of your folder\n",
        "destination_drive = '/content/drive/MyDrive/saved/inference'   # Replace with your desired Google Drive location\n",
        "\n",
        "# Move the folder to Google Drive\n",
        "shutil.move(source_folder, destination_drive)"
      ],
      "metadata": {
        "colab": {
          "base_uri": "https://localhost:8080/",
          "height": 35
        },
        "id": "NaDk7X0kGgJK",
        "outputId": "01d4ff4f-4059-439c-f695-53044bfb67f7"
      },
      "execution_count": null,
      "outputs": [
        {
          "output_type": "execute_result",
          "data": {
            "text/plain": [
              "'/content/drive/MyDrive/saved/inference'"
            ],
            "application/vnd.google.colaboratory.intrinsic+json": {
              "type": "string"
            }
          },
          "metadata": {},
          "execution_count": 10
        }
      ]
    },
    {
      "cell_type": "markdown",
      "source": [
        "# Extracting YOLO output\n",
        "\n",
        "Extract the output from custom-trained Ultralytics YOLOv8 output\n",
        "\n",
        "The following code sets up to produce a text file"
      ],
      "metadata": {
        "id": "xhRpgrjI_V3b"
      }
    },
    {
      "cell_type": "code",
      "source": [
        "# STORE THE RESULTS\n",
        "# Extract the output from custom-trained Ultralytics YOLOv8 output\n",
        "\n",
        "for diane_result in results:\n",
        "  # Split the string by '/'\n",
        "  fileNamePath = diane_result.path\n",
        "  parts = fileNamePath.split('/')\n",
        "  # Get the last part which contains the file name\n",
        "  file_name = parts[-1]\n",
        "  # SLICING\n",
        "  print ('file name: ', file_name)\n",
        "  boxes = diane_result.boxes  # Create Box object. Boxes object for bbox outputs\n",
        "  print ('xyxy coordinates: ', boxes.xyxy)\n",
        "  print(type(boxes.xyxy))\n",
        "  print ('confidence rate: ', boxes.conf)\n",
        "  print ('class name: ', boxes.cls)\n",
        "  print (boxes.xyxyn)"
      ],
      "metadata": {
        "colab": {
          "base_uri": "https://localhost:8080/"
        },
        "id": "4_lZwmgLG_gU",
        "outputId": "7d230adc-ed7f-4200-8b8e-1950b33709b8"
      },
      "execution_count": null,
      "outputs": [
        {
          "output_type": "stream",
          "name": "stdout",
          "text": [
            "file name:  WIN_20240304_19_18_58_Pro.jpg\n",
            "xyxy coordinates:  tensor([[ 518.5357,  105.4212, 1383.4055,  972.0563],\n",
            "        [ 968.7999,  266.9184, 1027.2419,  334.0478],\n",
            "        [ 966.2567,  666.5179, 1022.4059,  726.7371],\n",
            "        [1166.1210,  861.1334, 1218.7379,  924.4923],\n",
            "        [ 673.9385,  154.0345,  733.0201,  218.2929],\n",
            "        [1065.7251,  570.7961, 1116.2743,  620.5695],\n",
            "        [1178.3306,  269.6561, 1233.0710,  324.3505],\n",
            "        [ 677.4494,  858.7459,  735.4850,  924.5429],\n",
            "        [ 546.9959,  139.1569,  632.0518,  221.3523],\n",
            "        [ 758.2723,  151.3987,  830.9456,  227.3768],\n",
            "        [1066.4695,  153.0081, 1138.0762,  228.7300],\n",
            "        [1265.8591,  660.0791, 1339.5753,  722.0930],\n",
            "        [1273.5112,  149.3601, 1351.4485,  227.1409],\n",
            "        [ 672.7525,  668.6711,  731.1196,  722.5224],\n",
            "        [ 547.8330,  361.3055,  627.6331,  424.1643],\n",
            "        [ 871.3150,  473.6402,  920.7028,  523.6343],\n",
            "        [ 553.3124,  850.3185,  638.8500,  934.0967],\n",
            "        [1178.4885,  366.7173, 1233.3748,  418.0674],\n",
            "        [1298.4308,  575.9141, 1364.6646,  627.9353],\n",
            "        [ 673.7357,  373.2096,  733.3521,  425.0376],\n",
            "        [ 670.9290,  765.9217,  728.7515,  825.0639],\n",
            "        [ 769.9651,  574.9845,  822.8316,  625.9947],\n",
            "        [1183.6807,  167.3367, 1239.5255,  227.3297],\n",
            "        [1059.3025,  864.0405, 1125.9355,  936.5792],\n",
            "        [1172.4014,  663.4072, 1225.5746,  714.0369],\n",
            "        [1266.2921,  861.1368, 1342.1019,  939.4099],\n",
            "        [ 644.3279,  464.6586,  704.1877,  518.6755],\n",
            "        [1170.3105,  763.2026, 1221.6970,  818.7674],\n",
            "        [ 667.9790,  259.1775,  727.5692,  317.5392],\n",
            "        [ 755.2952,  856.2687,  828.7538,  931.4952],\n",
            "        [1296.1140,  475.4774, 1358.7759,  524.6628],\n",
            "        [1171.2611,  481.9583, 1225.3043,  532.2349],\n",
            "        [ 970.1896,  359.3744, 1029.8954,  424.3298]], device='cuda:0')\n",
            "<class 'torch.Tensor'>\n",
            "confidence rate:  tensor([0.9813, 0.9486, 0.9449, 0.9448, 0.9443, 0.9440, 0.9423, 0.9411, 0.9404, 0.9402, 0.9401, 0.9401, 0.9395, 0.9393, 0.9392, 0.9391, 0.9379, 0.9370, 0.9357, 0.9353, 0.9340, 0.9338, 0.9333, 0.9332, 0.9315, 0.9307, 0.9307, 0.9303, 0.9303, 0.9300, 0.9272, 0.9212, 0.8079], device='cuda:0')\n",
            "class name:  tensor([ 6.,  7.,  0.,  3., 10.,  3.,  3., 10., 12.,  9.,  2.,  0.,  5., 10.,  7., 10., 12.,  3.,  1., 10., 10., 10.,  3.,  2.,  3.,  5., 11.,  3., 10.,  9.,  4.,  3.,  8.], device='cuda:0')\n",
            "tensor([[0.2701, 0.0976, 0.7205, 0.9001],\n",
            "        [0.5046, 0.2471, 0.5350, 0.3093],\n",
            "        [0.5033, 0.6171, 0.5325, 0.6729],\n",
            "        [0.6074, 0.7973, 0.6348, 0.8560],\n",
            "        [0.3510, 0.1426, 0.3818, 0.2021],\n",
            "        [0.5551, 0.5285, 0.5814, 0.5746],\n",
            "        [0.6137, 0.2497, 0.6422, 0.3003],\n",
            "        [0.3528, 0.7951, 0.3831, 0.8561],\n",
            "        [0.2849, 0.1288, 0.3292, 0.2050],\n",
            "        [0.3949, 0.1402, 0.4328, 0.2105],\n",
            "        [0.5555, 0.1417, 0.5927, 0.2118],\n",
            "        [0.6593, 0.6112, 0.6977, 0.6686],\n",
            "        [0.6633, 0.1383, 0.7039, 0.2103],\n",
            "        [0.3504, 0.6191, 0.3808, 0.6690],\n",
            "        [0.2853, 0.3345, 0.3269, 0.3927],\n",
            "        [0.4538, 0.4386, 0.4795, 0.4848],\n",
            "        [0.2882, 0.7873, 0.3327, 0.8649],\n",
            "        [0.6138, 0.3396, 0.6424, 0.3871],\n",
            "        [0.6763, 0.5333, 0.7108, 0.5814],\n",
            "        [0.3509, 0.3456, 0.3820, 0.3936],\n",
            "        [0.3494, 0.7092, 0.3796, 0.7639],\n",
            "        [0.4010, 0.5324, 0.4286, 0.5796],\n",
            "        [0.6165, 0.1549, 0.6456, 0.2105],\n",
            "        [0.5517, 0.8000, 0.5864, 0.8672],\n",
            "        [0.6106, 0.6143, 0.6383, 0.6611],\n",
            "        [0.6595, 0.7973, 0.6990, 0.8698],\n",
            "        [0.3356, 0.4302, 0.3668, 0.4803],\n",
            "        [0.6095, 0.7067, 0.6363, 0.7581],\n",
            "        [0.3479, 0.2400, 0.3789, 0.2940],\n",
            "        [0.3934, 0.7928, 0.4316, 0.8625],\n",
            "        [0.6751, 0.4403, 0.7077, 0.4858],\n",
            "        [0.6100, 0.4463, 0.6382, 0.4928],\n",
            "        [0.5053, 0.3328, 0.5364, 0.3929]], device='cuda:0')\n"
          ]
        }
      ]
    },
    {
      "cell_type": "markdown",
      "source": [
        "The following code down below actually produces the text file"
      ],
      "metadata": {
        "id": "mFQQt3IVA38E"
      }
    },
    {
      "cell_type": "code",
      "source": [
        "# Write the extracted YOLO output to a text file to send to Diane\n",
        "\n",
        "import numpy as np\n",
        "\n",
        "# Define the class_mapping dictionary\n",
        "class_mapping = {\n",
        "    0: 'b-bishop',\n",
        "    1: 'b-king',\n",
        "    2: 'b-knight',\n",
        "    3: 'b-pawn',\n",
        "    4: 'b-queen',\n",
        "    5: 'b-rook',\n",
        "    6: 'board',\n",
        "    7: 'w-bishop',\n",
        "    8: 'w-king',\n",
        "    9: 'w-knight',\n",
        "   10: 'w-pawn',\n",
        "   11: 'w-queen',\n",
        "   12: 'w-rook'\n",
        "}\n",
        "\n",
        "# Open a text file for writing\n",
        "with open('4_gray_white.txt', 'w') as file:\n",
        "    # Write the file name to the text file\n",
        "    file.write('file name:\\n')\n",
        "    file.write(file_name + '\\n')  # Write the file name and add a newline character\n",
        "\n",
        "    # Write the xy coordinates to the text file\n",
        "    file.write('xyxy coordinates:\\n')\n",
        "    np.savetxt(file, boxes.xyxy.cpu().numpy(), fmt='%f')\n",
        "    file.write('\\n')\n",
        "\n",
        "    # Write the confidence rates to the text file\n",
        "    file.write('confidence rate:\\n')\n",
        "    np.savetxt(file, boxes.conf.cpu().numpy(), fmt='%f')\n",
        "    file.write('\\n')\n",
        "\n",
        "    # Write the class names and their respective numbers to the text file\n",
        "    file.write('class number - class name:\\n')\n",
        "    class_indices = boxes.cls.cpu().numpy().astype(int)  # Convert class indices to integers\n",
        "    for class_index in class_indices:\n",
        "        class_name = class_mapping[class_index]\n",
        "        file.write(f'{class_index} - {class_name}\\n')"
      ],
      "metadata": {
        "id": "7bRZCnLIHYsu"
      },
      "execution_count": null,
      "outputs": []
    },
    {
      "cell_type": "markdown",
      "source": [
        "The following code down below saves a file/folder to another folder"
      ],
      "metadata": {
        "id": "rrrnpvtdBMVH"
      }
    },
    {
      "cell_type": "code",
      "source": [
        "# SAVE THE DIANE TEXTFILE WE WROTE TO\n",
        "# RUN THIS CELL AFTER YOU CREATED A NEW MODEL SO THAT THIS MODEL PERSISTS ACROSS FUTURE SESSIONS OF GOOGLE COLAB. ONLY RUN THIS WHEN MOVING THE NEW RUNS FOLDER.\n",
        "# import shutil\n",
        "\n",
        "# # Specify the paths\n",
        "# source_folder = ''  # Replace with the local path of your folder\n",
        "# destination_drive = ''   # Replace with your desired Google Drive location\n",
        "\n",
        "# # Move the folder to Google Drive\n",
        "# shutil.move(source_folder, destination_drive)"
      ],
      "metadata": {
        "id": "wyZlOjo1a5_i"
      },
      "execution_count": null,
      "outputs": []
    }
  ]
}